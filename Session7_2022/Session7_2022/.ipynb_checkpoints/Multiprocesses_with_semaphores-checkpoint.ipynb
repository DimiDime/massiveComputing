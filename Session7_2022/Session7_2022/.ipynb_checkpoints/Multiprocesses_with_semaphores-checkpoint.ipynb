{
 "cells": [
  {
   "cell_type": "markdown",
   "metadata": {},
   "source": [
    "# 4th Session: Parallel Processes with Semaphores and Memory Locks\n",
    "\n",
    "In this session we will implements a parallel proceses with sempahores and memory locks"
   ]
  },
  {
   "cell_type": "code",
   "execution_count": null,
   "metadata": {},
   "outputs": [],
   "source": [
    "%matplotlib inline\n",
    "import multiprocessing as mp\n",
    "import numpy as np\n",
    "from PIL import Image\n",
    "import matplotlib.pyplot as plt\n",
    "import matplotlib.image as mpimg\n",
    "from multiprocessing import Semaphore, Lock, Process, Pool\n",
    "from multiprocessing.sharedctypes import Value, Array, RawArray\n",
    "import scipy.io\n",
    "import ctypes\n",
    "import myfunctions4 as my\n",
    "import time"
   ]
  },
  {
   "cell_type": "markdown",
   "metadata": {},
   "source": [
    "In the next cells, we import the importlib module, needed to reload tue updated myfunctions2 module\n",
    "evry time we change the functions"
   ]
  },
  {
   "cell_type": "code",
   "execution_count": null,
   "metadata": {},
   "outputs": [],
   "source": [
    "import importlib"
   ]
  },
  {
   "cell_type": "code",
   "execution_count": null,
   "metadata": {},
   "outputs": [],
   "source": [
    "importlib.reload(my)"
   ]
  },
  {
   "cell_type": "markdown",
   "metadata": {},
   "source": [
    "This first parallel Multiple Instructions, Multiple Data parallel program will try to make deposits and withdraws over a shared memory value, called balance. \n",
    "It will starts with  value of 100.\n",
    "\n",
    "The use of Pool execution is oriented to Single Instruction, Multiple Data parallel processes: We define just one execution function, which will be applied to multiple data.\n",
    "\n",
    "Now, if we will execute a Multiple Instruction, Multiple Data program, we need to use the *multiprocessing.Process* class.\n",
    "\n",
    "In this case, we constructs as many of multiprocessing.Process objects we need, assigning which function will executed in each one of the parallel process, and passing their arguments values\n",
    "\n",
    "After define the Process objects, we start those process with the method start() and each one of them will starts to run.\n",
    "\n",
    "To sinchronyze the execution, we can wait until one parallel process ends using the method join()\n",
    "\n"
   ]
  },
  {
   "cell_type": "code",
   "execution_count": null,
   "metadata": {},
   "outputs": [],
   "source": [
    "# Python program to illustrate  \n",
    "# the concept of race condition \n",
    "# in multiprocessing \n",
    " \n",
    "  \n",
    "# function to withdraw from account \n",
    "\n",
    "  \n",
    "def perform_transactions(): \n",
    "  \n",
    "    # initial balance (in shared memory) \n",
    "    balance = mp.Value('i', 100) \n",
    "  \n",
    "    # creating new processes \n",
    "    p1 = mp.Process(target=my.withdraw, args=(balance,)) \n",
    "    p2 = mp.Process(target=my.deposit, args=(balance,)) \n",
    "  \n",
    "    # starting processes \n",
    "    p1.start() \n",
    "    p2.start() \n",
    "  \n",
    "    # wait until processes are finished \n",
    "    p1.join() \n",
    "    p2.join() \n",
    "  \n",
    "    # print final balance \n",
    "    print(\"Final balance = {}\".format(balance.value)) "
   ]
  },
  {
   "cell_type": "markdown",
   "metadata": {},
   "source": [
    "We will run 10 times the main function \"perform_transactions\".\n",
    "Check 2 things: final value and time used"
   ]
  },
  {
   "cell_type": "code",
   "execution_count": null,
   "metadata": {},
   "outputs": [],
   "source": [
    "start_time=time.time()\n",
    "for _ in range(10): \n",
    "    # perform same transaction process 10 times \n",
    "    perform_transactions()\n",
    "print(\"--- %s seconds ---\" % (time.time() - start_time))\n"
   ]
  },
  {
   "cell_type": "markdown",
   "metadata": {},
   "source": [
    "Here we have a race condition, making several hazzards. In this case, we says: we have a race condition\n",
    "\n",
    "We do not controls the state of the shared variable *balance*\n",
    "Check the execution time"
   ]
  },
  {
   "cell_type": "markdown",
   "metadata": {},
   "source": [
    "### Avoid Race conditions\n",
    "In order to avoid race conditions, we have to use locks.\n",
    "\n",
    "We can use the inner lock properties in the Value object o use a global lock object\n",
    "\n",
    "Now, we create, more or less the same code, using locks:"
   ]
  },
  {
   "cell_type": "code",
   "execution_count": null,
   "metadata": {},
   "outputs": [],
   "source": [
    "def perform_transactions2(): \n",
    "  \n",
    "    # initial balance (in shared memory) \n",
    "    balance = mp.Value('i', 100) \n",
    "  \n",
    "    # creating a lock object \n",
    "    lock = mp.Lock() \n",
    "  \n",
    "    # creating new processes \n",
    "    p1 = mp.Process(target=my.withdraw2, args=(balance,lock)) \n",
    "    p2 = mp.Process(target=my.deposit2, args=(balance,lock)) \n",
    "  \n",
    "    # starting processes \n",
    "    p1.start() \n",
    "    p2.start() \n",
    "  \n",
    "    # wait until processes are finished \n",
    "    p1.join() \n",
    "    p2.join() \n",
    "  \n",
    "    # print final balance \n",
    "    print(\"Final balance = {}\".format(balance.value)) "
   ]
  },
  {
   "cell_type": "markdown",
   "metadata": {},
   "source": [
    "Check, again, the final balance value and the execution time."
   ]
  },
  {
   "cell_type": "code",
   "execution_count": null,
   "metadata": {},
   "outputs": [],
   "source": [
    "start_time=time.time()\n",
    "for _ in range(10): \n",
    "    # perform same transaction process 10 times \n",
    "    perform_transactions2() \n",
    "print(\"--- %s seconds ---\" % (time.time() - start_time))"
   ]
  },
  {
   "cell_type": "markdown",
   "metadata": {},
   "source": [
    "## Practical Work:\n",
    "\n",
    "We need to decode two signals who contains an Stereo transmited signal.\n",
    "\n",
    "The analogic stereo signal is transmited using 2 channels:\n",
    "\n",
    "* The first channel (main channel) transmit the signal: $M(t) = \\frac{L(t)+R(t)}{2}$\n",
    "* The second channel (secondary) transmit the signal: $S(t) = \\frac{L(t)-R(t)}{2}$\n",
    "\n",
    "You have 2 files (sound1.mat and sound2.mat), which contains the master channel and secondary channel of an stereo transmision."
   ]
  },
  {
   "cell_type": "code",
   "execution_count": null,
   "metadata": {},
   "outputs": [],
   "source": [
    "sound1=scipy.io.loadmat('sound1.mat')\n",
    "sound2=scipy.io.loadmat('sound2.mat')"
   ]
  },
  {
   "cell_type": "code",
   "execution_count": null,
   "metadata": {},
   "outputs": [],
   "source": [
    "s1=sound1[\"sound1\"]\n",
    "s2=sound2[\"sound2\"]"
   ]
  },
  {
   "cell_type": "code",
   "execution_count": null,
   "metadata": {},
   "outputs": [],
   "source": [
    "s1.shape"
   ]
  },
  {
   "cell_type": "code",
   "execution_count": null,
   "metadata": {},
   "outputs": [],
   "source": [
    "plt.rcParams[\"figure.figsize\"] = [7.50, 3.50]\n",
    "plt.rcParams[\"figure.autolayout\"] = True"
   ]
  },
  {
   "cell_type": "code",
   "execution_count": null,
   "metadata": {},
   "outputs": [],
   "source": [
    "fig, axs = plt.subplots()\n",
    "axs.set_title(\"Signal (R+L)/2\")\n",
    "axs.plot(range(1000), s1[0,0:1000], color='C0')\n",
    "axs.set_xlabel(\"Time\")\n",
    "axs.set_ylabel(\"Amplitude\")\n",
    "\n",
    "plt.show()"
   ]
  },
  {
   "cell_type": "code",
   "execution_count": null,
   "metadata": {},
   "outputs": [],
   "source": [
    "fig, axs = plt.subplots()\n",
    "axs.set_title(\"Signal (L-R)/2\")\n",
    "axs.plot(range(1000), s2[0,0:1000], color='C0')\n",
    "axs.set_xlabel(\"Time\")\n",
    "axs.set_ylabel(\"Amplitude\")\n",
    "\n",
    "plt.show()"
   ]
  },
  {
   "cell_type": "markdown",
   "metadata": {},
   "source": [
    "Your task now is, in the parallel process function:\n",
    "* Create 2 shared memory Arrays where store the recovered signals. Take care about the data type and length of the memory array.\n",
    "* Implements the funcions decode_L and decode_R, where you have to store the recovered signals R and L from the encoded signals S1 and S2. Try the use the maximum number of processors per parallel process. (That means if you have 4 processors, assign 23 tho the p1 and 2 to the p2).\n",
    "* Sinchronize the execution of both process, waiting for the ends.\n",
    "* Once both process end, plot the resulting signals."
   ]
  },
  {
   "cell_type": "code",
   "execution_count": null,
   "metadata": {},
   "outputs": [],
   "source": [
    "shared_data1=<FILL_IN>"
   ]
  },
  {
   "cell_type": "code",
   "execution_count": null,
   "metadata": {},
   "outputs": [],
   "source": [
    "shared_data2=<FILL_IN>"
   ]
  },
  {
   "cell_type": "code",
   "execution_count": null,
   "metadata": {},
   "outputs": [],
   "source": [
    "def parallel_process(sound1,sound2,shared_space_1, shared_space_2):\n",
    "    #takes the number of processors and divide by 2, for fair play\n",
    "    numprocess = int(mp.cpu_count()/2)\n",
    "    #creates a lock instance\n",
    "    lock = mp.Lock()\n",
    "    #defines both processes\n",
    "    p1 = mp.Process(target=my.decode_L, args=(sound1,sound2,shared_space1,numprocess,lock)) \n",
    "    p2 = mp.Process(target=my.decode_R, args=(sound1,sound2,shared_space2,numprocess,lock))\n",
    "    #fires both processes in parallel\n",
    "    p1.start()\n",
    "    p2.start()\n",
    "    \n",
    "    #Now, whe have to wait until both parallel tasks\n",
    "    #<fill code here> to wait both processes end before continues\n",
    "    #Ploting the finalsignals.\n",
    "    #Just plots the first 1000 samples of both images\n",
    "    \n",
    "    #<fill code here tho fire the third process and wait until it ends>\n",
    "    "
   ]
  },
  {
   "cell_type": "code",
   "execution_count": null,
   "metadata": {},
   "outputs": [],
   "source": [
    "parallel_process(sound1,sound2,shared_data1,shared_data2)"
   ]
  },
  {
   "cell_type": "code",
   "execution_count": null,
   "metadata": {},
   "outputs": [],
   "source": []
  }
 ],
 "metadata": {
  "kernelspec": {
   "display_name": "Python 3 (ipykernel)",
   "language": "python",
   "name": "python3"
  },
  "language_info": {
   "codemirror_mode": {
    "name": "ipython",
    "version": 3
   },
   "file_extension": ".py",
   "mimetype": "text/x-python",
   "name": "python",
   "nbconvert_exporter": "python",
   "pygments_lexer": "ipython3",
   "version": "3.9.12"
  }
 },
 "nbformat": 4,
 "nbformat_minor": 4
}
