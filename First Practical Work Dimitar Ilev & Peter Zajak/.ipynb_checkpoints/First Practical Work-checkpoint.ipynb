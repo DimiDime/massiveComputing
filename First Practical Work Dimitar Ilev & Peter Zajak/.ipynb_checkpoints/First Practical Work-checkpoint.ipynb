{
 "cells": [
  {
   "cell_type": "markdown",
   "metadata": {},
   "source": [
    "# First Practical Work\n",
    "\n",
    "## Data Science and Engineering\n",
    "\n",
    "### DESIGN OF AN IMAGE FILTER FUNCTION, PARALLELIZABLE AND SCALABLE"
   ]
  },
  {
   "cell_type": "markdown",
   "metadata": {},
   "source": [
    "**Full name:** \\<Dimitar Ilev\\>\n",
    "    \n",
    "**NIA** :** \\<Peter Zajak\\>"
   ]
  },
  {
   "cell_type": "code",
   "execution_count": null,
   "metadata": {},
   "outputs": [],
   "source": [
    "import numpy as np\n",
    "\n",
    "from PIL import Image\n",
    "import matplotlib.pyplot as plt\n",
    "import matplotlib.image as mpimg\n",
    "import cProfile\n",
    "from multiprocessing.sharedctypes import Value, Array, RawArray\n",
    "from multiprocessing import Process, Lock\n",
    "import ctypes"
   ]
  },
  {
   "cell_type": "code",
   "execution_count": null,
   "metadata": {},
   "outputs": [],
   "source": [
    "import my_functions_p as my\n",
    "import importlib\n",
    "import time"
   ]
  },
  {
   "cell_type": "markdown",
   "metadata": {},
   "source": [
    "### Module 1. Implement a filter function"
   ]
  },
  {
   "cell_type": "code",
   "execution_count": null,
   "metadata": {},
   "outputs": [],
   "source": [
    "F_IMAGE1=\"fence.jpg\" #<DEFINE HERE WHICH IMAGE YOU WANTS TO LOAD\n",
    "F_IMAGE2=\"digits.jpg\"\n",
    "F_IMAGE3=\"hand-x-ray.jpg\"\n",
    "F_IMAGE4=\"cloudsonjupi.jpg\"\n",
    "F_IMAGE5=\"chess.jpg\""
   ]
  },
  {
   "cell_type": "code",
   "execution_count": null,
   "metadata": {},
   "outputs": [],
   "source": [
    "image1= np.array(Image.open(F_IMAGE4)) # Convert image to NumPy array\n",
    "image2= np.array(Image.open(F_IMAGE4))\n",
    "image3= np.array(Image.open(F_IMAGE3))\n",
    "image4= np.array(Image.open(F_IMAGE4))\n",
    "image5= np.array(Image.open(F_IMAGE5))"
   ]
  },
  {
   "cell_type": "code",
   "execution_count": null,
   "metadata": {},
   "outputs": [],
   "source": [
    "filter1=np.array([\n",
    "    [0,0,0,0,0],\n",
    "    [0,0,0,0,0],\n",
    "    [0,0,1,0,0],\n",
    "    [0,0,0,0,0],\n",
    "    [0,0,0,0,0]\n",
    "])\n",
    "filter2=np.array([[0.5, 0 , -0.5]])\n",
    "filter3=np.array([\n",
    "    [0.5],\n",
    "    [0],\n",
    "    [-0.5]\n",
    "    ])\n",
    "\n",
    "filter4=np.array([\n",
    "    [1,0,-1],\n",
    "    [2,0,-2],\n",
    "    [1,0,-1]\n",
    "])\n",
    "filter5=np.array([\n",
    "    [0.00078633,0.00655965,0.01330373,0.00655965,0.00078633],\n",
    "    [0.00655965,0.05472157,0.11098164,0.05472157,0.00655965],\n",
    "    [0.01330373,0.11098164,0.22508352,0.11098164,0.01330373],\n",
    "    [0.00655965,0.05472157,0.11098164,0.05472157,0.00655965],\n",
    "    [0.00078633,0.00655965,0.01330373,0.00655965,0.00078633]\n",
    "])"
   ]
  },
  {
   "cell_type": "code",
   "execution_count": null,
   "metadata": {},
   "outputs": [],
   "source": [
    "# Summarize shape\n",
    "# frow gets value 1, fcols gets the shape of the filter at first position\n",
    "(frows,fcols) = 1,filter2.shape[0] "
   ]
  },
  {
   "cell_type": "code",
   "execution_count": null,
   "metadata": {},
   "outputs": [],
   "source": [
    "NUMPROCESS=4 # Number of cores"
   ]
  },
  {
   "cell_type": "markdown",
   "metadata": {},
   "source": [
    "# AFTER THIS CELL YOU HAVE TO WRITE YOUR CODE\n",
    "\n",
    "After this cell you have to use the preloaded image defined in the F_IMAGE variable, select two of the 5 filter predefined, and using the NUMPROCESS processors, apply the filters to the image and check results.\n",
    "\n",
    "* The first filter is impulse response filter (the image output must be equals to the original one).\n",
    "* The second filter is an edge filter, first order in x axis,  \n",
    "* The third filter is an edge filter, first order in y axis,\n",
    "* the fourth filter is an edge filter, second order, bi-directional\n",
    "* the fifth filter is a blur gausian filter."
   ]
  },
  {
   "cell_type": "code",
   "execution_count": null,
   "metadata": {},
   "outputs": [],
   "source": [
    "#YOUR CODE MUST BE START HERE\n",
    "\n",
    "data_buffer_size=image1.shape[0]*image1.shape[1]*image1.shape[2] # Get the buffered size of the image\n",
    "shared_space= Array(ctypes.c_byte,data_buffer_size) # Parse the image into shared space memory\n",
    "# Same for the other image/s\n",
    "data_buffer_size2 = image2.shape[0]*image2.shape[1]*image2.shape[2]\n",
    "shared_space2= Array(ctypes.c_byte,data_buffer_size2)"
   ]
  },
  {
   "cell_type": "code",
   "execution_count": null,
   "metadata": {},
   "outputs": [],
   "source": [
    "shared_data=my.tonumpyarray(shared_space) # create a shared memory array of type uint8\n",
    "result_matrix1=shared_data.reshape(image1.shape) # reshape the array into the result matrix, withouth changing its values"
   ]
  },
  {
   "cell_type": "code",
   "execution_count": null,
   "metadata": {},
   "outputs": [],
   "source": [
    "# same for the second image\n",
    "shared_data2=my.tonumpyarray(shared_space2)\n",
    "result_matrix2=shared_data2.reshape(image2.shape)\n"
   ]
  },
  {
   "cell_type": "code",
   "execution_count": null,
   "metadata": {},
   "outputs": [],
   "source": [
    "importlib.reload(my) # load my_functions_p.py"
   ]
  },
  {
   "cell_type": "code",
   "execution_count": null,
   "metadata": {},
   "outputs": [],
   "source": [
    "# Apply filter to the image\n",
    "# Write which image and filter to use\n",
    "x=my.image_filter(image1, filter4, NUMPROCESS, shared_space)"
   ]
  },
  {
   "cell_type": "code",
   "execution_count": null,
   "metadata": {},
   "outputs": [],
   "source": [
    "plt.imshow(image1)"
   ]
  },
  {
   "cell_type": "code",
   "execution_count": null,
   "metadata": {},
   "outputs": [],
   "source": [
    "# Filter 4 an edge filter, second order, bi-directional\n",
    "plt.figure()\n",
    "plt.imshow(result_matrix1)"
   ]
  },
  {
   "cell_type": "markdown",
   "metadata": {},
   "source": [
    "### Module 2. Two different parallel processes"
   ]
  },
  {
   "cell_type": "code",
   "execution_count": null,
   "metadata": {},
   "outputs": [],
   "source": [
    "import my_functions_p2 as my2 "
   ]
  },
  {
   "cell_type": "code",
   "execution_count": null,
   "metadata": {},
   "outputs": [],
   "source": [
    "importlib.reload(my2) # Load my_functions_p2"
   ]
  },
  {
   "cell_type": "code",
   "execution_count": null,
   "metadata": {},
   "outputs": [],
   "source": [
    "# Invoke the two parallel processes and execute the chosen filters\n",
    "x2=my2.start_fs(image1, filter1, filter5, NUMPROCESS, shared_space, shared_space2)"
   ]
  },
  {
   "cell_type": "code",
   "execution_count": null,
   "metadata": {},
   "outputs": [],
   "source": [
    "# Display the first image filtering\n",
    "# Filter nr 1 an impulse response filter\n",
    "plt.figure()\n",
    "plt.imshow(result_matrix1)"
   ]
  },
  {
   "cell_type": "code",
   "execution_count": null,
   "metadata": {},
   "outputs": [],
   "source": [
    "# Display the second image filtering\n",
    "# Filter nr5 a blur gausian filter\n",
    "plt.figure()\n",
    "plt.imshow(result_matrix2)"
   ]
  },
  {
   "cell_type": "code",
   "execution_count": null,
   "metadata": {},
   "outputs": [],
   "source": [
    "#YOUR CODE MUST END HERE"
   ]
  },
  {
   "cell_type": "markdown",
   "metadata": {},
   "source": [
    "### Conclusion\n",
    "\n",
    "In this assignment we were able to successfully create an image filter in shared memory, that fits to multiple different sizes of images and filters, by cheching the radious length of the filter on the image frame and making sure that the filter does not exceed the maximum frame size. \n",
    "Additionally, in the second task the we could execute two different filters on the same image in parallel and display both results at the same time. "
   ]
  },
  {
   "cell_type": "code",
   "execution_count": null,
   "metadata": {},
   "outputs": [],
   "source": []
  }
 ],
 "metadata": {
  "kernelspec": {
   "display_name": "Python 3 (ipykernel)",
   "language": "python",
   "name": "python3"
  },
  "language_info": {
   "codemirror_mode": {
    "name": "ipython",
    "version": 3
   },
   "file_extension": ".py",
   "mimetype": "text/x-python",
   "name": "python",
   "nbconvert_exporter": "python",
   "pygments_lexer": "ipython3",
   "version": "3.9.12"
  }
 },
 "nbformat": 4,
 "nbformat_minor": 4
}
