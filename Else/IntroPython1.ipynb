{
 "cells": [
  {
   "cell_type": "markdown",
   "metadata": {
    "colab_type": "text",
    "id": "ur6eynOKAXVi"
   },
   "source": [
    "# Introduction to Python\n",
    "\n",
    "------------------------------------------------------\n",
    "*Datas Science and Engineering*\n",
    "\n",
    "*Harold Molina Bulla h.molina@tsc.uc3m.es*\n",
    "*Vanessa Gómez Verdejo vanessa@tsc.uc3m.es* \n",
    "*Pablo M. Olmos olmos@tsc.uc3m.es* \n",
    "\n",
    "------------------------------------------------------\n",
    "\n",
    "Notebook Version:\n",
    "\n",
    "    * 1.0 (Septembre 2020) Original Release \n",
    "\n",
    "Part of this material is based in the courses/websites:\n",
    "\n",
    "* https://www.w3schools.com/python/default.asp\n",
    "\n",
    "* https://www.geeksforgeeks.org/python-programming-language/\n",
    "\n",
    "* Introduction to Python. Notebooks of the course \"Modern Theory of Detection and Estimation\" by Jerónimo Arenas García (jeronimo.arenas@uc3m.es), Jesús Cid Sueiro (jcid@tsc.uc3m.es), Vanessa Gómez Verdejo (vanessa@tsc.uc3m.es), Óscar García Hinde (oghinnde@tsc.uc3m.es), Simón Roca Sotelo (sroca@tsc.uc3m.es)"
   ]
  },
  {
   "cell_type": "markdown",
   "metadata": {
    "colab_type": "text",
    "id": "tZYMpGG1gXn-"
   },
   "source": [
    "# What is Python?\n",
    "\n",
    "From wikipedia: \"Python is a widely used general-purpose, high-level programming language. Its design philosophy emphasizes code readability, and its syntax allows programmers to express concepts in fewer lines of code than would be possible in languages such as C++ or Java. The language provides constructs intended to enable clear programs on both a small and large scale.\"\n",
    "\n",
    "To easily work with Python from any computer we can use [Google Colaboratory tool](https://colab.research.google.com/notebooks/welcome.ipynb), which provides a free envoriment to run Python Jupyter notebooks.  \n",
    "\n",
    "Throughout this tutorial, students will learn some basic characteristics of the Python programming language, as well as the main characteristics of the Python notebooks."
   ]
  },
  {
   "cell_type": "markdown",
   "metadata": {
    "colab_type": "text",
    "id": "KkCyidTNeWn2"
   },
   "source": [
    "# Work environment: Jupyter\n",
    "\n",
    "To start working with Python we are going to use the Jupyter work environment, since it allows us to execute code in a simple way and integrate code, text, figures ... into the same document.\n",
    "\n",
    "A Jupyter notebook or notebook is made up of a set of cells. When defining each cell we indicate if it is text (like the cell we are in now) or code. The Jupyter environment allows us to easily add new cells with the *+ CODE* and *+ TEXT* buttons that are displayed on the toolbar or when you move the cursor between cells.\n",
    "\n",
    "When we are in a cell we can do two things:\n",
    "* **Edit**. We can enter a cell by selecting it and pressing Enter. This allows us to modify the content of the cells, as if it were a text editor. Yes, we are:\n",
    "  * In a text type cell, Google Colab shows us on the right how the content we are writing will be displayed. In addition, Jupyter uses a syntax known as [markdown] (/ notebooks / markdown_guide.ipynb), which allows us to define headers, format the text, ... And even allows us to include equations inside cells using the syntax of [LaTeX ] (http://www.latex-project.org/). For example, by typing `$ \\ sqrt {3x-1} + (1 + x) ^ 2 $` we will see $\\sqrt {3x-1} + (1 + x)^2.$\n",
    "  * In a code type cell, we can write several code sentences and then execute them together, define functions, libraries ... To facilitate the development of our code, Google Colab offers the possibility of auto-completing the text or exploring the attributes of Python objects , as well as to quickly see the available documentation (we will see this later).\n",
    "* **Execution**. This allows us to view (format) the content of a cell of type text or execute code contained in the cell. To execute a cell, we will do *Control + Enter*, or if we want to automatically go to the next one after executing it, we can do *Shift + Enter*.\n",
    "To find out when a cell of code has been executed, we can look at the cell header:\n",
    "  * If only `[ ]` appears, it has not been executed yet.\n",
    "  * If what we have is `[*]`, then it is in the process of execution.\n",
    "  * If a number appears in the brackets, you have finished executing.\n",
    "\n",
    "\n",
    "\n"
   ]
  },
  {
   "cell_type": "markdown",
   "metadata": {
    "colab_type": "text",
    "id": "L1ITyUb0RHB4"
   },
   "source": [
    "# Getting started with Python: numbers\n",
    "\n",
    "To start working with Python we can use it to do basic numerical operations, using a syntax similar to that of a calculator. That is, we write numbers, we apply operations `('+', '-', '*', '/')` to them and we obtain a result. The following lines of code show some examples:"
   ]
  },
  {
   "cell_type": "code",
   "execution_count": null,
   "metadata": {
    "colab": {},
    "colab_type": "code",
    "id": "0MTJ_G0KUNdP"
   },
   "outputs": [],
   "source": [
    "2 + 2"
   ]
  },
  {
   "cell_type": "code",
   "execution_count": null,
   "metadata": {
    "colab": {},
    "colab_type": "code",
    "id": "_OrpJj3xUS8g"
   },
   "outputs": [],
   "source": [
    "2-2"
   ]
  },
  {
   "cell_type": "code",
   "execution_count": null,
   "metadata": {
    "colab": {},
    "colab_type": "code",
    "id": "Xf9lalUhUXHm"
   },
   "outputs": [],
   "source": [
    "2*10 / 5"
   ]
  },
  {
   "cell_type": "markdown",
   "metadata": {
    "colab_type": "text",
    "id": "Kpv-c0PpUjFl"
   },
   "source": [
    "We can use parentheses to group operations\n",
    "\n"
   ]
  },
  {
   "cell_type": "code",
   "execution_count": null,
   "metadata": {
    "colab": {},
    "colab_type": "code",
    "id": "tFG1mZP7Uf-p"
   },
   "outputs": [],
   "source": [
    "(3+4)*2"
   ]
  },
  {
   "cell_type": "markdown",
   "metadata": {
    "colab_type": "text",
    "id": "0iwXgJVRUppU"
   },
   "source": [
    "We can also use the equal sign \"=\" to assign the result of an operation to a variable to have it stored for later use. For example..."
   ]
  },
  {
   "cell_type": "code",
   "execution_count": null,
   "metadata": {
    "colab": {},
    "colab_type": "code",
    "id": "bKlqHYn8N3_O"
   },
   "outputs": [],
   "source": [
    "width = 10  \n",
    "length = 2 * 3 \n",
    "area= width * length "
   ]
  },
  {
   "cell_type": "markdown",
   "metadata": {
    "colab_type": "text",
    "id": "cyVMgA6VN6x3"
   },
   "source": [
    "The **variables** are containers for storing the data values. Unlike other programming languages, Python does not have a command to declare a variable, but rather a variable is created the moment it is first assigned a value.\n",
    "\n",
    "If we want our code to be more readable, we can include **comments** using the `#` symbol before the text string with our comment. For example..."
   ]
  },
  {
   "cell_type": "code",
   "execution_count": 1,
   "metadata": {
    "colab": {},
    "colab_type": "code",
    "id": "Nqe2KhgVF9ZX"
   },
   "outputs": [],
   "source": [
    "width = 10    # Assing the value 10 to variable width\n",
    "length = 2 * 3  # Compute the value of variable length 2 y 3\n",
    "area= width * length  # The area is the product of width and length"
   ]
  },
  {
   "cell_type": "markdown",
   "metadata": {
    "colab_type": "text",
    "id": "u6NdgRV6UMGg"
   },
   "source": [
    "In these examples, we have not obtained any result by screen because the result of the operation is stored in the variable. But we can use the `print()` function to see the value of the calculated `area` on the screen"
   ]
  },
  {
   "cell_type": "code",
   "execution_count": 2,
   "metadata": {
    "colab": {},
    "colab_type": "code",
    "id": "RDfQ_E6LGrWW"
   },
   "outputs": [
    {
     "name": "stdout",
     "output_type": "stream",
     "text": [
      "60\n"
     ]
    }
   ],
   "source": [
    "print(area)"
   ]
  },
  {
   "cell_type": "markdown",
   "metadata": {
    "colab_type": "text",
    "id": "yzUJBbGdGuOT"
   },
   "source": [
    "In the case of working in python notebooks, if we only put the name of the variable and it is in the last line of a cell, its value is also returned by screen. Compare the following two code cells ..."
   ]
  },
  {
   "cell_type": "code",
   "execution_count": null,
   "metadata": {
    "colab": {},
    "colab_type": "code",
    "id": "8kuJWiyzGtlw"
   },
   "outputs": [],
   "source": [
    "width\n",
    "length\n",
    "area"
   ]
  },
  {
   "cell_type": "code",
   "execution_count": null,
   "metadata": {
    "colab": {},
    "colab_type": "code",
    "id": "-2JTDxfOHFSb"
   },
   "outputs": [],
   "source": [
    "print(width)\n",
    "print(length)\n",
    "area"
   ]
  },
  {
   "cell_type": "markdown",
   "metadata": {
    "colab_type": "text",
    "id": "yc0I5jEbIUu4"
   },
   "source": [
    "A very important aspect of variables is the **type of data** that they are. In the case of working with numerical variables we can find two main types:\n",
    "* Integer Numbers (**int**): as its name indicates, this type is associated with numeric variables without decimals. For example: 2, 4, 0, -1.\n",
    "* Floating point numbers (**float**): this data type is reserved for numeric values with decimal part. For example: 0.2, 4.0, -2.2, ...\n",
    "\n",
    "*Note: Python also supports other types of numbers, such as Decimal and Fraction. Python also has built-in support for complex numbers, and uses the j or J suffix to indicate the imaginary part (e.g. 3+5j).*\n",
    "\n",
    "To know the data type of a variable, we can use the `type ()` function. Look at the following examples: ..."
   ]
  },
  {
   "cell_type": "code",
   "execution_count": 4,
   "metadata": {
    "colab": {},
    "colab_type": "code",
    "id": "4k8DoFLpLeNg"
   },
   "outputs": [
    {
     "data": {
      "text/plain": [
       "int"
      ]
     },
     "execution_count": 4,
     "metadata": {},
     "output_type": "execute_result"
    }
   ],
   "source": [
    "type(2)"
   ]
  },
  {
   "cell_type": "code",
   "execution_count": 5,
   "metadata": {
    "colab": {},
    "colab_type": "code",
    "id": "pBoekDGoLhV2"
   },
   "outputs": [
    {
     "data": {
      "text/plain": [
       "float"
      ]
     },
     "execution_count": 5,
     "metadata": {},
     "output_type": "execute_result"
    }
   ],
   "source": [
    "type(2.0)"
   ]
  },
  {
   "cell_type": "code",
   "execution_count": 6,
   "metadata": {
    "colab": {},
    "colab_type": "code",
    "id": "MORQEkMENHGB"
   },
   "outputs": [
    {
     "data": {
      "text/plain": [
       "int"
      ]
     },
     "execution_count": 6,
     "metadata": {},
     "output_type": "execute_result"
    }
   ],
   "source": [
    "type(width)"
   ]
  },
  {
   "cell_type": "markdown",
   "metadata": {
    "colab_type": "text",
    "id": "MNYaZMC3Myqm"
   },
   "source": [
    "Adding a dot `.` to an integer value, as in `1.` or `1.0`, makes Python interpret the object as a *float*. Also, when operations are performed and one of the elements is a float, the result is also a float.\n",
    "\n",
    "*Note: Python is a dynamically written language, which means that we do not have to define the data type that each variable is, but rather the Python interpreter infers the type of an object at runtime.*"
   ]
  },
  {
   "cell_type": "markdown",
   "metadata": {
    "colab_type": "text",
    "id": "MNdCcd94MCHJ"
   },
   "source": [
    "Now that we know what data types are, and what types we can find with numeric variables, let's continue doing operations with Python."
   ]
  },
  {
   "cell_type": "code",
   "execution_count": null,
   "metadata": {
    "colab": {},
    "colab_type": "code",
    "id": "apGDRKR3NaSu"
   },
   "outputs": [],
   "source": [
    "# Divide 4 by 3\n",
    "result1 = 4/3\n",
    "\n",
    "# Divide 8 by 4\n",
    "result2 = 8/4"
   ]
  },
  {
   "cell_type": "markdown",
   "metadata": {
    "colab_type": "text",
    "id": "LP1KG6U1O1BC"
   },
   "source": [
    "What type do you think the variable `result1` is? And the variable `result2``?"
   ]
  },
  {
   "cell_type": "code",
   "execution_count": null,
   "metadata": {
    "colab": {},
    "colab_type": "code",
    "id": "BCVxKi9dPFFJ"
   },
   "outputs": [],
   "source": [
    "print(type(result1))\n",
    "print(type(result2))"
   ]
  },
  {
   "cell_type": "markdown",
   "metadata": {
    "colab_type": "text",
    "id": "ovuYtLMoPnLQ"
   },
   "source": [
    "The operator `/` always returns a type *float*. To divide between two numbers and obtain an integer value (discarding the decimal part) you can use the operator `//`, and to calculate the remainder of the division you can use the  operator `%`. For example"
   ]
  },
  {
   "cell_type": "code",
   "execution_count": null,
   "metadata": {
    "colab": {},
    "colab_type": "code",
    "id": "DkZTQLfhQHmE"
   },
   "outputs": [],
   "source": [
    "print(10 / 3)  # standard division (returns a float)\n",
    "print(10 // 3)  # division excluding the decimal part\n",
    "print(10 % 3)   # Get the remainder of the division"
   ]
  },
  {
   "cell_type": "markdown",
   "metadata": {
    "colab_type": "text",
    "id": "IHiywxNvQwue"
   },
   "source": [
    "Within the basic operators, Python also includes the power `**`. For example...."
   ]
  },
  {
   "cell_type": "code",
   "execution_count": null,
   "metadata": {
    "colab": {},
    "colab_type": "code",
    "id": "B3oIf3OHcNho"
   },
   "outputs": [],
   "source": [
    "print(3 ** 2)  # 3 raised to 5\n",
    "print(2 ** 10)  # 2 raised to 10\n"
   ]
  },
  {
   "cell_type": "markdown",
   "metadata": {
    "colab_type": "text",
    "id": "ZsV3fFXTG8y2"
   },
   "source": [
    "### Summary of basic operators summary\n",
    "\n",
    "* `+` \tAddition \t`x + y` \t\n",
    "* `-` \tSubtraction \t`x - y` \t\n",
    "* `*` \tMultiplication \t`x * y`\n",
    "* `/` \tDivision \t`x / y` \t\n",
    "* `%`\tRemainder \t`x % y` \t\n",
    "* `**` \tExponentiation \t`x ** y` \t\n",
    "* `//` \tFloor division \t`x // y`"
   ]
  },
  {
   "cell_type": "markdown",
   "metadata": {
    "colab_type": "text",
    "id": "FBghVrRhHKUr"
   },
   "source": [
    "### Value assigment operators\n",
    "\n",
    "Python have various compound operators. For example: "
   ]
  },
  {
   "cell_type": "code",
   "execution_count": null,
   "metadata": {
    "colab": {},
    "colab_type": "code",
    "id": "RAgZnD_OlpjS"
   },
   "outputs": [],
   "source": [
    "a = 3\n",
    "a += 5\n",
    "a"
   ]
  },
  {
   "cell_type": "markdown",
   "metadata": {
    "colab_type": "text",
    "id": "FJAru_16lqQI"
   },
   "source": [
    "With the symbol `+=` we get to add an incremental adding. Note that this is the same as\n",
    "\n"
   ]
  },
  {
   "cell_type": "code",
   "execution_count": null,
   "metadata": {
    "colab": {},
    "colab_type": "code",
    "id": "pbvVYib3mF26"
   },
   "outputs": [],
   "source": [
    "a = 3\n",
    "a = a + 5\n",
    "a"
   ]
  },
  {
   "cell_type": "markdown",
   "metadata": {
    "colab_type": "text",
    "id": "aBerQY7NmGO3"
   },
   "source": [
    "We can do the same with many other operators. For example:\n",
    "\n",
    "\n",
    "| Operator      | Example | Same As  |\n",
    "| ----------- | ----------- |----------- |\n",
    "| +=      | x += 3 \t| x = x + 3 |\n",
    "|  -=  |\tx -= 3 |\tx = x - 3 \t|\n",
    "| *= \t|  x *= 3 |\tx = x * 3 \t|\n",
    "| /= \t|x /= 3 |\tx = x / 3 \t|\n",
    "| %= \t|x %= 3 |\tx = x % 3 \t|\n",
    "| //= |\tx //= 3 |\tx = x // 3 |\t\n",
    "| **= |\tx **= 3 \t| x = x ** 3 |\t\n"
   ]
  },
  {
   "cell_type": "markdown",
   "metadata": {
    "colab_type": "text",
    "id": "OP0WSdQ6b1WS"
   },
   "source": [
    "For slightly more complex operations, certain predefined math functions are also available (some of which may be unfamiliar to you, depending on your math level). For example,\n",
    "\n",
    " * `math.sqrt(x)` returns the square root of a number.\n",
    " * `math.pow(x, y)` raises one real number to another.\n",
    " * `math.log(x)` calculates the natural (or natural) logarithm of a number.\n",
    " * `math.exp(x)` calculates the exponential of a number.\n",
    " * `math.cos(x)` calculates the cosine of a certain angle, measured in radians.\n",
    "    \n",
    "There is also `math.sin()` for the sine and `math.tan()` for the tangent, as well as `math.acos()`, `math.asin()`, and `math.atan()` for the arc cosine, arc sine, and arc tangent.\n",
    "\n",
    "There is also some constant that can simplify life: `math.pi` represents the number \"PI\" and `math.e` represents the number \"e\", the base of natural logarithms.\n",
    "\n",
    "To use these functions, our program must start with `import math` (we will see this later but with this line we can use library functions). For example, this would be a program that calculates the square root of the number that we indicate in the variable 'n'."
   ]
  },
  {
   "cell_type": "code",
   "execution_count": null,
   "metadata": {
    "colab": {},
    "colab_type": "code",
    "id": "2UBUmU2xb-Ac"
   },
   "outputs": [],
   "source": [
    "import math\n",
    "n = 9\n",
    "print (math.sqrt(n))"
   ]
  },
  {
   "cell_type": "markdown",
   "metadata": {
    "colab_type": "text",
    "id": "HcK4t2JddJ5C"
   },
   "source": [
    "**Exercises**\n",
    "\n",
    "Once we know how to operate with numbers in Python, we are going to solve the following exercises."
   ]
  },
  {
   "cell_type": "markdown",
   "metadata": {
    "colab_type": "text",
    "id": "V1frzE-1daJe"
   },
   "source": [
    "**Exercise 1**\n",
    "\n",
    "Define the following variables:\n",
    "* `net_price`: which will be the net price of a product and initialize it to 750.\n",
    "* `tax`: which will be, as a percentage, the VAT applied to this product and initialize it to 21.\n",
    "\n",
    "Now, from the previous variables, calculate the final price of the product and store that value in the variable `final_price`.\n",
    "\n"
   ]
  },
  {
   "cell_type": "markdown",
   "metadata": {
    "colab_type": "text",
    "id": "kfn9KPIYoIYu",
    "tags": []
   },
   "source": [
    "### Solution"
   ]
  },
  {
   "cell_type": "code",
   "execution_count": null,
   "metadata": {
    "colab": {},
    "colab_type": "code",
    "id": "KJv6hHDedZSn"
   },
   "outputs": [],
   "source": [
    "tax = <<FILL HERE>>\n",
    "net_price = <<FILL HERE>>\n",
    "final_price  =  <<FILL HERE>>\n",
    "final_price"
   ]
  },
  {
   "cell_type": "markdown",
   "metadata": {
    "colab_type": "text",
    "id": "2HNGVkkeZdHy"
   },
   "source": [
    "**Exercise 2**\n",
    "\n",
    "2.1 Define a variable `x` and assign it the value of 5.\n",
    "\n",
    "2.2 From the variable `x`, a new variable` y` is generated through the following transformation:\n",
    "\n",
    "$ y = (x / 2) * exp (x ^ 2) + 1 $\n",
    "\n",
    "Program the lines of code needed to calculate `y` from` x`. What value does `y` take when` x` is 5? What if `x` is 10?"
   ]
  },
  {
   "cell_type": "markdown",
   "metadata": {
    "colab_type": "text",
    "id": "O6MKb0M0oyNI"
   },
   "source": [
    "### Solution"
   ]
  },
  {
   "cell_type": "code",
   "execution_count": null,
   "metadata": {
    "colab": {},
    "colab_type": "code",
    "id": "c8Ujm0_ZdZbH"
   },
   "outputs": [],
   "source": [
    "import math\n",
    "\n",
    "x = 5\n",
    "y = (x/2)* math.exp(x**2)+1\n",
    "y"
   ]
  },
  {
   "cell_type": "markdown",
   "metadata": {
    "colab_type": "text",
    "id": "aw3rfIbY-lY_"
   },
   "source": [
    "# Booleans in Python\n",
    "\n",
    "Boolean data types indicate one of two values: True (`True`) or False (` False`). They are very useful in programming, since you often need to know if an expression is true or false. For example, if we compare two values, the expression is evaluated and Python returns the response with a boolean type:"
   ]
  },
  {
   "cell_type": "code",
   "execution_count": null,
   "metadata": {
    "colab": {},
    "colab_type": "code",
    "id": "ho_rI249_QXN"
   },
   "outputs": [],
   "source": [
    "print(10 > 9)\n",
    "print(10 == 9)\n",
    "print(10 != 9)\n",
    "print(10 < 9) "
   ]
  },
  {
   "cell_type": "code",
   "execution_count": null,
   "metadata": {
    "colab": {},
    "colab_type": "code",
    "id": "OW16fitwFocH"
   },
   "outputs": [],
   "source": [
    "print(type(10 > 9))"
   ]
  },
  {
   "cell_type": "markdown",
   "metadata": {
    "colab_type": "text",
    "id": "Av0scf40HdCL"
   },
   "source": [
    "## Operators for comparison of values and identities\n",
    "\n",
    "In order to be able to compare values, as in the previous example, we need operators that perform these comparisons or check if an identity is verified.\n",
    "\n",
    "If we want to compare the values of the variables `x` and` y`, in Python we have the following:\n",
    "* `==` Same: `x == y`\n",
    "* `!=` Not equal: `x != Y`\n",
    "* `>` Greater than: `x > y`\n",
    "* `<` Less than: `x < y`\n",
    "* `>=` Greater than or equal to: `x >= y`\n",
    "* `<=` Less than or equal to: `x <= y`"
   ]
  },
  {
   "cell_type": "markdown",
   "metadata": {
    "colab_type": "text",
    "id": "qQrEU8z4HmVQ"
   },
   "source": [
    "### Logical operators\n",
    "\n",
    "Logical operators allow you to combine the results of multiple comparisons. In this way, we can propose logical operations of the type is `x` is greater than 5 and less than 10?\n",
    "\n",
    "For this we have the operators:\n",
    "* `and` (` & `): returns` True` if both conditions are met at the same time\n",
    "* `or` (` | `): returns` True` if any of the conditions are met\n"
   ]
  },
  {
   "cell_type": "markdown",
   "metadata": {
    "colab_type": "text",
    "id": "RNT_aHgxplin"
   },
   "source": [
    "### Exercise\n",
    "Analyze the following examples, trying to vary the value of `x` and trying to guess the result of the different logical operations."
   ]
  },
  {
   "cell_type": "code",
   "execution_count": 8,
   "metadata": {
    "colab": {},
    "colab_type": "code",
    "id": "UX1fyTYCdUJw"
   },
   "outputs": [
    {
     "name": "stdout",
     "output_type": "stream",
     "text": [
      "False\n",
      "False\n"
     ]
    }
   ],
   "source": [
    "x= 6\n",
    "print((x<5) and (x>2))\n",
    "print((x<5) & (x>2))"
   ]
  },
  {
   "cell_type": "code",
   "execution_count": 9,
   "metadata": {
    "colab": {},
    "colab_type": "code",
    "id": "B57qmNjPds-1"
   },
   "outputs": [
    {
     "name": "stdout",
     "output_type": "stream",
     "text": [
      "True\n",
      "True\n"
     ]
    }
   ],
   "source": [
    "x= 3\n",
    "print((x<5) or (x<2))\n",
    "print((x<5) | (x>2))"
   ]
  },
  {
   "cell_type": "code",
   "execution_count": 10,
   "metadata": {
    "colab": {},
    "colab_type": "code",
    "id": "VRi2yZDzd2Oc"
   },
   "outputs": [
    {
     "name": "stdout",
     "output_type": "stream",
     "text": [
      "True\n"
     ]
    }
   ],
   "source": [
    "x= 4\n",
    "print((x<5) and (x>2) or (x>10))"
   ]
  },
  {
   "cell_type": "markdown",
   "metadata": {
    "colab_type": "text",
    "id": "oeSF56lGPdB-"
   },
   "source": [
    "# Working with text strings\n",
    "\n",
    "The basic data type for representing text in Python is the *string*. A string object is generally defined by assigning to a variable a text string defined between single (`'`) or double (`\"`) quotation marks or by converting another type of data (such as numeric) to a string using the  function  `str()`."
   ]
  },
  {
   "cell_type": "code",
   "execution_count": 13,
   "metadata": {
    "colab": {},
    "colab_type": "code",
    "id": "7iKGUx0oDEeM"
   },
   "outputs": [
    {
     "name": "stdout",
     "output_type": "stream",
     "text": [
      "This is a string\n",
      "t2 too!\n"
     ]
    }
   ],
   "source": [
    "# Define string variables\n",
    "t1='This is a string'\n",
    "print(t1)\n",
    "t2 =\"t2 too!\"\n",
    "print(t2)"
   ]
  },
  {
   "cell_type": "code",
   "execution_count": 14,
   "metadata": {
    "colab": {},
    "colab_type": "code",
    "id": "jknu1MMmDupn"
   },
   "outputs": [
    {
     "name": "stdout",
     "output_type": "stream",
     "text": [
      "500\n",
      "<class 'int'>\n",
      "500\n",
      "<class 'str'>\n"
     ]
    }
   ],
   "source": [
    "# Convert a number to string\n",
    "n = 500\n",
    "print(n)\n",
    "print(type(n))\n",
    "n_string = str(n)\n",
    "print(n_string)\n",
    "print(type(n_string))"
   ]
  },
  {
   "cell_type": "markdown",
   "metadata": {
    "colab_type": "text",
    "id": "vbemSFuiEPEM"
   },
   "source": [
    "## Methods of the string object\n",
    "\n",
    "Python is generally considered a good choice when it comes to working with text files of any type and size, since the string object has a large number of built-in methods that make it easy to work with them.\n",
    "\n",
    "\n",
    "\n",
    "\n",
    "\n",
    "\n"
   ]
  },
  {
   "cell_type": "markdown",
   "metadata": {
    "colab_type": "text",
    "id": "xXvikszCgjSM"
   },
   "source": [
    "We will see later what **Python objects** are, how to define and create our own objects with the methods and attributes that we want to include them. For now, we will settle for using the predefined objects in Python (such as the string object) and accessing their methods and/or attributes.\n",
    "\n",
    "So far, we need to know:\n",
    "* To use the methods of a `my_object` object, always use the syntax `my_object.method()`\n",
    "\n",
    "* If we want to know what methods an object has in Google Colab, we can write `my_object` and wait, and Google Colab produces a list of all the methods available for that object.\n",
    "\n",
    "* All methods of the string object return a new value as output. The original string is not modified."
   ]
  },
  {
   "cell_type": "markdown",
   "metadata": {
    "colab_type": "text",
    "id": "Lf1-xK6TK5qg"
   },
   "source": [
    "Some of these methods are:\n",
    "\n",
    "* `.capitalize ()`: converts the first letter of the string to uppercase.\n",
    "\n"
   ]
  },
  {
   "cell_type": "code",
   "execution_count": 11,
   "metadata": {
    "colab": {},
    "colab_type": "code",
    "id": "i1ck8TBeFC7b"
   },
   "outputs": [
    {
     "ename": "NameError",
     "evalue": "name 't1' is not defined",
     "output_type": "error",
     "traceback": [
      "\u001b[1;31m---------------------------------------------------------------------------\u001b[0m",
      "\u001b[1;31mNameError\u001b[0m                                 Traceback (most recent call last)",
      "Input \u001b[1;32mIn [11]\u001b[0m, in \u001b[0;36m<cell line: 1>\u001b[1;34m()\u001b[0m\n\u001b[1;32m----> 1\u001b[0m \u001b[43mt1\u001b[49m\u001b[38;5;241m.\u001b[39mcapitalize()\n",
      "\u001b[1;31mNameError\u001b[0m: name 't1' is not defined"
     ]
    }
   ],
   "source": [
    "t1.capitalize()"
   ]
  },
  {
   "cell_type": "markdown",
   "metadata": {
    "colab_type": "text",
    "id": "IcQXrge_1ctB"
   },
   "source": [
    "* `.upper()` / `.lower()`: converts all characters in the text string to upper / lower case."
   ]
  },
  {
   "cell_type": "code",
   "execution_count": 12,
   "metadata": {
    "colab": {},
    "colab_type": "code",
    "id": "lJkL8-kS1xsg"
   },
   "outputs": [
    {
     "ename": "NameError",
     "evalue": "name 't1' is not defined",
     "output_type": "error",
     "traceback": [
      "\u001b[1;31m---------------------------------------------------------------------------\u001b[0m",
      "\u001b[1;31mNameError\u001b[0m                                 Traceback (most recent call last)",
      "Input \u001b[1;32mIn [12]\u001b[0m, in \u001b[0;36m<cell line: 1>\u001b[1;34m()\u001b[0m\n\u001b[1;32m----> 1\u001b[0m t_upper \u001b[38;5;241m=\u001b[39m \u001b[43mt1\u001b[49m\u001b[38;5;241m.\u001b[39mupper()\n\u001b[0;32m      2\u001b[0m \u001b[38;5;28mprint\u001b[39m(t_upper)\n\u001b[0;32m      3\u001b[0m t_lower \u001b[38;5;241m=\u001b[39m t_upper\u001b[38;5;241m.\u001b[39mlower()\n",
      "\u001b[1;31mNameError\u001b[0m: name 't1' is not defined"
     ]
    }
   ],
   "source": [
    "t_upper = t1.upper()\n",
    "print(t_upper)\n",
    "t_lower = t_upper.lower()\n",
    "print(t_lower)"
   ]
  },
  {
   "cell_type": "markdown",
   "metadata": {
    "colab_type": "text",
    "id": "BVZNdSifK2uy"
   },
   "source": [
    "* `.replace ('s1', 's2')`: replace the characters `'s1'` in a string with the character`' s2'`."
   ]
  },
  {
   "cell_type": "code",
   "execution_count": null,
   "metadata": {
    "colab": {},
    "colab_type": "code",
    "id": "lzlk206NLb8K"
   },
   "outputs": [],
   "source": [
    "t1.replace(' ', ',')"
   ]
  },
  {
   "cell_type": "markdown",
   "metadata": {
    "colab_type": "text",
    "id": "3B8okwnsLsfU"
   },
   "source": [
    "* `.strip ('s1')`: directly remove from the string the characters given in `'s1'`"
   ]
  },
  {
   "cell_type": "code",
   "execution_count": null,
   "metadata": {
    "colab": {},
    "colab_type": "code",
    "id": "8CBhRvF0L5fi"
   },
   "outputs": [],
   "source": [
    "'http://www.python.org'.strip('htp:/')"
   ]
  },
  {
   "cell_type": "markdown",
   "metadata": {
    "colab_type": "text",
    "id": "T95ut-GiGF8J"
   },
   "source": [
    "* .`find ('s') `: inside the string it looks for the string `'s'` and gets its position from the first letter of the word. In case of not finding it, it returns a `-1`."
   ]
  },
  {
   "cell_type": "code",
   "execution_count": null,
   "metadata": {
    "colab": {},
    "colab_type": "code",
    "id": "ue9BHdTkz8OJ"
   },
   "outputs": [],
   "source": [
    "t1.find('string')"
   ]
  },
  {
   "cell_type": "code",
   "execution_count": null,
   "metadata": {
    "colab": {},
    "colab_type": "code",
    "id": "vz1AwT0Az8Rv"
   },
   "outputs": [],
   "source": [
    " t1.find('word')"
   ]
  },
  {
   "cell_type": "markdown",
   "metadata": {
    "colab_type": "text",
    "id": "twmsmpS9L-WL"
   },
   "source": [
    "* `.split ('s')`: splits the text into several strings using the character `' s'` as separator."
   ]
  },
  {
   "cell_type": "code",
   "execution_count": null,
   "metadata": {
    "colab": {},
    "colab_type": "code",
    "id": "AUHku0QXFS6z"
   },
   "outputs": [],
   "source": [
    "# Split by the character 'i'\n",
    "print(t1.split('i'))\n",
    "# Split by the character ' ' (blank space)\n",
    "print(t1.split(' '))\n",
    "\n",
    "# If a splitter character is not provided, by default, the blank space is used\n",
    "print(t1.split())\n"
   ]
  },
  {
   "cell_type": "markdown",
   "metadata": {
    "colab_type": "text",
    "id": "lMN8b1sqk-kZ"
   },
   "source": [
    "*Note that when applying the `.split()` method, the separator character `s` disappears from the resulting strings. And furthermore, the result of the method is a list with several elements where each element is a string. We will see later what a list is in Python and how to operate with them.*"
   ]
  },
  {
   "cell_type": "markdown",
   "metadata": {
    "colab_type": "text",
    "id": "3dwVveKQ0t4j"
   },
   "source": [
    "* `s.join ([list])`: join the elements of the list with the character `'s'` and create a new string. That is, it allows you to undo what the `.split ('s')` method does."
   ]
  },
  {
   "cell_type": "code",
   "execution_count": null,
   "metadata": {
    "colab": {},
    "colab_type": "code",
    "id": "3rxliAT41FFj"
   },
   "outputs": [],
   "source": [
    "splitted_list = t1.split(' ')\n",
    "print(splitted_list)\n",
    "' '.join(splitted_list)"
   ]
  },
  {
   "cell_type": "markdown",
   "metadata": {
    "colab_type": "text",
    "id": "rHJPubH10X9Z"
   },
   "source": [
    "You can find a list of all available methods of string objects at [this link](https://www.w3schools.com/python/python_ref_string.asp)"
   ]
  },
  {
   "cell_type": "markdown",
   "metadata": {
    "colab_type": "text",
    "id": "1Rcb9J2xNLqr"
   },
   "source": [
    "### Length of a string\n",
    "To get the length of a string, use function `len ()` .\n",
    "\n",
    "*Note: `len ()` is a Python function, shared with other data types, it is not unique to strings. For this reason, **not** is a method of string objects and its syntax is not `string.len` but `len(string)`.*"
   ]
  },
  {
   "cell_type": "code",
   "execution_count": null,
   "metadata": {
    "colab": {},
    "colab_type": "code",
    "id": "qQrY54E4NUTZ"
   },
   "outputs": [],
   "source": [
    "mystring = \"Hello everyone!\"\n",
    "len(mystring)"
   ]
  },
  {
   "cell_type": "markdown",
   "metadata": {
    "colab_type": "text",
    "id": "mVrq0-4b2IMl"
   },
   "source": [
    "### Check if a string is present or not\n",
    "You can use the keywords `in` or` not in` to check whether or not a certain phrase or character is present within a string. These keywords are logical operators, so they return a Boolean value (`True` or` False`)."
   ]
  },
  {
   "cell_type": "code",
   "execution_count": null,
   "metadata": {
    "colab": {},
    "colab_type": "code",
    "id": "0mCGPEug4Wpz"
   },
   "outputs": [],
   "source": [
    "\"everyone\" in mystring"
   ]
  },
  {
   "cell_type": "code",
   "execution_count": null,
   "metadata": {
    "colab": {},
    "colab_type": "code",
    "id": "KDaF2loj4fLf"
   },
   "outputs": [],
   "source": [
    "\"everyone\" not in mystring"
   ]
  },
  {
   "cell_type": "code",
   "execution_count": null,
   "metadata": {
    "colab": {},
    "colab_type": "code",
    "id": "uC1bUQg44h-P"
   },
   "outputs": [],
   "source": [
    "\"everybody\" in mystring"
   ]
  },
  {
   "cell_type": "markdown",
   "metadata": {
    "colab_type": "text",
    "id": "XaRyG9CXMpu_"
   },
   "source": [
    "## String indexing\n",
    "\n",
    "Strings are like arrays of characters, where each character is simply a string with a length of 1. So the elements of the string can be accessed in several ways:\n",
    "* We can recover a single character using square brackets and indicating the specific position of a character to recover. For example, `my_string[position]` would return the character located at `position` within the string` my_string`.\n",
    "* To obtain a part of a chain we can indicate the start and end positions (`[start:end]`). The returned string will start at the character at the `start` position (included) and will end at the position given by `end`, but the latter will not be included.\n",
    "\n",
    "In addition, it can be indexed backwards with negative indices and if the starting position is not included, it is assumed that this is the first and if the final position is not included it is assumed to be the last.\n",
    "\n",
    "**Important**: in Python the indexing starts at 0!!! That is, the first element is in position 0.\n"
   ]
  },
  {
   "cell_type": "markdown",
   "metadata": {
    "colab_type": "text",
    "id": "pZIjDB4_oH2O"
   },
   "source": [
    "### Exercise\n",
    "Analyze the following code and try to guess what it returns before executing it"
   ]
  },
  {
   "cell_type": "code",
   "execution_count": 15,
   "metadata": {
    "colab": {},
    "colab_type": "code",
    "id": "JAfvORHbn_-t"
   },
   "outputs": [],
   "source": [
    "mystring = \"Hello everyone!\""
   ]
  },
  {
   "cell_type": "code",
   "execution_count": 16,
   "metadata": {
    "colab": {},
    "colab_type": "code",
    "id": "kHXkc5elPo60"
   },
   "outputs": [
    {
     "data": {
      "text/plain": [
       "'H'"
      ]
     },
     "execution_count": 16,
     "metadata": {},
     "output_type": "execute_result"
    }
   ],
   "source": [
    "mystring[0]"
   ]
  },
  {
   "cell_type": "code",
   "execution_count": 17,
   "metadata": {
    "colab": {},
    "colab_type": "code",
    "id": "N8zpGw3MP0j-"
   },
   "outputs": [
    {
     "data": {
      "text/plain": [
       "'ello'"
      ]
     },
     "execution_count": 17,
     "metadata": {},
     "output_type": "execute_result"
    }
   ],
   "source": [
    "mystring[1:5]"
   ]
  },
  {
   "cell_type": "code",
   "execution_count": 18,
   "metadata": {
    "colab": {},
    "colab_type": "code",
    "id": "klg55LHFQYHW"
   },
   "outputs": [
    {
     "data": {
      "text/plain": [
       "'Hello'"
      ]
     },
     "execution_count": 18,
     "metadata": {},
     "output_type": "execute_result"
    }
   ],
   "source": [
    "mystring[:5]"
   ]
  },
  {
   "cell_type": "code",
   "execution_count": 19,
   "metadata": {
    "colab": {},
    "colab_type": "code",
    "id": "fD0kms_KytyP"
   },
   "outputs": [
    {
     "data": {
      "text/plain": [
       "'eryone!'"
      ]
     },
     "execution_count": 19,
     "metadata": {},
     "output_type": "execute_result"
    }
   ],
   "source": [
    "mystring[8:]"
   ]
  },
  {
   "cell_type": "code",
   "execution_count": 20,
   "metadata": {
    "colab": {},
    "colab_type": "code",
    "id": "MxR0exiXyt8j"
   },
   "outputs": [
    {
     "data": {
      "text/plain": [
       "'!'"
      ]
     },
     "execution_count": 20,
     "metadata": {},
     "output_type": "execute_result"
    }
   ],
   "source": [
    "mystring[-1]"
   ]
  },
  {
   "cell_type": "code",
   "execution_count": 21,
   "metadata": {
    "colab": {},
    "colab_type": "code",
    "id": "kQMRxf39yuD7"
   },
   "outputs": [
    {
     "data": {
      "text/plain": [
       "'ryone!'"
      ]
     },
     "execution_count": 21,
     "metadata": {},
     "output_type": "execute_result"
    }
   ],
   "source": [
    "mystring[-6:]"
   ]
  },
  {
   "cell_type": "markdown",
   "metadata": {
    "colab_type": "text",
    "id": "V179hLutPoM_"
   },
   "source": [
    "## String concatenation\n",
    "\n",
    "Two or more text strings can be concatenated or combined with the symbol `+`. "
   ]
  },
  {
   "cell_type": "code",
   "execution_count": null,
   "metadata": {
    "colab": {},
    "colab_type": "code",
    "id": "QR8X9n4GGBfC"
   },
   "outputs": [],
   "source": [
    "t1=\"Hello\"\n",
    "t2=\"everyone\"\n",
    "t1+t2"
   ]
  },
  {
   "cell_type": "code",
   "execution_count": null,
   "metadata": {
    "colab": {},
    "colab_type": "code",
    "id": "gSK8fobw5r11"
   },
   "outputs": [],
   "source": [
    "t1+\" \"+t2"
   ]
  },
  {
   "cell_type": "code",
   "execution_count": null,
   "metadata": {
    "colab": {},
    "colab_type": "code",
    "id": "gh5huBNz5vZE"
   },
   "outputs": [],
   "source": [
    " t1 +\" \" + t2 + \"!\" "
   ]
  },
  {
   "cell_type": "markdown",
   "metadata": {
    "colab_type": "text",
    "id": "LuwiPp596EIn"
   },
   "source": [
    "And ... can we combine text and numbers? Let's try it!"
   ]
  },
  {
   "cell_type": "code",
   "execution_count": null,
   "metadata": {
    "colab": {},
    "colab_type": "code",
    "id": "axCEBcGC51-M"
   },
   "outputs": [],
   "source": [
    "result = 5 + 2\n",
    "\"The result is: \" + result"
   ]
  },
  {
   "cell_type": "markdown",
   "metadata": {
    "colab_type": "text",
    "id": "sc_96LTJ6bxN"
   },
   "source": [
    "As we can see, it provides an error!!! This is because we can only concatenate  strings with strings. If we want to do this, we will have to pass the variable `result` to string with the function `str() `.\n",
    "\n",
    "*Note: Observe how Google Colab formats the error output, indicating exactly the line where it fails and the type of error `TypeError: must be str, not int`. Also, it provides a link to search for this error on Stack Overflow and find possible solutions*.\n",
    "\n"
   ]
  },
  {
   "cell_type": "code",
   "execution_count": null,
   "metadata": {
    "colab": {},
    "colab_type": "code",
    "id": "lMCBhhz96aI6"
   },
   "outputs": [],
   "source": [
    "result = 5 + 2\n",
    "\"The result is: \" + str(result)"
   ]
  },
  {
   "cell_type": "markdown",
   "metadata": {
    "colab_type": "text",
    "id": "a449cnanbRQU"
   },
   "source": [
    "### Formatting text strings\n",
    "\n",
    "A more versatile way of combining text with other types of data is given by  function `format()`.\n"
   ]
  },
  {
   "cell_type": "code",
   "execution_count": 22,
   "metadata": {
    "colab": {},
    "colab_type": "code",
    "id": "ZG1_JTmF8MQb"
   },
   "outputs": [
    {
     "name": "stdout",
     "output_type": "stream",
     "text": [
      "I want 3 pieces of item 567 for 49.95 dollars.\n"
     ]
    }
   ],
   "source": [
    "quantity = 3\n",
    "itemno = 567\n",
    "price = 49.95\n",
    "myorder = \"I want {} pieces of item {} for {} dollars.\"\n",
    "print(myorder.format(quantity, itemno, price))"
   ]
  },
  {
   "cell_type": "code",
   "execution_count": 23,
   "metadata": {
    "colab": {},
    "colab_type": "code",
    "id": "kb-gjnV-8Rr4"
   },
   "outputs": [
    {
     "name": "stdout",
     "output_type": "stream",
     "text": [
      "I want to pay 49.95 dollars for 3 pieces of item 567.\n"
     ]
    }
   ],
   "source": [
    "quantity = 3\n",
    "itemno = 567\n",
    "price = 49.95\n",
    "myorder = \"I want to pay {2} dollars for {0} pieces of item {1}.\"\n",
    "print(myorder.format(quantity, itemno, price))"
   ]
  },
  {
   "cell_type": "markdown",
   "metadata": {
    "colab_type": "text",
    "id": "Lpurv25S8SzV"
   },
   "source": [
    "**The Escape Character**\n",
    "\n",
    "To insert characters that are illegal in a string, use an escape character. An escape character is a backslash `\\` followed by the character you want to insert.\n",
    "\n",
    "An example of an illegal character is a double quote inside a string that is surrounded by double quotes:"
   ]
  },
  {
   "cell_type": "code",
   "execution_count": null,
   "metadata": {
    "colab": {},
    "colab_type": "code",
    "id": "J2txnFsl8aEJ"
   },
   "outputs": [],
   "source": [
    "txt = \"We are the so-called \"Vikings\" from the north.\""
   ]
  },
  {
   "cell_type": "code",
   "execution_count": null,
   "metadata": {
    "colab": {},
    "colab_type": "code",
    "id": "nV7bvJzD8axv"
   },
   "outputs": [],
   "source": [
    "txt = \"We are the so-called \\\"Vikings\\\" from the north.\"\n",
    "print(txt)"
   ]
  },
  {
   "cell_type": "markdown",
   "metadata": {
    "colab_type": "text",
    "id": "mcWDw33R8hNF"
   },
   "source": [
    "Some common illegal character  that we can use with the backslash are: \n",
    "* `\\'` Single Quote \t\n",
    "* `\\\\` \tBackslash \t\n",
    "* `\\n` \tNew Line \t\n",
    "* `\\r` \tCarriage Return \t\n",
    "* `\\t` \tTab \t\n",
    "* `\\b` \tBackspace \t\n",
    "* `\\f` \tForm Feed \t\n"
   ]
  },
  {
   "cell_type": "markdown",
   "metadata": {
    "colab_type": "text",
    "id": "NJR3HO2C8vY2"
   },
   "source": [
    "**Exercises:** Complete the following exercises:"
   ]
  },
  {
   "cell_type": "code",
   "execution_count": null,
   "metadata": {
    "colab": {},
    "colab_type": "code",
    "id": "LULtZNFW8yeM"
   },
   "outputs": [],
   "source": [
    "str1 = '\"Hola\" is how we say \"hello\" in Spanish.'\n",
    "str2 = \"Strings can also be defined with quotes; try to be sistematic and consistent.\""
   ]
  },
  {
   "cell_type": "markdown",
   "metadata": {
    "colab_type": "text",
    "id": "UxasIpZQxK5Z"
   },
   "source": [
    "* Print the string `str1` and check its type"
   ]
  },
  {
   "cell_type": "code",
   "execution_count": null,
   "metadata": {
    "colab": {},
    "colab_type": "code",
    "id": "N29iTpc79kvN"
   },
   "outputs": [],
   "source": [
    "print(str1)\n",
    "print(type(str1))"
   ]
  },
  {
   "cell_type": "markdown",
   "metadata": {
    "colab_type": "text",
    "id": "z9M_952GxR_I"
   },
   "source": [
    "* Print the first 5 characters of `str1`"
   ]
  },
  {
   "cell_type": "code",
   "execution_count": null,
   "metadata": {
    "colab": {},
    "colab_type": "code",
    "id": "CLkNJEDD9myb"
   },
   "outputs": [],
   "source": [
    "print(str1[0:5])"
   ]
  },
  {
   "cell_type": "markdown",
   "metadata": {
    "colab_type": "text",
    "id": "wLXX98L0xcOz"
   },
   "source": [
    "* Join `str1` and `str2`"
   ]
  },
  {
   "cell_type": "code",
   "execution_count": null,
   "metadata": {
    "colab": {},
    "colab_type": "code",
    "id": "sc59-kuc9qOc"
   },
   "outputs": [],
   "source": [
    "print(str1 + str2)"
   ]
  },
  {
   "cell_type": "markdown",
   "metadata": {
    "colab_type": "text",
    "id": "-AkaKI4-xhtL"
   },
   "source": [
    "* Convert `str1` to lowecase."
   ]
  },
  {
   "cell_type": "code",
   "execution_count": null,
   "metadata": {
    "colab": {},
    "colab_type": "code",
    "id": "muarOO559sPk"
   },
   "outputs": [],
   "source": [
    "print(str1.lower())"
   ]
  },
  {
   "cell_type": "markdown",
   "metadata": {
    "colab_type": "text",
    "id": "sqK7tGQAxp2O"
   },
   "source": [
    "* Convert `str1` to capital letters."
   ]
  },
  {
   "cell_type": "code",
   "execution_count": null,
   "metadata": {
    "colab": {},
    "colab_type": "code",
    "id": "NAPrANnl9snE"
   },
   "outputs": [],
   "source": [
    "print(str1.upper())"
   ]
  },
  {
   "cell_type": "markdown",
   "metadata": {
    "colab_type": "text",
    "id": "sxfemyHqx1jr"
   },
   "source": [
    "* Get the number of characters in `str1`"
   ]
  },
  {
   "cell_type": "code",
   "execution_count": null,
   "metadata": {
    "colab": {},
    "colab_type": "code",
    "id": "6HuLmXQG9w18"
   },
   "outputs": [],
   "source": [
    "print(len(str1))"
   ]
  },
  {
   "cell_type": "markdown",
   "metadata": {
    "colab_type": "text",
    "id": "C16xjFrlx5qu"
   },
   "source": [
    "* Replace the characters `h` in `str1` by the character `H`"
   ]
  },
  {
   "cell_type": "code",
   "execution_count": null,
   "metadata": {
    "colab": {},
    "colab_type": "code",
    "id": "pw7lGyLq9ze9"
   },
   "outputs": [],
   "source": [
    "print(str1.replace('h','H'))"
   ]
  },
  {
   "cell_type": "markdown",
   "metadata": {
    "colab_type": "text",
    "id": "0XQtQJYSrfav"
   },
   "source": [
    "## Logical conditions in Python: If ... Else\n",
    "Python supports the usual logical conditions of mathematics, which allows us to answer questions like:\n",
    "* Are `a` and` b` the same ?: `a == b`\n",
    "* Aren't `a` and` b` the same ?: `a! = B`\n",
    "* Is `a` less than` b` ?: `a <b`\n",
    "* Is `a` less than or equal to` b` ?: `a <= b`\n",
    "* Is `a` greater than` b` ?: `a> b`\n",
    "* Is `a` greater than or equal to` b` ?: `a> = b`\n",
    "   \n",
    "\n",
    "   "
   ]
  },
  {
   "cell_type": "code",
   "execution_count": null,
   "metadata": {
    "colab": {},
    "colab_type": "code",
    "id": "05bxp6G5s-ND"
   },
   "outputs": [],
   "source": []
  },
  {
   "cell_type": "code",
   "execution_count": null,
   "metadata": {
    "colab": {},
    "colab_type": "code",
    "id": "VtqniqTJs-Qo"
   },
   "outputs": [],
   "source": []
  },
  {
   "cell_type": "code",
   "execution_count": null,
   "metadata": {
    "colab": {},
    "colab_type": "code",
    "id": "3gFIXpnjs-JE"
   },
   "outputs": [],
   "source": []
  },
  {
   "cell_type": "markdown",
   "metadata": {
    "colab_type": "text",
    "id": "WjhK-WRQrfgN"
   },
   "source": [
    "These logical conditions can be used in combination with the `if ... else ...` keywords to perform different operations based on the result of the condition. For example, we can define two variables, `a` and` b`, and write a message on the screen when the condition `a> b` is met\n",
    "\n"
   ]
  },
  {
   "cell_type": "code",
   "execution_count": null,
   "metadata": {
    "colab": {},
    "colab_type": "code",
    "id": "k8VIal3sthc-"
   },
   "outputs": [],
   "source": [
    "a = 33\n",
    "b = 10\n",
    "if a > b:\n",
    "  print(\"a is greater than b\")"
   ]
  },
  {
   "cell_type": "markdown",
   "metadata": {
    "colab_type": "text",
    "id": "_9t4fet2tqdG"
   },
   "source": [
    "When executing this code, Python always evaluates the condition (a> b) and if the result is True, the nested code is executed (print (...)); otherwise, this code is not executed.\n",
    "\n",
    "If we analyze this example we see that to use the if statement, there is a specific syntax where the first line begins with the keyword if followed by the condition to evaluate (a logical expression); and, the line ends with a colon (:).\n",
    "\n",
    "After this first line, comes the code block to execute if the condition is true. Note that this code block must be indented or indented (a tab or 2 or 4 blank spaces at the beginning of a line), since Python uses indentation to recognize the lines that make up a block of instructions (unlike other languages programming using keys). So to finish the block of code that goes inside the condition, it is enough to remove the indentation and rewrite at the beginning of the line.\n",
    "\n",
    "To better understand this, let's compare the outputs of the following code cells:"
   ]
  },
  {
   "cell_type": "code",
   "execution_count": null,
   "metadata": {
    "colab": {},
    "colab_type": "code",
    "id": "un1riuYpthZ2"
   },
   "outputs": [],
   "source": [
    "a = 3\n",
    "b = 10\n",
    "if a > b:\n",
    "  print(\"a is greater than b\")\n",
    "print(\"I am out of the conditonal if\")"
   ]
  },
  {
   "cell_type": "code",
   "execution_count": null,
   "metadata": {
    "colab": {},
    "colab_type": "code",
    "id": "xfkSRA7Bvtz4"
   },
   "outputs": [],
   "source": [
    "a = 3\n",
    "b = 10\n",
    "if a > b:\n",
    "  print(\"a is b\")\n",
    "print(\"estoy fuera de la condición\")"
   ]
  },
  {
   "cell_type": "markdown",
   "metadata": {
    "colab_type": "text",
    "id": "BdA6UH9kww6o"
   },
   "source": [
    "If after the `if` statement we do not include any indented lines, Python will return an error:"
   ]
  },
  {
   "cell_type": "code",
   "execution_count": null,
   "metadata": {
    "colab": {},
    "colab_type": "code",
    "id": "iR2apAenwG-S"
   },
   "outputs": [],
   "source": [
    "a = 3\n",
    "b = 10\n",
    "if a > b:\n",
    "print(\"a is greater than b\")\n",
    "print(\"eI am out of the conditional if\")"
   ]
  },
  {
   "cell_type": "markdown",
   "metadata": {
    "colab_type": "text",
    "id": "gpIixGOxxBnh"
   },
   "source": [
    "Although we can always use the pass keyword if we want to define a condition and not execute anything when it is met."
   ]
  },
  {
   "cell_type": "code",
   "execution_count": null,
   "metadata": {
    "colab": {},
    "colab_type": "code",
    "id": "64N_DMOrxL79"
   },
   "outputs": [],
   "source": [
    "a = 3\n",
    "b = 10\n",
    "if a > b:\n",
    "  pass\n",
    "print(\"a is greater thean b\")\n",
    "print(\"I am out of the conditional if\")"
   ]
  },
  {
   "cell_type": "markdown",
   "metadata": {
    "colab_type": "text",
    "id": "d5VGHkanxVM_"
   },
   "source": [
    "You can combine the `if` statement with the` else` keyword, `if ... else ...`, to be able to execute a part of code when the condition is met and another part when it is not."
   ]
  },
  {
   "cell_type": "code",
   "execution_count": null,
   "metadata": {
    "colab": {},
    "colab_type": "code",
    "id": "6pcjHfXaxUe-"
   },
   "outputs": [],
   "source": [
    "a = 3\n",
    "b = 10\n",
    "if a > b:\n",
    "  print(\"a is greater than b\")\n",
    "else:\n",
    "  print(\"a is not greater than b\")\n"
   ]
  },
  {
   "cell_type": "markdown",
   "metadata": {
    "colab_type": "text",
    "id": "ZXJuoacBybyV"
   },
   "source": [
    "What is the difference between the above code and this one?"
   ]
  },
  {
   "cell_type": "code",
   "execution_count": null,
   "metadata": {
    "colab": {},
    "colab_type": "code",
    "id": "Wzme5FpFybJq"
   },
   "outputs": [],
   "source": [
    "a = 3\n",
    "b = 10\n",
    "if a > b:\n",
    "  print(\"a is greater b\")\n",
    "if a < b:\n",
    "  print(\"a is less b\")"
   ]
  },
  {
   "cell_type": "markdown",
   "metadata": {
    "colab_type": "text",
    "id": "F6ElTYghym5G"
   },
   "source": [
    "The differences are several:\n",
    "* By putting two if blocks we are forcing Python to always evaluate both conditions, while in an if ... else ... block only one condition is evaluated. In a simple program the difference is not appreciable, but in programs that run many comparisons, the impact can be appreciable.\n",
    "* Using else saves us from writing a condition (also, writing the condition we can make a mistake, but writing else cannot).\n",
    "* Using if ... else we make sure that one of the two blocks of instructions is executed. Using two ifs it would be possible that neither of the two conditions would be fulfilled and neither of the two blocks of instructions would be executed.\n"
   ]
  },
  {
   "cell_type": "markdown",
   "metadata": {
    "colab_type": "text",
    "id": "kkk0QymhzTe-"
   },
   "source": [
    "And we can use `if ... else ...` together with `elif`,` if ... elif ... else ... `, if we want to evaluate multiple alternatives. In this case the syntax would be:\n",
    "\n",
    "\n"
   ]
  },
  {
   "cell_type": "code",
   "execution_count": null,
   "metadata": {
    "colab": {},
    "colab_type": "code",
    "id": "xAcykXxQz0pP"
   },
   "outputs": [],
   "source": [
    "a = 3\n",
    "b = 10\n",
    "if a > b:\n",
    "  print(\"a is greater than b\")\n",
    "elif a < b:\n",
    "  print(\"a is less than b\")\n",
    "else:\n",
    "  print(\"a is equal to b\")"
   ]
  },
  {
   "cell_type": "markdown",
   "metadata": {
    "colab_type": "text",
    "id": "ctrEUjsT3VPl"
   },
   "source": [
    "In fact, you can write as many elif blocks as you need. The else block (which is optional) and is only executed if none of the above conditions are met."
   ]
  },
  {
   "cell_type": "code",
   "execution_count": null,
   "metadata": {
    "colab": {},
    "colab_type": "code",
    "id": "PV3O9GuW3lES"
   },
   "outputs": [],
   "source": [
    "a = 10\n",
    "if a < 5:\n",
    "  print(\"a is less than 5\")\n",
    "elif a < 7:\n",
    "  print(\"a is less than 7\")\n",
    "elif a < 9:\n",
    "  print(\"a is less than 9\")\n",
    "elif a < 11:\n",
    "  print(\"a is less than 11\")\n",
    "else:\n",
    "  print(\"a does not meet any of the above conditions\")"
   ]
  },
  {
   "cell_type": "markdown",
   "metadata": {
    "colab_type": "text",
    "id": "0lyH42a536wu"
   },
   "source": [
    "# Loops in Python\n",
    "\n",
    "Python allows us to repeat the execution of a part of the code iteratively through two types of loops:\n",
    "\n",
    "* `while` allows repeating the code execution as long as a given condition is met.\n",
    "* `for` defines by default the number of times the block is to be executed.\n",
    "\n",
    "Next, we are going to see in detail how each of these structures works"
   ]
  },
  {
   "cell_type": "markdown",
   "metadata": {
    "colab_type": "text",
    "id": "mjCzcALn362U"
   },
   "source": [
    "### While loop\n",
    "\n",
    "As we have said, this type of loop executes a series of instructions repetitively while a certain condition is verified.\n",
    "\n",
    "We can see its syntax with the following example:"
   ]
  },
  {
   "cell_type": "code",
   "execution_count": null,
   "metadata": {
    "colab": {},
    "colab_type": "code",
    "id": "nD6QQhL78EZX"
   },
   "outputs": [],
   "source": [
    "a=0\n",
    "while a<10:\n",
    "  print(a)\n",
    "  a += 1\n",
    "print('We are out of the loop')"
   ]
  },
  {
   "cell_type": "markdown",
   "metadata": {
    "colab_type": "text",
    "id": "0F8N2HX28OdV"
   },
   "source": [
    "The `while` loop evaluates the condition in each iteration and as long as the condition is met, it executes the code inside the` while`. Note that the syntax is very similar to that of the `if` conditions, since to declare the loop we write the keyword` while` followed by the condition and end the line with `:`; then all the lines of code to be executed within the loop will be indented.\n",
    "\n",
    "Note that as the loop is defined, if we did not modify the value of the variable `a` within the loop, the loop would run indefinitely and would never end.\n"
   ]
  },
  {
   "cell_type": "markdown",
   "metadata": {
    "colab_type": "text",
    "id": "sVvv__HN_Dh4"
   },
   "source": [
    "We can also combine the while loop with the else keyword to execute a specific part of the code when the condition is not verified"
   ]
  },
  {
   "cell_type": "code",
   "execution_count": null,
   "metadata": {
    "colab": {},
    "colab_type": "code",
    "id": "VsyBwc80A0cg"
   },
   "outputs": [],
   "source": [
    "a=0\n",
    "while a<10:\n",
    "  print(a)\n",
    "  a += 1\n",
    "else:\n",
    "  print('a is not less than 10')\n",
    "print('We are out of the loop')"
   ]
  },
  {
   "cell_type": "markdown",
   "metadata": {
    "colab_type": "text",
    "id": "vI2T64G1_Doh"
   },
   "source": [
    "We can use the `break` and` continue` keywords inside the `while` loop to force certain behaviors:\n",
    "* The `break` keyword forces the loop to exit even though the condition is still met.\n",
    "* The keyword `continue` allows us to skip the current execution and go to the next iteration of the loop.\n",
    "\n",
    "Let's look at the following examples:\n"
   ]
  },
  {
   "cell_type": "code",
   "execution_count": null,
   "metadata": {
    "colab": {},
    "colab_type": "code",
    "id": "YzVkZB_1_u0t"
   },
   "outputs": [],
   "source": [
    "a=0\n",
    "while a<10:\n",
    "  print(a)\n",
    "  a += 1\n",
    "  if a==3:\n",
    "    print('Forced exit from the loop')\n",
    "    break\n",
    "print('We are out of the loop')"
   ]
  },
  {
   "cell_type": "code",
   "execution_count": null,
   "metadata": {
    "colab": {},
    "colab_type": "code",
    "id": "crbmJs4RANvX"
   },
   "outputs": [],
   "source": [
    "a=0\n",
    "while a<5:\n",
    "  print(a)\n",
    "  a += 1\n",
    "  if a==3:\n",
    "    continue\n",
    "  print('rest of commands')\n",
    "  \n",
    "  \n",
    "    \n",
    "print('We are out of the loop')"
   ]
  },
  {
   "cell_type": "markdown",
   "metadata": {
    "colab_type": "text",
    "id": "r_rg6CRa8NSV"
   },
   "source": [
    "### For loop\n",
    "\n",
    "As we have indicated, the `for` loops define by default the number of times to iterate. This is because they are defined in such a way that the iterations are performed on a sequence of elements, for example, on the letters of a text string or `string`. Let's see an example:\n",
    "\n"
   ]
  },
  {
   "cell_type": "code",
   "execution_count": 24,
   "metadata": {
    "colab": {},
    "colab_type": "code",
    "id": "pXDvgNCAz4Z3"
   },
   "outputs": [
    {
     "name": "stdout",
     "output_type": "stream",
     "text": [
      "T\n",
      "h\n",
      "i\n",
      "s\n",
      " \n",
      "i\n",
      "s\n",
      " \n",
      "m\n",
      "y\n",
      " \n",
      "s\n",
      "t\n",
      "r\n",
      "i\n",
      "n\n",
      "g\n"
     ]
    }
   ],
   "source": [
    "myString='This is my string'\n",
    "for s in myString:\n",
    "  print(s)"
   ]
  },
  {
   "cell_type": "markdown",
   "metadata": {
    "colab_type": "text",
    "id": "9eF41PZuDuzN"
   },
   "source": [
    "*Note: we will see later on other types of Python data that allow us to define other sequences on which to iterate.*"
   ]
  },
  {
   "cell_type": "markdown",
   "metadata": {
    "colab_type": "text",
    "id": "Gpwd6VusDvjf"
   },
   "source": [
    "If we analyze the syntax, we see that it is somewhat different from the `while` loop. Now we start with the word `for`, followed by a variable (in the example the variable` s`) that takes a value from the sequence in each iteration; then the `in` keyword is included along with the sequence to iterate over, and finally`: `is included. Then there are the rest of the lines, indented, that are executed in each iteration."
   ]
  },
  {
   "cell_type": "markdown",
   "metadata": {
    "colab_type": "text",
    "id": "FCrcV_GSFJyX"
   },
   "source": [
    "If we want to maintain an index on the number of iterations we are executing, we can use the `enumerate ()` function on the sequence of elements, and thus it will return the value of the element in each iteration along with an integer indicating its position or the number iteration. For example:"
   ]
  },
  {
   "cell_type": "code",
   "execution_count": 25,
   "metadata": {
    "colab": {},
    "colab_type": "code",
    "id": "zbTLMxeSz4XE"
   },
   "outputs": [
    {
     "name": "stdout",
     "output_type": "stream",
     "text": [
      "Iteration: 0 Value: T\n",
      "Iteration: 1 Value: h\n",
      "Iteration: 2 Value: i\n",
      "Iteration: 3 Value: s\n",
      "Iteration: 4 Value:  \n",
      "Iteration: 5 Value: i\n",
      "Iteration: 6 Value: s\n",
      "Iteration: 7 Value:  \n",
      "Iteration: 8 Value: m\n",
      "Iteration: 9 Value: y\n",
      "Iteration: 10 Value:  \n",
      "Iteration: 11 Value: s\n",
      "Iteration: 12 Value: t\n",
      "Iteration: 13 Value: r\n",
      "Iteration: 14 Value: i\n",
      "Iteration: 15 Value: n\n",
      "Iteration: 16 Value: g\n"
     ]
    }
   ],
   "source": [
    "myString='This is my string'\n",
    "for i,s in enumerate(myString):\n",
    "  print('Iteration: ' +str(i) + ' Value: '+ s)"
   ]
  },
  {
   "cell_type": "markdown",
   "metadata": {
    "colab_type": "text",
    "id": "pvfHXeT5GHO_"
   },
   "source": [
    "It is very common to combine the `for` loop with the` range () `function, since this function returns a sequence of numbers that we can iterate over. Its syntax is as follows:\n",
    "`range (start_value, end_value, jump)`\n",
    "which would generate a sequence of values between `initial_value` and` final_value` (the latter would not be included in the sequence) and with increments given by `jump`. For example:"
   ]
  },
  {
   "cell_type": "code",
   "execution_count": 26,
   "metadata": {
    "colab": {},
    "colab_type": "code",
    "id": "P76zg0onHjcD"
   },
   "outputs": [
    {
     "name": "stdout",
     "output_type": "stream",
     "text": [
      "2\n",
      "5\n",
      "8\n"
     ]
    }
   ],
   "source": [
    "sequence = range(2,10,3)\n",
    "for i in sequence:\n",
    "  print(i)"
   ]
  },
  {
   "cell_type": "markdown",
   "metadata": {
    "colab_type": "text",
    "id": "JOQnn_GHHZQv"
   },
   "source": [
    "If we do not define the `jump` by default it is` 1` and if we do not define the `initial_value` by default it is` 0`."
   ]
  },
  {
   "cell_type": "code",
   "execution_count": null,
   "metadata": {
    "colab": {},
    "colab_type": "code",
    "id": "lxp2HaSZIAdB"
   },
   "outputs": [],
   "source": [
    "sequence = range(2,10)\n",
    "for i in sequence:\n",
    "  print(i)"
   ]
  },
  {
   "cell_type": "code",
   "execution_count": null,
   "metadata": {
    "colab": {},
    "colab_type": "code",
    "id": "HKAfTXTIIAiH"
   },
   "outputs": [],
   "source": [
    "secuence = range(10)\n",
    "for i in secuence:\n",
    "  print(i)"
   ]
  },
  {
   "cell_type": "markdown",
   "metadata": {
    "colab_type": "text",
    "id": "V9_nFwZvNPRv"
   },
   "source": [
    "We can also combine the `for` loop with the keywords:\n",
    "* `else` to indicate a piece of code that is executed at the end of the loop\n",
    "* `break` to get out of the loop even if not all the elements of the sequence have been crossed\n",
    "* `pass` to not execute anything inside the loop"
   ]
  },
  {
   "cell_type": "code",
   "execution_count": null,
   "metadata": {
    "colab": {},
    "colab_type": "code",
    "id": "3MIuM33MPXBy"
   },
   "outputs": [],
   "source": [
    "sequence = range(10)\n",
    "for i in sequence:\n",
    "  print(i)\n",
    "else:\n",
    "  print('We are finished')"
   ]
  },
  {
   "cell_type": "code",
   "execution_count": null,
   "metadata": {
    "colab": {},
    "colab_type": "code",
    "id": "6YtubFeUPXFg"
   },
   "outputs": [],
   "source": [
    "sequence = range(10)\n",
    "for i in sequence:\n",
    "  print(i)\n",
    "  if i==4:\n",
    "    break\n",
    "else:\n",
    "  print('we are finished')"
   ]
  },
  {
   "cell_type": "code",
   "execution_count": null,
   "metadata": {
    "colab": {},
    "colab_type": "code",
    "id": "Y2EmMsxVPXJn"
   },
   "outputs": [],
   "source": [
    "sequence = range(10)\n",
    "for i in sequence:\n",
    "  pass\n",
    "else:\n",
    "  print('We are finished')"
   ]
  },
  {
   "cell_type": "markdown",
   "metadata": {
    "colab_type": "text",
    "id": "zcn28ZhzPqm_"
   },
   "source": [
    "It is quite common to use loops in a nested way, defining a loop within another loop. For example:\n"
   ]
  },
  {
   "cell_type": "code",
   "execution_count": null,
   "metadata": {
    "colab": {},
    "colab_type": "code",
    "id": "8MHqsHuIPW-5"
   },
   "outputs": [],
   "source": [
    "sequence = range(4)\n",
    "for i in sequence:\n",
    "  for j in sequence:\n",
    "    print(str(i)+ ' ' + str(j))"
   ]
  },
  {
   "cell_type": "markdown",
   "metadata": {
    "colab_type": "text",
    "id": "cy9ciPlHQGh4"
   },
   "source": [
    "We can even make the ones the inner loop iterates over depend on the value of the variable used by the outer loop, that is,"
   ]
  },
  {
   "cell_type": "code",
   "execution_count": null,
   "metadata": {
    "colab": {},
    "colab_type": "code",
    "id": "vOvaGTWUQUps"
   },
   "outputs": [],
   "source": [
    "sequence = range(4)\n",
    "for i in sequence:\n",
    "  for j in range(i):\n",
    "    print(str(i)+ ' ' + str(j))"
   ]
  },
  {
   "cell_type": "markdown",
   "metadata": {
    "colab_type": "text",
    "id": "OqiaiXQ3ILSh"
   },
   "source": [
    "# Data collections in Python\n",
    "\n",
    "There are four types of collections that allow us to collect or have data grouped in Python:\n",
    "\n",
    "* The ** list ** is an ordered and changing collection. Allow duplicate members.\n",
    "* The ** tuple ** is an ordered and unalterable collection. Allow duplicate members.\n",
    "* The ** set ** is a collection that is neither ordered nor indexed. Does not allow duplicate members.\n",
    "* The ** dictionary ** is an unordered, changeable and indexed collection. There are no duplicate members.\n",
    "\n",
    "When choosing a collection type, it is helpful to understand the properties of that type. Choosing the correct type for a particular data set could mean retention of meaning, and it could mean increased efficiency or security.\n"
   ]
  },
  {
   "cell_type": "markdown",
   "metadata": {
    "colab_type": "text",
    "id": "uvBkjwAGLJI1"
   },
   "source": [
    "## Lists in Python\n",
    "\n",
    "As we have indicated, a list is an ordered collection of elements, that we can modify and that admits repeated elements.\n",
    "As we will see as we advance with our knowledge of Python, it is one of the most common types when we program, so there are multiple operations that we can do with lists. Here are some examples of the most common.\n"
   ]
  },
  {
   "cell_type": "markdown",
   "metadata": {
    "colab_type": "text",
    "id": "5xlvuvNj7Sci"
   },
   "source": [
    "### Create a list\n",
    "In Python, lists are written with square brackets. So to create a list, we can simply include a series of elements separated by commas between the brackets:"
   ]
  },
  {
   "cell_type": "code",
   "execution_count": null,
   "metadata": {
    "colab": {},
    "colab_type": "code",
    "id": "r73b2--fLOdU"
   },
   "outputs": [],
   "source": [
    "myList = [\"apple\", \"banana\", \"pear\", \"orange\", \"lemon\", \"cherry\", \"kiwi\", \"melon\", \"mango\"]\n",
    "print(myList)"
   ]
  },
  {
   "cell_type": "markdown",
   "metadata": {
    "colab_type": "text",
    "id": "t-SJBOnd7sVr"
   },
   "source": [
    "We can define an empty list if we do not include elements"
   ]
  },
  {
   "cell_type": "code",
   "execution_count": null,
   "metadata": {
    "colab": {},
    "colab_type": "code",
    "id": "PKrSVCvW7Rzj"
   },
   "outputs": [],
   "source": [
    "myEmpty_List = []\n",
    "print(myEmpty_List)"
   ]
  },
  {
   "cell_type": "markdown",
   "metadata": {
    "colab_type": "text",
    "id": "rVXnWE7VY7w-"
   },
   "source": [
    "You can also create a list with the `list ()` constructor"
   ]
  },
  {
   "cell_type": "code",
   "execution_count": null,
   "metadata": {
    "colab": {},
    "colab_type": "code",
    "id": "CCwXI_EYZAeD"
   },
   "outputs": [],
   "source": [
    "myList2 =list([ \"lemon\", \"cherry\", \"kiwi\", \"mango\"])\n",
    "print(myList2)"
   ]
  },
  {
   "cell_type": "markdown",
   "metadata": {
    "colab_type": "text",
    "id": "k1JuRM37LQso"
   },
   "source": [
    "### Element indexing\n",
    "We can access its elements by indexing the list in a similar way to the characters in a string. Analyze the following examples trying to guess the output that we are going to obtain before executing them ..."
   ]
  },
  {
   "cell_type": "code",
   "execution_count": null,
   "metadata": {
    "colab": {},
    "colab_type": "code",
    "id": "Y3-q1iM7LQ8F"
   },
   "outputs": [],
   "source": [
    "print(myList[1])"
   ]
  },
  {
   "cell_type": "code",
   "execution_count": null,
   "metadata": {
    "colab": {},
    "colab_type": "code",
    "id": "n2-bDIFrLbyE"
   },
   "outputs": [],
   "source": [
    "print(myList[3:5])"
   ]
  },
  {
   "cell_type": "code",
   "execution_count": null,
   "metadata": {
    "colab": {},
    "colab_type": "code",
    "id": "BqsfyRH0Ldmt"
   },
   "outputs": [],
   "source": [
    "print(myList[:4])"
   ]
  },
  {
   "cell_type": "code",
   "execution_count": null,
   "metadata": {
    "colab": {},
    "colab_type": "code",
    "id": "Ot8hJyNWLgUe"
   },
   "outputs": [],
   "source": [
    "print(myList[5:])"
   ]
  },
  {
   "cell_type": "code",
   "execution_count": null,
   "metadata": {
    "colab": {},
    "colab_type": "code",
    "id": "HVlxCAIRLhxe"
   },
   "outputs": [],
   "source": [
    "print(myList[-1])"
   ]
  },
  {
   "cell_type": "code",
   "execution_count": null,
   "metadata": {
    "colab": {},
    "colab_type": "code",
    "id": "MqbqkSqmyJ34"
   },
   "outputs": [],
   "source": [
    "print(myList[-5:-1])"
   ]
  },
  {
   "cell_type": "markdown",
   "metadata": {
    "colab_type": "text",
    "id": "PQAON6rDLtEB"
   },
   "source": [
    "### Check for the presence of an element\n",
    "We can use the `in` keyword to check if an item is in a list:"
   ]
  },
  {
   "cell_type": "code",
   "execution_count": null,
   "metadata": {
    "colab": {},
    "colab_type": "code",
    "id": "6T_b_qR1Lz53"
   },
   "outputs": [],
   "source": [
    "\"melon\" in myList"
   ]
  },
  {
   "cell_type": "code",
   "execution_count": null,
   "metadata": {
    "colab": {},
    "colab_type": "code",
    "id": "cFzyaGOf6GBy"
   },
   "outputs": [],
   "source": [
    "\"banana\" in myList"
   ]
  },
  {
   "cell_type": "markdown",
   "metadata": {
    "colab_type": "text",
    "id": "xAIcpmf6L2zP"
   },
   "source": [
    "### Calculate the length of a list\n",
    "We can use the `len ()` function to calculate the number of elements within the list:"
   ]
  },
  {
   "cell_type": "code",
   "execution_count": null,
   "metadata": {
    "colab": {},
    "colab_type": "code",
    "id": "Pko2SVnxL3ZK"
   },
   "outputs": [],
   "source": [
    "print(len(myList))"
   ]
  },
  {
   "cell_type": "markdown",
   "metadata": {
    "colab_type": "text",
    "id": "UxtWV-UsYC1R"
   },
   "source": [
    "### Concatenate lists\n",
    "You can use the `+` operator to create a new list by joining the elements of the two lists\n"
   ]
  },
  {
   "cell_type": "code",
   "execution_count": null,
   "metadata": {
    "colab": {},
    "colab_type": "code",
    "id": "64kOeSktYLAM"
   },
   "outputs": [],
   "source": [
    "myUnionList = myList + myList2\n",
    "print(myUnionList)"
   ]
  },
  {
   "cell_type": "markdown",
   "metadata": {
    "colab_type": "text",
    "id": "oOTwSZLBLnu9"
   },
   "source": [
    "### Modifying List Items\n",
    "We can change the value of an element in the list, accessing it directly:"
   ]
  },
  {
   "cell_type": "code",
   "execution_count": null,
   "metadata": {
    "colab": {},
    "colab_type": "code",
    "id": "0FyAxTD3Lqcj"
   },
   "outputs": [],
   "source": [
    "myList[1] = \"blackberry\"\n",
    "print(myList)"
   ]
  },
  {
   "cell_type": "markdown",
   "metadata": {
    "colab_type": "text",
    "id": "QBGK0QPP5mVo"
   },
   "source": [
    "And include a repeating element:"
   ]
  },
  {
   "cell_type": "code",
   "execution_count": null,
   "metadata": {
    "colab": {},
    "colab_type": "code",
    "id": "I6hT7fH75rqD"
   },
   "outputs": [],
   "source": [
    "myList[1] = \"apple\"\n",
    "print(myList)"
   ]
  },
  {
   "cell_type": "markdown",
   "metadata": {
    "colab_type": "text",
    "id": "BDcZz1NXLtJj"
   },
   "source": [
    "We can add elements to the end of a list using the `append ()` method:"
   ]
  },
  {
   "cell_type": "code",
   "execution_count": null,
   "metadata": {
    "colab": {},
    "colab_type": "code",
    "id": "ouz82w2-L8o7"
   },
   "outputs": [],
   "source": [
    "myLista.append(\"higo\")\n",
    "print(myLista)"
   ]
  },
  {
   "cell_type": "markdown",
   "metadata": {
    "colab_type": "text",
    "id": "0kwp8kYuLtOj"
   },
   "source": [
    "Or use the `insert ()` method to add an element at a specific position:"
   ]
  },
  {
   "cell_type": "code",
   "execution_count": null,
   "metadata": {
    "colab": {},
    "colab_type": "code",
    "id": "28a_UiPTMAYG"
   },
   "outputs": [],
   "source": [
    "myLista.insert(1, \"banana\")\n",
    "print(myLista)"
   ]
  },
  {
   "cell_type": "markdown",
   "metadata": {
    "colab_type": "text",
    "id": "_lqVJ170LtSv"
   },
   "source": [
    "If we want to remove items from the list, we have several options:\n",
    "\n",
    "* The `remove ()` method removes the indicated element\n",
    "\n"
   ]
  },
  {
   "cell_type": "code",
   "execution_count": null,
   "metadata": {
    "colab": {},
    "colab_type": "code",
    "id": "SUsiYnhvMKDu"
   },
   "outputs": [],
   "source": [
    "myList.remove(\"pear\")\n",
    "print(myList)"
   ]
  },
  {
   "cell_type": "markdown",
   "metadata": {
    "colab_type": "text",
    "id": "o4HFGKB-9wAI"
   },
   "source": [
    "If we have a repeating element, `remove ()` only removes it from its first position"
   ]
  },
  {
   "cell_type": "code",
   "execution_count": null,
   "metadata": {
    "colab": {},
    "colab_type": "code",
    "id": "VDeQiUN19sDV"
   },
   "outputs": [],
   "source": [
    "myList.remove(\"apple\")\n",
    "print(myList)"
   ]
  },
  {
   "cell_type": "markdown",
   "metadata": {
    "colab_type": "text",
    "id": "JVJ0qQo9-VMQ"
   },
   "source": [
    "* The `pop ()` method eliminates the element indicated by its index or position (if we do not indicate any index, the last one is eliminated) \n",
    "\n"
   ]
  },
  {
   "cell_type": "code",
   "execution_count": null,
   "metadata": {
    "colab": {},
    "colab_type": "code",
    "id": "amcuVKIkML7C"
   },
   "outputs": [],
   "source": [
    "myList.pop(4)\n",
    "print(myList)"
   ]
  },
  {
   "cell_type": "code",
   "execution_count": null,
   "metadata": {
    "colab": {},
    "colab_type": "code",
    "id": "4f9RkKCb-Hvw"
   },
   "outputs": [],
   "source": [
    "myList.pop()\n",
    "print(myList)"
   ]
  },
  {
   "cell_type": "markdown",
   "metadata": {
    "colab_type": "text",
    "id": "yIEKNfhe-XZI"
   },
   "source": [
    "* The keyword ``del`` allows us to eliminate an element indicated by its index or even eliminate the entire list if we do not indicate any specific element\n",
    "\n"
   ]
  },
  {
   "cell_type": "code",
   "execution_count": null,
   "metadata": {
    "colab": {},
    "colab_type": "code",
    "id": "zBtghV1EMQWJ"
   },
   "outputs": [],
   "source": [
    "del myList[0]\n",
    "print(myLista)"
   ]
  },
  {
   "cell_type": "code",
   "execution_count": null,
   "metadata": {
    "colab": {},
    "colab_type": "code",
    "id": "lO9pdHPVMQY1"
   },
   "outputs": [],
   "source": [
    "myList2 = ['lemon', 'cherry', 'kiwi']\n",
    "print(myLista)\n",
    "del myLista\n",
    "print(myLista)"
   ]
  },
  {
   "cell_type": "markdown",
   "metadata": {
    "colab_type": "text",
    "id": "ls0p6FIs-vGE"
   },
   "source": [
    "* The ``clear ()`` method allows us to clear the list"
   ]
  },
  {
   "cell_type": "code",
   "execution_count": null,
   "metadata": {
    "colab": {},
    "colab_type": "code",
    "id": "Y4E9kZeFMQb9"
   },
   "outputs": [],
   "source": [
    "myList2 = ['lemon', 'cherry', 'kiwi']\n",
    "print(myList2)\n",
    "myList2.clear()\n",
    "print(myList2)"
   ]
  },
  {
   "cell_type": "markdown",
   "metadata": {
    "colab_type": "text",
    "id": "ltw_wP3eT51p"
   },
   "source": [
    "## Tuples in Python\n",
    "\n",
    "A tuple is an ordered ordered collection of elements, where repeated elements are allowed, but unlike lists it is unchangeable.\n",
    "\n"
   ]
  },
  {
   "cell_type": "markdown",
   "metadata": {
    "colab_type": "text",
    "id": "CJo62N-lT51q"
   },
   "source": [
    "### Create a tuple\n",
    "To define a tuple in Python we have to use parentheses, include between the parentheses the elements that make up our tuple"
   ]
  },
  {
   "cell_type": "code",
   "execution_count": null,
   "metadata": {
    "colab": {},
    "colab_type": "code",
    "id": "DlVur31xT51q"
   },
   "outputs": [],
   "source": [
    "myTuple = (\"apple\", \"banana\", \"pear\", \"orange\")\n",
    "print(myTupla)"
   ]
  },
  {
   "cell_type": "markdown",
   "metadata": {
    "colab_type": "text",
    "id": "E8VhYcFDYYQO"
   },
   "source": [
    "You can also create a tuple with the `tuple()` constructor"
   ]
  },
  {
   "cell_type": "code",
   "execution_count": null,
   "metadata": {
    "colab": {},
    "colab_type": "code",
    "id": "P96jpaBtYjic"
   },
   "outputs": [],
   "source": [
    "myTuple2 = tuple((\"melon\", \"banana\", \"cherry\")) # take care about the doble parenthesis\n",
    "print(myTuple2)"
   ]
  },
  {
   "cell_type": "markdown",
   "metadata": {
    "colab_type": "text",
    "id": "BvTzIiyGT51w"
   },
   "source": [
    "### Element indexing\n",
    "In the same way as with lists, we can access their elements by indexing the positions of the tuple we want to access. Let's analyze the following examples"
   ]
  },
  {
   "cell_type": "code",
   "execution_count": null,
   "metadata": {
    "colab": {},
    "colab_type": "code",
    "id": "C7LSZ7xRT51w"
   },
   "outputs": [],
   "source": [
    "print(myTuple[2])"
   ]
  },
  {
   "cell_type": "code",
   "execution_count": null,
   "metadata": {
    "colab": {},
    "colab_type": "code",
    "id": "muZ8eBaVT51z"
   },
   "outputs": [],
   "source": [
    "print(myTuple[-1:1])"
   ]
  },
  {
   "cell_type": "code",
   "execution_count": null,
   "metadata": {
    "colab": {},
    "colab_type": "code",
    "id": "vN9O-5vNVscs"
   },
   "outputs": [],
   "source": [
    "print(myTuple[-1:4])"
   ]
  },
  {
   "cell_type": "code",
   "execution_count": null,
   "metadata": {
    "colab": {},
    "colab_type": "code",
    "id": "1_65j-sOT511"
   },
   "outputs": [],
   "source": [
    "print(myTuple[:-2])"
   ]
  },
  {
   "cell_type": "code",
   "execution_count": null,
   "metadata": {
    "colab": {},
    "colab_type": "code",
    "id": "3Kae3gDaT513"
   },
   "outputs": [],
   "source": [
    "print(myTuple[-2:])"
   ]
  },
  {
   "cell_type": "markdown",
   "metadata": {
    "colab_type": "text",
    "id": "lFPdmUTVT519"
   },
   "source": [
    "### Check for the presence of an element\n",
    "We can also use the `in` keyword to check if an element is in the tuple:"
   ]
  },
  {
   "cell_type": "code",
   "execution_count": null,
   "metadata": {
    "colab": {},
    "colab_type": "code",
    "id": "wM4dJ9zsT519"
   },
   "outputs": [],
   "source": [
    "\"melon\" in myTuple"
   ]
  },
  {
   "cell_type": "code",
   "execution_count": null,
   "metadata": {
    "colab": {},
    "colab_type": "code",
    "id": "uUJdbG0CT51-"
   },
   "outputs": [],
   "source": [
    "\"banana\" in myTuple"
   ]
  },
  {
   "cell_type": "markdown",
   "metadata": {
    "colab_type": "text",
    "id": "Rg2uschXT52A"
   },
   "source": [
    "### Calculate the length of a tuple\n",
    "We can also use the `len ()` function to calculate the number of elements within the tuple:"
   ]
  },
  {
   "cell_type": "code",
   "execution_count": null,
   "metadata": {
    "colab": {},
    "colab_type": "code",
    "id": "QV5P_mnvT52B"
   },
   "outputs": [],
   "source": [
    "print(len(myTuple))"
   ]
  },
  {
   "cell_type": "markdown",
   "metadata": {
    "colab_type": "text",
    "id": "R5dE6gtYXtek"
   },
   "source": [
    "### Concatenate tuples\n",
    "You can use the `+` operator to join two tuples and create a new one\n",
    "\n"
   ]
  },
  {
   "cell_type": "code",
   "execution_count": null,
   "metadata": {
    "colab": {},
    "colab_type": "code",
    "id": "44iPfw9QX24X"
   },
   "outputs": [],
   "source": [
    "tuple_union = myTuple + myTuple2\n",
    "print(tuple_union)"
   ]
  },
  {
   "cell_type": "markdown",
   "metadata": {
    "colab_type": "text",
    "id": "4eVpKoJaT52D"
   },
   "source": [
    "### Modifying the elements of the tuple\n",
    "Tuples are immutable, so once a tuple is created, its values cannot be changed, new elements added, or elements removed from the tuple. But there is an alternative solution.\n",
    "\n",
    "You can convert the tuple to a list with the `list ()` function, change the list and convert the list back to a tuple with the `tuple ()` function.\n",
    "\n"
   ]
  },
  {
   "cell_type": "code",
   "execution_count": null,
   "metadata": {
    "colab": {},
    "colab_type": "code",
    "id": "ep8V7EwZT52E"
   },
   "outputs": [],
   "source": [
    "# Convert to list\n",
    "myList = list(myTuple)\n",
    "\n",
    "# Modify the lista\n",
    "myList[1] = \"blackberry\"\n",
    "print(myList)\n",
    "print(type(myList))\n",
    "\n",
    "# Convert the list back to tuple\n",
    "myTuple2 = tuple(myList)\n",
    "print(myTuple2)\n",
    "print(type(myTuple2))"
   ]
  },
  {
   "cell_type": "markdown",
   "metadata": {
    "colab_type": "text",
    "id": "tCMFZz83Zfat"
   },
   "source": [
    "### Tuple Object Methods\n",
    "Tuples have two predefined methods\n",
    "* `count ()`: calculates the number of times an element is in a tuple\n",
    "* `index ()`: searches the tuple for a certain element and returns the position of where it was found. If this element is repeated, it returns the first position it is in."
   ]
  },
  {
   "cell_type": "code",
   "execution_count": null,
   "metadata": {
    "colab": {},
    "colab_type": "code",
    "id": "JD7KIq_7aD1_"
   },
   "outputs": [],
   "source": [
    "tuple_union.count('melon')"
   ]
  },
  {
   "cell_type": "code",
   "execution_count": null,
   "metadata": {
    "colab": {},
    "colab_type": "code",
    "id": "7dqTWM5HaD5h"
   },
   "outputs": [],
   "source": [
    "tuple_union.count('banana')"
   ]
  },
  {
   "cell_type": "code",
   "execution_count": null,
   "metadata": {
    "colab": {},
    "colab_type": "code",
    "id": "7MlZpg2BbsrM"
   },
   "outputs": [],
   "source": [
    "tuple_union.index('banana')"
   ]
  },
  {
   "cell_type": "markdown",
   "metadata": {
    "colab_type": "text",
    "id": "_Uvn3V8rRY8w"
   },
   "source": [
    "** Exercises with tuples **"
   ]
  },
  {
   "cell_type": "code",
   "execution_count": null,
   "metadata": {
    "colab": {},
    "colab_type": "code",
    "id": "zQB0tmnfMQeW"
   },
   "outputs": [],
   "source": [
    "#Create a tuple of tuples: ((\"apple\",1),(\"banana\",1),(\"apple\",2),(\"melon\",1),(\"pineapple\",2),(\"banana\",2)), where the first element is a fruit, and the second is the number of fruits.\n",
    "#Calculate the number of apples, bananas and melons you have.\n",
    "#Use foreach loop to read each one of the elements, compare with the different fruits and increase the counter associated to each one."
   ]
  },
  {
   "cell_type": "code",
   "execution_count": null,
   "metadata": {
    "colab": {},
    "colab_type": "code",
    "id": "mMbzh9KHMQhV"
   },
   "outputs": [],
   "source": []
  },
  {
   "cell_type": "markdown",
   "metadata": {
    "colab_type": "text",
    "id": "IEt9uUG5eXJX"
   },
   "source": [
    "## Sets in Python\n",
    "\n",
    "A set is a collection of elements that is not ordered or indexed and in which there can be no repeating elements. .\n"
   ]
  },
  {
   "cell_type": "markdown",
   "metadata": {
    "colab_type": "text",
    "id": "-CRsUOr0eXJY"
   },
   "source": [
    "### Create a set\n",
    "In Python sets are written with braces. So to create a set we only have to define a series of elements separated by commas between braces:"
   ]
  },
  {
   "cell_type": "code",
   "execution_count": null,
   "metadata": {
    "colab": {},
    "colab_type": "code",
    "id": "3kUF1VkNeXJY"
   },
   "outputs": [],
   "source": [
    "mySet = {\"apple\", \"banana\", \"pear\", \"kiwi\", \"melon\", \"mango\"}\n",
    "print(mySet)"
   ]
  },
  {
   "cell_type": "code",
   "execution_count": null,
   "metadata": {
    "colab": {},
    "colab_type": "code",
    "id": "jbW-FmnnfUC6"
   },
   "outputs": [],
   "source": [
    "mySet2 = {\"apple\", \"banana\", \"pear\", \"kiwi\", \"platano\", \"melon\", \"mango\", \"melon\"}\n",
    "print(mySet2)"
   ]
  },
  {
   "cell_type": "markdown",
   "metadata": {
    "colab_type": "text",
    "id": "SFTmOF_2fapP"
   },
   "source": [
    "Let's look at two things:\n",
    "* Items are not kept in the order they have been defined because it is not a collection of ordered items. So you can't be sure in what order the articles will appear.\n",
    "* If we define repeated elements, only one of them is stored in the set since the set does not allow repeated elements."
   ]
  },
  {
   "cell_type": "markdown",
   "metadata": {
    "colab_type": "text",
    "id": "40dkYTgfeXJd"
   },
   "source": [
    "You can also create a set with the constructor `set()`"
   ]
  },
  {
   "cell_type": "code",
   "execution_count": null,
   "metadata": {
    "colab": {},
    "colab_type": "code",
    "id": "HcZ8qh4feXJd"
   },
   "outputs": [],
   "source": [
    "mySet3 =set([ \"lemon\", \"cherry\", \"kiwi\", \"mango\", \"banana\", \"pear\", \"kiwi\"])\n",
    "print(mySet3)"
   ]
  },
  {
   "cell_type": "markdown",
   "metadata": {
    "colab_type": "text",
    "id": "oPvUAWQLeXJf"
   },
   "source": [
    "### Element indexing\n",
    "\n",
    "The items in a set cannot be accessed through an index, because the sets are out of order and the articles have no index.\n"
   ]
  },
  {
   "cell_type": "markdown",
   "metadata": {
    "colab_type": "text",
    "id": "GbYGdaveeXJt"
   },
   "source": [
    "### Check for the presence of an element\n",
    "Although the elements are not indexed, we can use the `in` keyword to check if an element is in a set:"
   ]
  },
  {
   "cell_type": "code",
   "execution_count": null,
   "metadata": {
    "colab": {},
    "colab_type": "code",
    "id": "Pc66c5SBeXJt"
   },
   "outputs": [],
   "source": [
    "\"melon\" in myConjunto"
   ]
  },
  {
   "cell_type": "code",
   "execution_count": null,
   "metadata": {
    "colab": {},
    "colab_type": "code",
    "id": "2yFFCgBBeXJv"
   },
   "outputs": [],
   "source": [
    "\"cherry\" in myConjunto"
   ]
  },
  {
   "cell_type": "markdown",
   "metadata": {
    "colab_type": "text",
    "id": "bpXNOomjeXJw"
   },
   "source": [
    "### Calculate the length of a set\n",
    "We can use the `len()` function to calculate the number of elements within the set:"
   ]
  },
  {
   "cell_type": "code",
   "execution_count": null,
   "metadata": {
    "colab": {},
    "colab_type": "code",
    "id": "5iRAeYYneXJx"
   },
   "outputs": [],
   "source": [
    "print(len(mySet))"
   ]
  },
  {
   "cell_type": "markdown",
   "metadata": {
    "colab_type": "text",
    "id": "_Kqm74RYeXJz"
   },
   "source": [
    "### Union of sets\n",
    " \n",
    "To join two or more sets in Python you can use the `union ()` method that returns a new set containing all the elements of both sets. Note that the common elements in both sets will not be repeated\n"
   ]
  },
  {
   "cell_type": "code",
   "execution_count": null,
   "metadata": {
    "colab": {},
    "colab_type": "code",
    "id": "zpNF0Ht9jNmU"
   },
   "outputs": [],
   "source": [
    "mySet = {\"apple\", \"banana\", \"pear\", \"kiwi\"}\n",
    "print(myConjunto)\n",
    "mySet2 = {\"pear\", \"kiwi\", \"melon\", \"mango\"}\n",
    "\n",
    "print(mySet2)\n",
    "mySetUnion = mySet.union(mySet2)\n",
    "print(mySet2)\n",
    "print(mySetUnion)"
   ]
  },
  {
   "cell_type": "markdown",
   "metadata": {
    "colab_type": "text",
    "id": "H5cSIYR9jMxi"
   },
   "source": [
    "Note that with sets the `+` operator will not work.\n"
   ]
  },
  {
   "cell_type": "code",
   "execution_count": null,
   "metadata": {
    "colab": {},
    "colab_type": "code",
    "id": "c1oSJNx3eXJz"
   },
   "outputs": [],
   "source": [
    "mySetUnion = mySet + mySet2\n",
    "print(mySetUnion)"
   ]
  },
  {
   "cell_type": "markdown",
   "metadata": {
    "colab_type": "text",
    "id": "fqY2P9_7eXKA"
   },
   "source": [
    "### Modifying the elements of a set\n",
    "\n",
    "Once a set is created, its elements cannot be changed, but new elements can be added.\n",
    "\n",
    "To add an element to a set, the `.add ()` method can be used. Or if you want to add more than one element to a set, you can use the `.update ()` method.\n",
    "\n"
   ]
  },
  {
   "cell_type": "code",
   "execution_count": null,
   "metadata": {
    "colab": {},
    "colab_type": "code",
    "id": "OjtviU6MeXKB"
   },
   "outputs": [],
   "source": [
    "\n",
    "mySet = {\"apple\", \"banana\", \"cherry\"}\n",
    "print(mySet)\n",
    "\n",
    "# Add new element to the set, using the method add():\n",
    "mySet.add(\"orange\")\n",
    "\n",
    "print(mySet)\n",
    "\n",
    "# Add more than one element in a set, using the method update():\n",
    "mySet.update({\"orange\", \"mango\", \"grape\"})\n",
    "\n",
    "print(mySet)"
   ]
  },
  {
   "cell_type": "markdown",
   "metadata": {
    "colab_type": "text",
    "id": "D1Y-dNOZeXKM"
   },
   "source": [
    "If we want to remove elements from a set, we have several options:\n",
    "\n",
    "* The `remove ()` or `discard ()` method removes the indicated element\n",
    "\n"
   ]
  },
  {
   "cell_type": "code",
   "execution_count": null,
   "metadata": {
    "colab": {},
    "colab_type": "code",
    "id": "5ZKLzy4fmT4J"
   },
   "outputs": [],
   "source": [
    "# Remove an element from the set using the method remove():\n",
    "mySet.remove(\"apple\")\n",
    "print(mySet)\n",
    "\n",
    "# Remove the element \"banana\" using the method discard():\n",
    "mySet.discard(\"banana\")\n",
    "print(mySet)"
   ]
  },
  {
   "cell_type": "markdown",
   "metadata": {
    "colab_type": "text",
    "id": "nrGy0B6wnkUA"
   },
   "source": [
    "If the element to remove does not exist, `remove ()` will cause an error."
   ]
  },
  {
   "cell_type": "code",
   "execution_count": null,
   "metadata": {
    "colab": {},
    "colab_type": "code",
    "id": "Xro4DESdnhEj"
   },
   "outputs": [],
   "source": [
    "mySet.remove(\"apple\")"
   ]
  },
  {
   "cell_type": "markdown",
   "metadata": {
    "colab_type": "text",
    "id": "O5maEjh0inNj"
   },
   "source": [
    "But if the element to delete does not exist, and we use `discard ()`, this method will ** not ** cause an error."
   ]
  },
  {
   "cell_type": "code",
   "execution_count": null,
   "metadata": {
    "colab": {},
    "colab_type": "code",
    "id": "Napmaw4MmdcN"
   },
   "outputs": [],
   "source": [
    "mySet.discard(\"apple\")"
   ]
  },
  {
   "cell_type": "markdown",
   "metadata": {
    "colab_type": "text",
    "id": "ucPC0l9NjqHS"
   },
   "source": [
    "* Also remove items using the `pop ()` method. The difference with the previous methods is that we do not indicate which element we want to eliminate and directly eliminate the last element of the set. To find out which element is removed, the `pop ()` method returns the value of the removed element.\n",
    "\n",
    "Note that since the sets are not ordered, we do not know which element is removed.\n",
    "\n"
   ]
  },
  {
   "cell_type": "code",
   "execution_count": null,
   "metadata": {
    "colab": {},
    "colab_type": "code",
    "id": "0t_wvgfvkXGW"
   },
   "outputs": [],
   "source": [
    "print(mySet)\n",
    "removed_element = mySet.pop()\n",
    "print(mySet)\n",
    "print(removed_element)"
   ]
  },
  {
   "cell_type": "markdown",
   "metadata": {
    "colab_type": "text",
    "id": "aexExQ4jkk_5"
   },
   "source": [
    "* With sets we can also use the `clear()` method to clear the set and the `del` keyword to clear the set."
   ]
  },
  {
   "cell_type": "code",
   "execution_count": null,
   "metadata": {
    "colab": {},
    "colab_type": "code",
    "id": "tfnXzAG8k8NE"
   },
   "outputs": [],
   "source": [
    "print(mySet)\n",
    "mySet.clear()\n",
    "print(mySet)"
   ]
  },
  {
   "cell_type": "code",
   "execution_count": null,
   "metadata": {
    "colab": {},
    "colab_type": "code",
    "id": "uTjensUMeXKN"
   },
   "outputs": [],
   "source": [
    "print(mySet2)\n",
    "del mySet2\n",
    "mySet2"
   ]
  },
  {
   "cell_type": "markdown",
   "metadata": {
    "colab_type": "text",
    "id": "138pMnKglmBe"
   },
   "source": [
    "#### Exercises with sets"
   ]
  },
  {
   "cell_type": "code",
   "execution_count": null,
   "metadata": {
    "colab": {},
    "colab_type": "code",
    "id": "UhXMWaQKllAc"
   },
   "outputs": [],
   "source": []
  },
  {
   "cell_type": "code",
   "execution_count": null,
   "metadata": {
    "colab": {},
    "colab_type": "code",
    "id": "YwZ72CcollDq"
   },
   "outputs": [],
   "source": []
  },
  {
   "cell_type": "code",
   "execution_count": null,
   "metadata": {
    "colab": {},
    "colab_type": "code",
    "id": "-6eRrW2rllGx"
   },
   "outputs": [],
   "source": []
  },
  {
   "cell_type": "code",
   "execution_count": null,
   "metadata": {
    "colab": {},
    "colab_type": "code",
    "id": "R_HECrvzllJz"
   },
   "outputs": [],
   "source": []
  },
  {
   "cell_type": "markdown",
   "metadata": {
    "colab_type": "text",
    "id": "OEuqBFc1Lt-F"
   },
   "source": [
    "You can loop through the list items by using a for loop:"
   ]
  },
  {
   "cell_type": "code",
   "execution_count": null,
   "metadata": {
    "colab": {},
    "colab_type": "code",
    "id": "rPbAG5BZLvaF"
   },
   "outputs": [],
   "source": [
    "thislist = [\"apple\", \"banana\", \"cherry\"]\n",
    "for x in thislist:\n",
    "  print(x) "
   ]
  },
  {
   "cell_type": "code",
   "execution_count": null,
   "metadata": {
    "colab": {},
    "colab_type": "code",
    "id": "f2dhHT76oQj7"
   },
   "outputs": [],
   "source": []
  },
  {
   "cell_type": "markdown",
   "metadata": {
    "colab_type": "text",
    "id": "g8RPifx5_s0r"
   },
   "source": [
    "## Python dictionaries \n",
    "\n",
    "\n",
    "A dictionary is a collection of unordered, changeable and indexed elements without duplicate entries. \n",
    "\n",
    "Dictionaries are written with curly brackets `{` - `}`, and they main characteristic relies in each element has a key to make easier the indexing of the dictionary values. So, each dictionary element is a pair (key-value).\n"
   ]
  },
  {
   "cell_type": "markdown",
   "metadata": {
    "colab_type": "text",
    "id": "4YF1j4kL_s01"
   },
   "source": [
    "### Create a dictionary\n",
    "In Python, dictionaries are written with curly brackets and each entry has to be indicated with a pair key-value. For example:"
   ]
  },
  {
   "cell_type": "code",
   "execution_count": null,
   "metadata": {
    "colab": {},
    "colab_type": "code",
    "id": "64liPP1L_s07"
   },
   "outputs": [],
   "source": [
    "mydict = {\n",
    "  \"name\": \"Ana\",\n",
    "  \"surname\": \"García\",\n",
    "  \"age\": 25\n",
    "}\n",
    "print(mydict)"
   ]
  },
  {
   "cell_type": "markdown",
   "metadata": {
    "colab_type": "text",
    "id": "FmYUJgEbDIdg"
   },
   "source": [
    "Note the use of colons `:` for the key-value assignment."
   ]
  },
  {
   "cell_type": "markdown",
   "metadata": {
    "colab_type": "text",
    "id": "2xDLiZrKCveL"
   },
   "source": [
    "In this way, we can create a dictionary with 3 entries associated to the keys \"name\", \"surname\", \"age\" and, for each key, we have also saved its associated value. \n",
    "\n",
    "In this way, dictionaries allow us to create very flexible structures where to store information in a structured way. \n",
    "\n",
    "We can create an empty dictionary if we do not include any element:"
   ]
  },
  {
   "cell_type": "code",
   "execution_count": null,
   "metadata": {
    "colab": {},
    "colab_type": "code",
    "id": "LXdjeVED5EMh"
   },
   "outputs": [],
   "source": [
    "myemptydict = {}\n",
    "print(myemptydict)"
   ]
  },
  {
   "cell_type": "markdown",
   "metadata": {
    "colab_type": "text",
    "id": "9BfQ3_i4IzFR"
   },
   "source": [
    "Or we use the  constructor `dict()`:\n"
   ]
  },
  {
   "cell_type": "code",
   "execution_count": null,
   "metadata": {
    "colab": {},
    "colab_type": "code",
    "id": "DnWuFkP0I9t1"
   },
   "outputs": [],
   "source": [
    "mydict2 = dict(name = \"Juan\", surname =\"Pérez\", age =30)\n",
    "print(mydict2)"
   ]
  },
  {
   "cell_type": "markdown",
   "metadata": {
    "colab_type": "text",
    "id": "5_vnSB2BJm-C"
   },
   "source": [
    "Note that now the keys are not provided as string literals and we use equals instead of colons for the key-value assignment."
   ]
  },
  {
   "cell_type": "markdown",
   "metadata": {
    "colab_type": "text",
    "id": "Fp5ETF2A41Fl"
   },
   "source": [
    "### Accessing Keys and Values\n",
    "\n",
    "Once we have created the dictionary, we can access a specific value through its key:"
   ]
  },
  {
   "cell_type": "code",
   "execution_count": null,
   "metadata": {
    "colab": {},
    "colab_type": "code",
    "id": "TiX0TIjxDRDh"
   },
   "outputs": [],
   "source": [
    "mydict[\"name\"]"
   ]
  },
  {
   "cell_type": "markdown",
   "metadata": {
    "colab_type": "text",
    "id": "_9fKkH1o4OV4"
   },
   "source": [
    "Note that for accesing to the element, we call the dictionary indicating the key associated to the desired vaue between square brackets.\n",
    "\n",
    "Dictionaries also have a method `.get()` that will provide the same result:"
   ]
  },
  {
   "cell_type": "code",
   "execution_count": null,
   "metadata": {
    "colab": {},
    "colab_type": "code",
    "id": "di1UchcA4qUq"
   },
   "outputs": [],
   "source": [
    "mydict.get(\"name\")"
   ]
  },
  {
   "cell_type": "markdown",
   "metadata": {
    "colab_type": "text",
    "id": "3Pn5lS2s7CfY"
   },
   "source": [
    "We can change the value of a specific entry by accesing with its key:"
   ]
  },
  {
   "cell_type": "code",
   "execution_count": null,
   "metadata": {
    "colab": {},
    "colab_type": "code",
    "id": "x_ibvyMG7R77"
   },
   "outputs": [],
   "source": [
    "mydict[\"name\"]='Marta'\n",
    "mydict.get(\"name\")"
   ]
  },
  {
   "cell_type": "markdown",
   "metadata": {
    "colab_type": "text",
    "id": "wBHngKl9DDK7"
   },
   "source": [
    "Note the use of equals rather than colon for the assignment"
   ]
  },
  {
   "cell_type": "markdown",
   "metadata": {
    "colab_type": "text",
    "id": "BO-lke09_XiN"
   },
   "source": [
    "If the key does not exist, an error is returned "
   ]
  },
  {
   "cell_type": "code",
   "execution_count": null,
   "metadata": {
    "colab": {},
    "colab_type": "code",
    "id": "pwmc5txS_pYa"
   },
   "outputs": [],
   "source": [
    "mydict[\"status\"]"
   ]
  },
  {
   "cell_type": "markdown",
   "metadata": {
    "colab_type": "text",
    "id": "SuWBeaTxBCr-"
   },
   "source": [
    "We can avoid this error, using the function get "
   ]
  },
  {
   "cell_type": "code",
   "execution_count": null,
   "metadata": {
    "colab": {},
    "colab_type": "code",
    "id": "GnRtjrV5AHR5"
   },
   "outputs": [],
   "source": [
    "mydict.get(\"status\") is None"
   ]
  },
  {
   "cell_type": "markdown",
   "metadata": {
    "colab_type": "text",
    "id": "3i6oV7A16KVF"
   },
   "source": [
    "If you need to access to all key-value pairs, you can use the .items() method"
   ]
  },
  {
   "cell_type": "code",
   "execution_count": null,
   "metadata": {
    "colab": {},
    "colab_type": "code",
    "id": "7GPtjxrg6wN5"
   },
   "outputs": [],
   "source": [
    "mydict.items()"
   ]
  },
  {
   "cell_type": "markdown",
   "metadata": {
    "colab_type": "text",
    "id": "lU0inZz-6jvR"
   },
   "source": [
    "note that this method returns a list of all key-value pairs, where each pair is returned as a tuple."
   ]
  },
  {
   "cell_type": "markdown",
   "metadata": {
    "colab_type": "text",
    "id": "XqU_xOys7Z3F"
   },
   "source": [
    "We can also access independently to either all keys or all values using the methods `.keys()` or `.values()`, respectively."
   ]
  },
  {
   "cell_type": "code",
   "execution_count": null,
   "metadata": {
    "colab": {},
    "colab_type": "code",
    "id": "nBf_IZPn_s1M"
   },
   "outputs": [],
   "source": [
    "mydict.keys()"
   ]
  },
  {
   "cell_type": "code",
   "execution_count": null,
   "metadata": {
    "colab": {},
    "colab_type": "code",
    "id": "F7Q4fFnr7-UP"
   },
   "outputs": [],
   "source": [
    "mydict.values()"
   ]
  },
  {
   "cell_type": "markdown",
   "metadata": {
    "colab_type": "text",
    "id": "hJur-w4k8a6V"
   },
   "source": [
    "You can loop through the elements of a dictionary by using a `for` loop. For this purpose, we only have to take into account that the returned elements are the keys of the dictionary:\n"
   ]
  },
  {
   "cell_type": "code",
   "execution_count": null,
   "metadata": {
    "colab": {},
    "colab_type": "code",
    "id": "h-nIQn-H-IPt"
   },
   "outputs": [],
   "source": [
    "for key in mydict:\n",
    "  print(key)"
   ]
  },
  {
   "cell_type": "code",
   "execution_count": null,
   "metadata": {
    "colab": {},
    "colab_type": "code",
    "id": "WF9Ox1QQ-iNH"
   },
   "outputs": [],
   "source": [
    "# We can use these keys to return the values\n",
    "for key in mydict:\n",
    "  print(mydict[key])"
   ]
  },
  {
   "cell_type": "markdown",
   "metadata": {
    "colab_type": "text",
    "id": "mxysI-oD-Ooa"
   },
   "source": [
    "But we can use the methods `.items` or `.values` to iterate over other elements\n"
   ]
  },
  {
   "cell_type": "code",
   "execution_count": null,
   "metadata": {
    "colab": {},
    "colab_type": "code",
    "id": "2Ii6_KrQ-wsg"
   },
   "outputs": [],
   "source": [
    "for value in mydict.values():\n",
    "  print(value)\n"
   ]
  },
  {
   "cell_type": "code",
   "execution_count": null,
   "metadata": {
    "colab": {},
    "colab_type": "code",
    "id": "r66PmYSu-2Gh"
   },
   "outputs": [],
   "source": [
    "for key, value in mydict.items():\n",
    "  print(key, value)"
   ]
  },
  {
   "cell_type": "markdown",
   "metadata": {
    "colab_type": "text",
    "id": "WLwOiVWRCIfb"
   },
   "source": [
    "### Adding and removing elements\n",
    "\n",
    "To add a new entry (key-value) to a dictionary, we can just use a new key and assign a value to it:\n",
    "\n"
   ]
  },
  {
   "cell_type": "code",
   "execution_count": null,
   "metadata": {
    "colab": {},
    "colab_type": "code",
    "id": "nj8t38vACh5S"
   },
   "outputs": [],
   "source": [
    "mydict[\"status\"] = 'single'\n",
    "print(mydict)"
   ]
  },
  {
   "cell_type": "markdown",
   "metadata": {
    "colab_type": "text",
    "id": "MqrGr21IGzmc"
   },
   "source": [
    "Or you can use the method `.update()`:"
   ]
  },
  {
   "cell_type": "code",
   "execution_count": null,
   "metadata": {
    "colab": {},
    "colab_type": "code",
    "id": "MQVIa8ruG7M2"
   },
   "outputs": [],
   "source": [
    "mydict.update({\"job\":'teacher'})\n",
    "print(mydict)"
   ]
  },
  {
   "cell_type": "markdown",
   "metadata": {
    "colab_type": "text",
    "id": "agoqGPCrHnSb"
   },
   "source": [
    "Although, in general, this method updates the dictionary with elements from other dictionary. In case the other dictionary has new key values, these are added as new elements; otherwise, the associated values are updated. For example:"
   ]
  },
  {
   "cell_type": "code",
   "execution_count": null,
   "metadata": {
    "colab": {},
    "colab_type": "code",
    "id": "GWCId2cQIKdX"
   },
   "outputs": [],
   "source": [
    "mydict2 = {1: \"one\", 2: \"three\"}\n",
    "dictnew = {2: \"two\", 3: \"three\"}\n",
    "\n",
    "mydict2.update(dictnew)\n",
    "print(mydict2)"
   ]
  },
  {
   "cell_type": "markdown",
   "metadata": {
    "colab_type": "text",
    "id": "6Tscsp-ACjSo"
   },
   "source": [
    "To remove elements from a dictionary, we can use the following methods:\n",
    "* `.pop()` or `del` (the latter is a Python function): they remove the item associated to a given key.\n",
    "\n",
    "* `.popitem()`: it removes the last inserted element.\n"
   ]
  },
  {
   "cell_type": "code",
   "execution_count": null,
   "metadata": {
    "colab": {},
    "colab_type": "code",
    "id": "3PEC4N20Ci6d"
   },
   "outputs": [],
   "source": [
    "mydict.popitem() \n",
    "print(mydict)"
   ]
  },
  {
   "cell_type": "code",
   "execution_count": null,
   "metadata": {
    "colab": {},
    "colab_type": "code",
    "id": "_N6BIbtYFFjn"
   },
   "outputs": [],
   "source": [
    "mydict.pop(\"age\") \n",
    "print(mydict)"
   ]
  },
  {
   "cell_type": "code",
   "execution_count": null,
   "metadata": {
    "colab": {},
    "colab_type": "code",
    "id": "9owdzBQBFdOJ"
   },
   "outputs": [],
   "source": [
    "del mydict[\"name\"]\n",
    "print(mydict)"
   ]
  },
  {
   "cell_type": "markdown",
   "metadata": {
    "colab_type": "text",
    "id": "PiRcwStoFlnr"
   },
   "source": [
    "Or we can even use `del` to remove the complete dictionary"
   ]
  },
  {
   "cell_type": "code",
   "execution_count": null,
   "metadata": {
    "colab": {},
    "colab_type": "code",
    "id": "AXOATvhxFriK"
   },
   "outputs": [],
   "source": [
    "del mydict\n",
    "print(mydict)"
   ]
  },
  {
   "cell_type": "markdown",
   "metadata": {
    "colab_type": "text",
    "id": "fvUeh81FF2oV"
   },
   "source": [
    "If we only want to remove the elements of the dictionary, without deleting the variable, we can use the method `.clear`:"
   ]
  },
  {
   "cell_type": "code",
   "execution_count": null,
   "metadata": {
    "colab": {},
    "colab_type": "code",
    "id": "BkmfhdwBF29a"
   },
   "outputs": [],
   "source": [
    "mydict = {\n",
    "  \"name\": \"Ana\",\n",
    "  \"surname\": \"García\",\n",
    "  \"age\": 25\n",
    "}\n",
    "print(mydict)"
   ]
  },
  {
   "cell_type": "code",
   "execution_count": null,
   "metadata": {
    "colab": {},
    "colab_type": "code",
    "id": "8mXMSUCrGU4_"
   },
   "outputs": [],
   "source": [
    "mydict.clear()\n",
    "print(mydict)"
   ]
  },
  {
   "cell_type": "markdown",
   "metadata": {
    "colab_type": "text",
    "id": "oht2DGtm8XUS"
   },
   "source": [
    "### Nested Structures\n",
    "\n",
    "In Python we can create nested structures. For example, we can create:\n",
    "\n",
    "**Nested Dictionaries**: This is a dictionary containing many dictionaries.\n",
    "\n",
    "**List of Dictionaries**: This is a list where each element is a dictionary. In this structures is quite common that all dictionaries have the same keys, but this is not mandatory.  \n"
   ]
  },
  {
   "cell_type": "code",
   "execution_count": null,
   "metadata": {
    "colab": {},
    "colab_type": "code",
    "id": "RKZcc0efLKvI"
   },
   "outputs": [],
   "source": [
    "# Example of a neted dictionary\n",
    "children = {\n",
    "  \"child1\" : {\n",
    "    \"name\" : \"Alex\",\n",
    "    \"age\" : 4\n",
    "  },\n",
    "  \"child2\" : {\n",
    "    \"name\" : \"Eva\",\n",
    "    \"year\" : 7\n",
    "  },\n",
    "  \"child3\" : {\n",
    "    \"name\" : \"Daniel\",\n",
    "    \"year\" : 11\n",
    "  }\n",
    "}\n",
    "print(children)"
   ]
  },
  {
   "cell_type": "code",
   "execution_count": null,
   "metadata": {
    "colab": {},
    "colab_type": "code",
    "id": "jh6jrri_Lvy3"
   },
   "outputs": [],
   "source": [
    "# Example of a list of dictionaries\n",
    "\n",
    "children = [{\n",
    "    \"name\" : \"Alex\",\n",
    "    \"age\" : 4\n",
    "  }, {\n",
    "    \"name\" : \"Eva\",\n",
    "    \"year\" : 7\n",
    "  }, {\n",
    "    \"name\" : \"Daniel\",\n",
    "    \"year\" : 11\n",
    "  }]\n",
    "print(children)"
   ]
  },
  {
   "cell_type": "markdown",
   "metadata": {
    "colab_type": "text",
    "id": "sB70VS1LRtyU"
   },
   "source": [
    "**Exercises with dictionaries**\n",
    "\n",
    "Let's create a dictionary with your classmate information, using the name as key and their studies (degree) as values. For this exercise, it's enough if you only include the data of 5 or 6 classmates (you can use the chat to share this information)."
   ]
  },
  {
   "cell_type": "code",
   "execution_count": null,
   "metadata": {
    "colab": {},
    "colab_type": "code",
    "id": "c0z0YEZcSnFJ"
   },
   "outputs": [],
   "source": [
    "classmates={'Maria':'Telecomunication Eng', 'Pablo': 'Biomedical Eng', 'Marta':'Biomedical Eng', 'Ana': 'Computer Science', 'Antonio' :'Telecomunication Eng'}\n",
    "print(classmates)"
   ]
  },
  {
   "cell_type": "markdown",
   "metadata": {
    "colab_type": "text",
    "id": "Mkjn_JLyT72I"
   },
   "source": [
    "Now solve the following exercise/questions:\n",
    "* Which degree has Ana studied?\n",
    "* Update your dictionary with the information of other classmate?\n",
    "* List the names of all the classmates in your dictionary\n",
    "* How many people are studied Biomedical Engineering?\n"
   ]
  },
  {
   "cell_type": "code",
   "execution_count": null,
   "metadata": {
    "colab": {},
    "colab_type": "code",
    "id": "zBbxp2MaT7dj"
   },
   "outputs": [],
   "source": [
    "### SOLUTION"
   ]
  },
  {
   "cell_type": "markdown",
   "metadata": {
    "colab_type": "text",
    "id": "eKqCOgWw8-hD"
   },
   "source": [
    "# List Comprehension\n",
    "\n",
    "List comprehension is an elegant way to create list in Python based on existing lists (or iterators). \n",
    "\n",
    "To define a new list in Python using list comprehension, we also have to define an expression between brackets, but instead of the list of elements inside it, we will define an expression followed by for loop: \n",
    "\n",
    "`new_list = [(operation over item) for item in iterator]`\n",
    "\n",
    "This expression allows taking item form our iterator (this can be another list), apply an operation over them, and generate the new elements that are automatycally appended in `new_list``.\n",
    "\n",
    "This sintaxis makes this new way to define lists more compact and faster than normal definition.\n",
    "\n",
    "Let's see how this is working with some examples:\n"
   ]
  },
  {
   "cell_type": "markdown",
   "metadata": {
    "colab_type": "text",
    "id": "EEuoPfWT5nvp"
   },
   "source": [
    "**Example 1**: Let's create a list with the characters in the sentence \"Hello world!\" "
   ]
  },
  {
   "cell_type": "code",
   "execution_count": null,
   "metadata": {
    "colab": {},
    "colab_type": "code",
    "id": "OewT74U4ZNKL"
   },
   "outputs": [],
   "source": [
    "# Standard solution\n",
    "sentence = \"Hello world!\"\n",
    "mylist= []\n",
    "for char in sentence:\n",
    "  mylist.append(char)\n",
    "\n",
    "print(mylist)"
   ]
  },
  {
   "cell_type": "code",
   "execution_count": null,
   "metadata": {
    "colab": {},
    "colab_type": "code",
    "id": "9h55o7dfZNHR"
   },
   "outputs": [],
   "source": [
    "# List comprehension\n",
    "sentence = \"Hello world!\"\n",
    "mylist2 = [char for char in sentence]\n",
    "print(mylist2)"
   ]
  },
  {
   "cell_type": "markdown",
   "metadata": {
    "colab_type": "text",
    "id": "n6WjKljW6d-I"
   },
   "source": [
    "**Example 2**: Let's compute the square of the number from 0 to 10"
   ]
  },
  {
   "cell_type": "code",
   "execution_count": null,
   "metadata": {
    "colab": {},
    "colab_type": "code",
    "id": "5MWprkubZNEH"
   },
   "outputs": [],
   "source": [
    "# Standard solution\n",
    "mylist= []\n",
    "for num in range(11):\n",
    "  mylist.append(num**2)\n",
    "\n",
    "print(mylist)"
   ]
  },
  {
   "cell_type": "code",
   "execution_count": null,
   "metadata": {
    "colab": {},
    "colab_type": "code",
    "id": "CoG20htEZNBN"
   },
   "outputs": [],
   "source": [
    "# List comprehension\n",
    "mylist2 = [num**2 for num in range(11)]\n",
    "print(mylist2)"
   ]
  },
  {
   "cell_type": "markdown",
   "metadata": {
    "colab_type": "text",
    "id": "zCTwxuzd63_j"
   },
   "source": [
    "#### If...else With List Comprehension\n",
    "\n",
    "List comprehension also allows us to include `if ... else ...` statements in its definition.\n",
    "\n",
    "For example, in Example 2, we can compute the square of only the odd numbers between 0 and 10."
   ]
  },
  {
   "cell_type": "code",
   "execution_count": null,
   "metadata": {
    "colab": {},
    "colab_type": "code",
    "id": "VKFjL_i67h1s"
   },
   "outputs": [],
   "source": [
    "# Standard solution\n",
    "mylist= []\n",
    "for num in range(11):\n",
    "  if (num % 2) != 0:\n",
    "    mylist.append(num**2)\n",
    "\n",
    "print(mylist)"
   ]
  },
  {
   "cell_type": "code",
   "execution_count": null,
   "metadata": {
    "colab": {},
    "colab_type": "code",
    "id": "c0XpK7jK7teS"
   },
   "outputs": [],
   "source": [
    "# List comprehension\n",
    "mylist2 = [num**2 for num in range(11) if (num % 2) != 0]\n",
    "print(mylist2)"
   ]
  },
  {
   "cell_type": "markdown",
   "metadata": {
    "colab_type": "text",
    "id": "gTFEfiuS73nR"
   },
   "source": [
    "Or we can compute the square of the odd numbers and the cube of the even ones."
   ]
  },
  {
   "cell_type": "code",
   "execution_count": null,
   "metadata": {
    "colab": {},
    "colab_type": "code",
    "id": "wU2MJzhw72TR"
   },
   "outputs": [],
   "source": [
    "# Standard solution\n",
    "mylist= []\n",
    "for num in range(11):\n",
    "  if (num % 2) != 0:\n",
    "    mylist.append(num**2)\n",
    "  else:\n",
    "    mylist.append(num**3)\n",
    "print(mylist)"
   ]
  },
  {
   "cell_type": "code",
   "execution_count": null,
   "metadata": {
    "colab": {},
    "colab_type": "code",
    "id": "ZEX_JsZm8LB7"
   },
   "outputs": [],
   "source": [
    "# List comprehension\n",
    "mylist2 = [num**2 if (num % 2) != 0 else num**3 for num in range(11)]\n",
    "print(mylist2)"
   ]
  },
  {
   "cell_type": "markdown",
   "metadata": {
    "colab_type": "text",
    "id": "tAm1ZP3D8fCh"
   },
   "source": [
    "#### Dictionary Comprehension\n",
    "\n",
    "We can create a dictionary with using a similar sintaxis by using curly brackets instead of square ones and indicating the pairs key:value instead of the list elements.\n"
   ]
  },
  {
   "cell_type": "markdown",
   "metadata": {
    "colab_type": "text",
    "id": "28sWaBLJ9qOL"
   },
   "source": [
    "**Example 3**: Let's compute a dictionary with pairs (number, number**2) where the number is the key and the value its square."
   ]
  },
  {
   "cell_type": "code",
   "execution_count": null,
   "metadata": {
    "colab": {},
    "colab_type": "code",
    "id": "WnDm4_aS9CNp"
   },
   "outputs": [],
   "source": [
    "# Dict comprehension\n",
    "mydict = {num:num**2 for num in range(11)}\n",
    "print(mydict)"
   ]
  },
  {
   "cell_type": "code",
   "execution_count": null,
   "metadata": {
    "colab": {},
    "colab_type": "code",
    "id": "goda63uq-MKI"
   },
   "outputs": [],
   "source": [
    "mydict[6]"
   ]
  },
  {
   "cell_type": "markdown",
   "metadata": {
    "colab_type": "text",
    "id": "qoVIamCeMYoR"
   },
   "source": [
    "# User defined functions\n",
    "\n",
    "A function is a block of organized, reusable code that is used to perform a single, related action. Functions provide better modularity and a high degree of code reusing.\n",
    "\n",
    "As we have seen, Python gives us many built-in functions like `print()`, etc. but you can also create your own.\n",
    "\n",
    "### Defining a function:\n",
    "\n",
    "-  Function blocks begin with the keyword `def` followed by the function name and parentheses ( `( )` ).\n",
    "\n",
    "-  Any input parameters or arguments should be placed within these parentheses. You can also define parameters inside these parentheses.\n",
    "\n",
    "-  The first statement of a function can be an optional statement - the documentation string of the function or docstring. Docstring blocks start and end with triple quotes (`\"\"\"`).\n",
    "\n",
    "-  The code block within every function starts with a colon (``:``) and is indented.\n",
    "\n",
    "-  The statement ``return [expression]`` exits a function, optionally passing back an expression to the caller. A return statement with no arguments is the same as ``return None``."
   ]
  },
  {
   "cell_type": "code",
   "execution_count": null,
   "metadata": {
    "colab": {},
    "colab_type": "code",
    "id": "dZ1OUroIM0At"
   },
   "outputs": [],
   "source": [
    "# Example of a function:\n",
    "\n",
    "def add_five(a):\n",
    "  \"\"\"This function adds the number five to its input argument.\"\"\"\n",
    "  return a + 5\n",
    "\n",
    "# Let's try it out!\n",
    "x = int(input('Please enter an integer: '))\n",
    "print('Our add_five function is super effective at adding fives:')\n",
    "print(x, '+ 5 =', add_five(x))"
   ]
  },
  {
   "cell_type": "markdown",
   "metadata": {
    "colab_type": "text",
    "id": "3dmjEo0hM6G0"
   },
   "source": [
    "Now try it yourself! Write a function called my_factorial that computes the fatorial of a given number. If you're feeling particularly brave today, you can try writing it recursively, since Python obviously supports recursion. Remember that the factorial of 0 is 1 and the factorial of a negative number is undefined."
   ]
  },
  {
   "cell_type": "code",
   "execution_count": null,
   "metadata": {
    "colab": {},
    "colab_type": "code",
    "id": "LZJGH5kTM5JH"
   },
   "outputs": [],
   "source": [
    "# Write a function that computes the factorial of a given number.\n",
    "\n",
    "# <FILL IN>\n",
    "\n",
    "# Let's try it out!\n",
    "from math import factorial\n",
    "x = int(input('Please enter an integer: '))\n",
    "if my_factorial(x) == factorial(x):\n",
    "  print(x, '! = ', my_factorial(x))\n",
    "  print('It works!')\n",
    "else:\n",
    "  print(\"Something's not working...\" )"
   ]
  },
  {
   "cell_type": "markdown",
   "metadata": {
    "colab_type": "text",
    "id": "xJJLbCmrCiTH"
   },
   "source": [
    "# Value or Reference invoking\n",
    "\n",
    "Analyze the following code:\n"
   ]
  },
  {
   "cell_type": "code",
   "execution_count": null,
   "metadata": {
    "colab": {},
    "colab_type": "code",
    "id": "ZBECphmonl3D"
   },
   "outputs": [],
   "source": [
    "a='hello'\n",
    "b=a   \n",
    "a='bye'\n",
    "\n",
    "print(a)\n",
    "print(b)"
   ]
  },
  {
   "cell_type": "code",
   "execution_count": null,
   "metadata": {
    "colab": {},
    "colab_type": "code",
    "id": "R1GIGd20nwCa"
   },
   "outputs": [],
   "source": [
    "a=[1, 2, 3]\n",
    "b=a   \n",
    "a[1] = 4\n",
    "\n",
    "print(a)\n",
    "print(b)"
   ]
  },
  {
   "cell_type": "markdown",
   "metadata": {
    "colab_type": "text",
    "id": "uEzsa7JrFMrE"
   },
   "source": [
    "Depending on the type of data we send to the function, we can differentiate two behaviors:\n",
    "* **Pass by value**: A local copy of the variable is created within the function.\n",
    "* **Pass by reference**: The variable is handled directly, the changes made inside the function will also affect it outside.\n",
    "\n",
    "Traditionally:\n",
    "\n",
    "* Simple types are passed by value: Integers, floats, strings, logical ...\n",
    "* Compound types are passed by reference: Lists, dictionaries, sets \n",
    "\n",
    "This fact also affects to functions when we are passing variables. Check the follwing examples:"
   ]
  },
  {
   "cell_type": "code",
   "execution_count": null,
   "metadata": {
    "colab": {},
    "colab_type": "code",
    "id": "ZzITJSfzFjuV"
   },
   "outputs": [],
   "source": [
    "def double_values(numbers):\n",
    "    for i,n in enumerate(numbers):\n",
    "        numbers[i] *= 2\n",
    "\n",
    "ns = [10,50,100]\n",
    "double_values(ns)\n",
    "print(ns)"
   ]
  },
  {
   "cell_type": "markdown",
   "metadata": {
    "colab_type": "text",
    "id": "2mJIk7sEF576"
   },
   "source": [
    "To modify the simple types we can return them modified and reassign them:"
   ]
  },
  {
   "cell_type": "code",
   "execution_count": null,
   "metadata": {
    "colab": {},
    "colab_type": "code",
    "id": "586jqAIzFwCT"
   },
   "outputs": [],
   "source": [
    "def double_value(number):\n",
    "    return number * 2\n",
    "\n",
    "n = 10\n",
    "n = double_value(n)\n",
    "print(n)"
   ]
  },
  {
   "cell_type": "markdown",
   "metadata": {
    "colab_type": "text",
    "id": "mS9UpzffGCwc"
   },
   "source": [
    "And in the case of compound types, we can avoid modification by sending a copy:"
   ]
  },
  {
   "cell_type": "code",
   "execution_count": null,
   "metadata": {
    "colab": {},
    "colab_type": "code",
    "id": "7pQri_B5GK_t"
   },
   "outputs": [],
   "source": [
    "def double_values(numbers):\n",
    "    for i,n in enumerate(numbers):\n",
    "        numbers[i] *= 2\n",
    "\n",
    "ns = [10,50,100]\n",
    "double_values (ns[:])  # Una copia al vuelo de una lista con [:]\n",
    "print(ns)"
   ]
  }
 ],
 "metadata": {
  "colab": {
   "collapsed_sections": [],
   "name": "IntroPython1.ipynb",
   "provenance": []
  },
  "kernelspec": {
   "display_name": "Python 3 (ipykernel)",
   "language": "python",
   "name": "python3"
  },
  "language_info": {
   "codemirror_mode": {
    "name": "ipython",
    "version": 3
   },
   "file_extension": ".py",
   "mimetype": "text/x-python",
   "name": "python",
   "nbconvert_exporter": "python",
   "pygments_lexer": "ipython3",
   "version": "3.9.12"
  }
 },
 "nbformat": 4,
 "nbformat_minor": 4
}
