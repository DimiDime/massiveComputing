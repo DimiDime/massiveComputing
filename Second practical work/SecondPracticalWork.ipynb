{
  "nbformat": 4,
  "nbformat_minor": 0,
  "metadata": {
    "accelerator": "GPU",
    "colab": {
      "provenance": []
    },
    "kernelspec": {
      "display_name": "Python 3",
      "language": "python",
      "name": "python3"
    },
    "language_info": {
      "codemirror_mode": {
        "name": "ipython",
        "version": 3
      },
      "file_extension": ".py",
      "mimetype": "text/x-python",
      "name": "python",
      "nbconvert_exporter": "python",
      "pygments_lexer": "ipython3",
      "version": "3.7.9"
    }
  },
  "cells": [
    {
      "cell_type": "markdown",
      "metadata": {
        "id": "RgiFzR-TVFrA"
      },
      "source": [
        "#Second Practical work\n",
        "\n",
        "This is second practical work skeleton.\n",
        "\n",
        "It is divided in 3 parts_\n",
        "\n",
        "1.   Python module load section: load all the needed modules\n",
        "2.   Google Drive access and mounting\n",
        "3.   Host load data\n",
        "4.   GPU load\n",
        "\n",
        "\n",
        "\n"
      ]
    },
    {
      "cell_type": "markdown",
      "metadata": {
        "id": "tfmxFIzPWszg"
      },
      "source": [
        "##Module load section\n",
        "We will install the pycuda module in the colaboratory environment, to combine python and CUDA in our code. Because pycuda is not available by default, this task can take a few minutes.\n",
        "\n",
        "As well we load numpy and matplotlib modules."
      ]
    },
    {
      "cell_type": "code",
      "metadata": {
        "id": "h5Q-ylEHHB2k",
        "colab": {
          "base_uri": "https://localhost:8080/"
        },
        "outputId": "32619893-4d1d-4e58-bae6-fdb4191bf10e"
      },
      "source": [
        "!pip install pycuda"
      ],
      "execution_count": null,
      "outputs": [
        {
          "output_type": "stream",
          "name": "stdout",
          "text": [
            "Looking in indexes: https://pypi.org/simple, https://us-python.pkg.dev/colab-wheels/public/simple/\n",
            "Collecting pycuda\n",
            "  Downloading pycuda-2022.1.tar.gz (1.7 MB)\n",
            "\u001b[K     |████████████████████████████████| 1.7 MB 37.0 MB/s \n",
            "\u001b[?25h  Installing build dependencies ... \u001b[?25l\u001b[?25hdone\n"
          ]
        }
      ]
    },
    {
      "cell_type": "markdown",
      "metadata": {
        "id": "hl4AhbSbW19W"
      },
      "source": [
        "We import the Python modules which we will use in the notebook (numpy, pycuda and time module) "
      ]
    },
    {
      "cell_type": "code",
      "metadata": {
        "id": "TLEg2Y41HFB3"
      },
      "source": [
        "import  numpy  as  np\n",
        "import  pycuda.autoinit\n",
        "from    pycuda.compiler import SourceModule\n",
        "import  pycuda.driver as  drv\n",
        "import  pycuda.gpuarray as  gpuarray\n",
        "from sys import getsizeof\n",
        "import time"
      ],
      "execution_count": null,
      "outputs": []
    },
    {
      "cell_type": "code",
      "metadata": {
        "id": "JfOtyml91WNb"
      },
      "source": [
        "%pylab inline\n",
        "from PIL import Image\n",
        "import matplotlib.pyplot as plt\n",
        "import matplotlib.image as mpimg\n",
        "import cProfile"
      ],
      "execution_count": null,
      "outputs": []
    },
    {
      "cell_type": "markdown",
      "metadata": {
        "id": "CHsvF9qH2G_u"
      },
      "source": [
        "##Mount Google Drive and access grant\n",
        "We use Google API to allow access to our Google Drive.\n",
        "\n",
        "For security and privacy reasons, this permission is temporally, and will be requested every time you restart the notebook. \n",
        "\n",
        "Your Google Drive will be mounted in the \"/content/drive\" folder. The first Folder will be \"My Drive\".\n",
        "\n",
        "You have to copy your images to a folder in the \"My Drive\" folder in your Google Drive.\n",
        "\n",
        "To check your available files, use the cell indicated as \"**List Files in Folder**\""
      ]
    },
    {
      "cell_type": "code",
      "metadata": {
        "id": "ykYa7-u8zDzk"
      },
      "source": [
        "from os.path import join\n",
        "from google.colab import drive\n",
        "drive.mount(\"/content/drive\")"
      ],
      "execution_count": null,
      "outputs": []
    },
    {
      "cell_type": "code",
      "metadata": {
        "id": "RN-zy4mQzN-J"
      },
      "source": [
        "MYDRIVE=\"/content/drive/My Drive/\""
      ],
      "execution_count": null,
      "outputs": []
    },
    {
      "cell_type": "markdown",
      "metadata": {
        "id": "ZtdarelZfv7Y"
      },
      "source": [
        "**List Files in Folders**"
      ]
    },
    {
      "cell_type": "code",
      "metadata": {
        "id": "IEkj24AFzdqw"
      },
      "source": [
        "!ls /content/drive/My\\ Drive/images"
      ],
      "execution_count": null,
      "outputs": []
    },
    {
      "cell_type": "markdown",
      "metadata": {
        "id": "hQ9NrNYXf1Rg"
      },
      "source": [
        "We define a variable IMAGE which is constructed joining the \"MYDRIVE\" varible plus the final path to your image."
      ]
    },
    {
      "cell_type": "code",
      "metadata": {
        "id": "2TAhlCjS0YPw"
      },
      "source": [
        "IMAGE=join(MYDRIVE,'images', 'chess.jpg')"
      ],
      "execution_count": null,
      "outputs": []
    },
    {
      "cell_type": "code",
      "metadata": {
        "id": "xVa1h0wr0fDJ"
      },
      "source": [
        "print(\"Image to load: {0}\".format(IMAGE))"
      ],
      "execution_count": null,
      "outputs": []
    },
    {
      "cell_type": "markdown",
      "metadata": {
        "id": "otUSnNLOgilw"
      },
      "source": [
        "Loads an image in a numpy variable, and show."
      ]
    },
    {
      "cell_type": "code",
      "metadata": {
        "id": "K5MbuRm_1hdQ"
      },
      "source": [
        "image=np.array(Image.open(IMAGE))\n",
        "plt.figure()\n",
        "plt.imshow(image)"
      ],
      "execution_count": null,
      "outputs": []
    },
    {
      "cell_type": "markdown",
      "source": [
        "Here we define the individual filters"
      ],
      "metadata": {
        "id": "5XAy09CpR-iU"
      }
    },
    {
      "cell_type": "code",
      "metadata": {
        "id": "eWzJi8niPpuQ"
      },
      "source": [
        "filter1=np.array([\n",
        "    [0,0,0,0,0],\n",
        "    [0,0,0,0,0],\n",
        "    [0,0,1,0,0],\n",
        "    [0,0,0,0,0],\n",
        "    [0,0,0,0,0]\n",
        "])\n",
        "filter2=np.array([[0.5, 0 , -0.5]])\n",
        "filter3=np.array([[0.5],[0],[-0.5]])\n",
        "\n",
        "filter4=np.array([\n",
        "    [1,0,-1],\n",
        "    [2,0,-2],\n",
        "    [1,0,-1]\n",
        "])\n",
        "filter5=np.array([\n",
        "    [0.00078633,0.00655965,0.01330373,0.00655965,0.00078633],\n",
        "    [0.00655965,0.05472157,0.11098164,0.05472157,0.00655965],\n",
        "    [0.01330373,0.11098164,0.22508352,0.11098164,0.01330373],\n",
        "    [0.00655965,0.05472157,0.11098164,0.05472157,0.00655965],\n",
        "    [0.00078633,0.00655965,0.01330373,0.00655965,0.00078633]\n",
        "])"
      ],
      "execution_count": null,
      "outputs": []
    },
    {
      "cell_type": "markdown",
      "source": [
        "Here we define the fiter masks, and gpu filter mask"
      ],
      "metadata": {
        "id": "Ynfh3n_OR3gd"
      }
    },
    {
      "cell_type": "code",
      "source": [
        "filter_mask=filter5.astype(np.float32)\n",
        "filter_mask_gpu=gpuarray.to_gpu(filter_mask)"
      ],
      "metadata": {
        "id": "eMbJqnTFRujq"
      },
      "execution_count": null,
      "outputs": []
    },
    {
      "cell_type": "code",
      "source": [
        "image_shape=image.shape[0:2]"
      ],
      "metadata": {
        "id": "MtvdkU2xS7Se"
      },
      "execution_count": null,
      "outputs": []
    },
    {
      "cell_type": "code",
      "source": [
        "block_s=16\n",
        "BLOCK_SIZE=(block_s,block_s,1)\n",
        "grid_size=(int(np.ceil(image_shape[1]/block_s)),int(np.ceil(image_shape[0]/block_s)))"
      ],
      "metadata": {
        "id": "MomS8rgWS1Y_"
      },
      "execution_count": null,
      "outputs": []
    },
    {
      "cell_type": "markdown",
      "metadata": {
        "id": "GhQwn2EMXDEY"
      },
      "source": [
        "#FILTER KERNEL\n",
        "\n",
        "Here you have to define your image_filter GPU kernel."
      ]
    },
    {
      "cell_type": "code",
      "metadata": {
        "id": "PY6Tlr-DHWU6"
      },
      "source": [
        "kernel_str = \"\"\"\n",
        "__global__ void image_filter( float * image,          //Source GPU array floating point 32 bits,\n",
        "\t\t                          float * filter_mask,    //Filter Mask GPU array 2D floating point 32 bits\n",
        "                              float * filtered_image,  //Target GPU array 2D floating point 32 bits,\n",
        "                              int NumRowsImg,         //Image Numrows,\n",
        "                              int NumColsImg,         //Int32 Image Numcolumns,\n",
        "                              int NumRowsFilter,       //Int32 Image NumRows filter mask,\n",
        "                              int NumColsFilter       //Int32 Image NumCols filter mask\n",
        "                              ) \n",
        "{ \n",
        "    //This instruction calculate in the offset in the memory data, based on the block identificator blockIdx.x\n",
        "    // YOU HAVE TO WRITE HERE YOUR FILTER KERNEL USING TILED MEMORY ALGORITHMS\n",
        "    int idxY;\n",
        "    int idxX;\n",
        "    int vX;\n",
        "\n",
        "    uint tx = threadIdx.x;\n",
        "    uint ty = threadIdx.y;\n",
        "    idxY = blockIdx.y*blockDim.y+tx; //With this we calculate the row address in target matrix\n",
        "    idxX = blockIdx.x*blockDim.x+ty;\n",
        "\n",
        "    \n",
        "    uint offset_x =  %(FILTER_COLS)s / 2;\n",
        "    uint offset_y = %(FILTER_ROWS)s / 2;\n",
        "    __shared__ float tile[%(TILE_ROWS)s][%(TILE_COLS)s];\n",
        "    __shared__ float filter[%(FILTER_ROWS)s][ %(FILTER_COLS)s];\n",
        "    if((idxX < NumColsImg) && (idxY < NumRowsImg) ) {\n",
        "        // inside matrix\n",
        "        tile[offset_y+ty][offset_x+tx] = image[idxY*NumColsImg+idxX];\n",
        "\n",
        "    } else {\n",
        "\n",
        "      uint temp_c = idxX;\n",
        "      uint temp_r = idxY;\n",
        "      if(idxX >= NumColsImg) {\n",
        "        temp_c = NumColsImg-1; \n",
        "      }\n",
        "      if(idxY >= NumRowsImg) {\n",
        "        temp_r = NumRowsImg-1;\n",
        "      }\n",
        "      tile[offset_y+ty][offset_x+tx] = image[temp_r*NumColsImg+temp_c]; \n",
        "    }\n",
        "    // left border\n",
        "    if(tx<offset_x ) {\n",
        "        int lbIdx_y = idxY;\n",
        "        if(lbIdx_y>=NumRowsImg){\n",
        "          lbIdx_y = NumRowsImg-1;\n",
        "        }\n",
        "        int lbIdx_x = idxX - offset_x;\n",
        "        /*if(lbIdx_x >= NumColsImg) {\n",
        "          lbIdx_x = NumColsImg-1;\n",
        "        } else */\n",
        "        if(lbIdx_x<0){\n",
        "          // set flag for absolute border (use tile to fill it)\n",
        "          lbIdx_x=0; // 0\n",
        "        }\n",
        "        // check corners here\n",
        "        // top left corner\n",
        "        \n",
        "        if(ty < offset_y) {\n",
        "          lbIdx_y -= offset_y;\n",
        "          if (lbIdx_y < 0)\n",
        "            lbIdx_y = 0;\n",
        "           // have it come from tile\n",
        "          tile[ty][tx]=image[lbIdx_y*NumColsImg+lbIdx_x];\n",
        "        }\n",
        "        // bottom left corner\n",
        "         else if (ty >= blockDim.y-offset_y) {\n",
        "          lbIdx_y += offset_y;\n",
        "          //lbIdx_x -= offset_x;\n",
        "          if(lbIdx_y >= NumRowsImg)\n",
        "            lbIdx_y = NumRowsImg - 1;\n",
        "          \n",
        "          tile[ty+ 2*offset_y][tx]=image[lbIdx_y*NumColsImg+lbIdx_x];\n",
        "        } else {\n",
        "          tile[ty+offset_y][tx]=image[lbIdx_y*NumColsImg+lbIdx_x];\n",
        "         // have it come from tile\n",
        "         }\n",
        "      } else if(tx>=blockDim.x-offset_x) {\n",
        "        // right border\n",
        "      int rbIdx_y = idxY;\n",
        "        if(rbIdx_y>=NumRowsImg){\n",
        "          // might not be correct if checking also for the bottom right corner\n",
        "          rbIdx_y = NumRowsImg-1;\n",
        "        }\n",
        "        int rbIdx_x = idxX + offset_x;\n",
        "        if(rbIdx_x >= NumColsImg) {\n",
        "          // might not be correct if checking also for the top right corner\n",
        "          rbIdx_x = NumColsImg-1;\n",
        "        }\n",
        "        // top right corner\n",
        "        if (ty < offset_y) {\n",
        "          rbIdx_x = idxX;\n",
        "          rbIdx_y = idxY - offset_y;\n",
        "          if (rbIdx_y < 0)\n",
        "            rbIdx_y = 0;\n",
        "          if (rbIdx_x >= NumColsImg)\n",
        "            rbIdx_x = NumColsImg - 1;\n",
        "          tile[ty][tx + 2*offset_x]=image[rbIdx_y*NumColsImg+rbIdx_x];\n",
        "          // bottom right corner\n",
        "        } else if(ty>=(blockDim.y-offset_y)){\n",
        "          rbIdx_y += offset_y;\n",
        "          if(rbIdx_y>=NumRowsImg)\n",
        "            rbIdx_y=NumRowsImg-1;\n",
        "          tile[tx+2*offset_y][tx+2*offset_x]=image[rbIdx_y*NumColsImg+rbIdx_x];\n",
        "\n",
        "        } else {\n",
        "\n",
        "        \n",
        "          tile[ty+offset_y][tx+2*offset_x]=image[rbIdx_y*NumColsImg+rbIdx_x];\n",
        "        }\n",
        "    } \n",
        "    \n",
        "     // bottom border\n",
        "\n",
        "    else if (ty>= blockDim.y-offset_y) {\n",
        "      int bbIdx_x = idxX;\n",
        "      if (bbIdx_x >= NumColsImg){\n",
        "        bbIdx_x = NumColsImg-1;\n",
        "      }\n",
        "      int bbIdx_y = idxY+offset_y;\n",
        "      if(bbIdx_y>=NumRowsImg) {\n",
        "        bbIdx_y = NumRowsImg-1;\n",
        "      }\n",
        "      tile[ty+2*offset_y][tx+offset_x] = image[bbIdx_y*NumColsImg+bbIdx_x];\n",
        "    } else if (ty < offset_y) {\n",
        "      //  top border\n",
        "      int tbIdx_x = idxX;\n",
        "      if (tbIdx_x >= NumColsImg){\n",
        "        tbIdx_x = NumColsImg-1;\n",
        "      }\n",
        "      int tbIdx_y = idxY-offset_y;\n",
        "      if(tbIdx_y<0){\n",
        "        tbIdx_y = 0;\n",
        "      }\n",
        "      tile[ty][tx+offset_x] = image[tbIdx_y*NumColsImg+tbIdx_x];\n",
        "    }\n",
        "    \n",
        "    if(tx<NumColsFilter && ty < NumRowsFilter) {\n",
        "      filter[ty][tx] = filter_mask[ty*NumColsFilter+tx];\n",
        "    }\n",
        "    __syncthreads();\n",
        "\n",
        "    //THIS CODE JUST COPY THE SOURCE IMAGE IN THE TARGET VECTOR\n",
        "    float acc = 0;\n",
        "    if ((idxY<NumRowsImg) && (idxX<NumColsImg)){\n",
        "      for(int row=0; row<NumRowsFilter; row++) {\n",
        "        for(int col=0; col<NumColsFilter; col++) {\n",
        "          /*\n",
        "          if (ty<offset_y) {\n",
        "            // top border\n",
        "            if (tx < offset_x)\n",
        "              // top left corner\n",
        "              acc += tile[ty+row+offset_y][tx+col+offset_x] * filter[row][col];\n",
        "            else if (tx >= blockDim.x-offset_x)\n",
        "            // top right\n",
        "              acc += tile[ty+row+offset_y][tx+col-offset_x] * filter[row][col];\n",
        "            else\n",
        "              acc += tile[ty+row+offset_y][tx+col] * filter[row][col];\n",
        "          } else if(ty >= blockDim.y-offset_y) {\n",
        "            // bottom\n",
        "            if (tx < offset_x)\n",
        "              // bottom left corner\n",
        "              acc += tile[ty+row-offset_y][tx+col+offset_x] * filter[row][col];\n",
        "            else if (tx >= blockDim.x-offset_x)\n",
        "            // top right\n",
        "              acc += tile[ty+row-offset_y][tx+col-offset_x] * filter[row][col];\n",
        "            else\n",
        "              acc += tile[ty+row- offset_y][tx+col] * filter[row][col];\n",
        "          } else if (tx < offset_x) {\n",
        "            //left\n",
        "            acc += tile[ty+row][tx+col+ offset_x] * filter[row][col];\n",
        "          }\n",
        "          else if(tx >= blockDim.x-offset_x) {\n",
        "            // right\n",
        "            acc += tile[ty+row][tx+col- offset_x] * filter[row][col];\n",
        "          }\n",
        "          else*/\n",
        "          acc+=tile[ty+row][tx+col] * filter[row][col];\n",
        "\n",
        "        }\n",
        "      }\n",
        "      vX=idxY*NumColsImg+idxX;\n",
        "      filtered_image[vX] = acc;\n",
        "    }\n",
        "\n",
        "\n",
        "    __syncthreads();\n",
        "}\n",
        "\n",
        "\"\"\""
      ],
      "execution_count": null,
      "outputs": []
    },
    {
      "cell_type": "code",
      "source": [
        "FILTER_ROWS = filter_mask.shape[0]\n",
        "FILTER_COLS = filter_mask.shape[1]\n",
        "TILE_ROWS = block_s + FILTER_ROWS - 1\n",
        "TILE_COLS = block_s + FILTER_COLS -1"
      ],
      "metadata": {
        "id": "pO0yXuYiQ4Ub"
      },
      "execution_count": null,
      "outputs": []
    },
    {
      "cell_type": "code",
      "source": [
        "kernel_src = kernel_str % {\n",
        "    'BLOCK_SIZE': BLOCK_SIZE,\n",
        "    'FILTER_ROWS': FILTER_ROWS,\n",
        "    'FILTER_COLS': FILTER_COLS,\n",
        "    'TILE_ROWS': TILE_ROWS,\n",
        "    'TILE_COLS':TILE_COLS\n",
        "}"
      ],
      "metadata": {
        "id": "e4Od7Dl-SQ0x"
      },
      "execution_count": null,
      "outputs": []
    },
    {
      "cell_type": "code",
      "source": [
        "kernel = SourceModule(kernel_src)"
      ],
      "metadata": {
        "id": "BH1GxLPDTHNW"
      },
      "execution_count": null,
      "outputs": []
    },
    {
      "cell_type": "markdown",
      "metadata": {
        "id": "ovzzmuXBXYFH"
      },
      "source": [
        "And import the kernel definition to python"
      ]
    },
    {
      "cell_type": "code",
      "metadata": {
        "id": "cHkXntH0H2lL"
      },
      "source": [
        "image_filter = kernel.get_function ('image_filter')"
      ],
      "execution_count": null,
      "outputs": []
    },
    {
      "cell_type": "code",
      "metadata": {
        "id": "N8y0LIU2hOd0"
      },
      "source": [],
      "execution_count": null,
      "outputs": []
    },
    {
      "cell_type": "markdown",
      "metadata": {
        "id": "N6NmxsN7X-02"
      },
      "source": [
        "Recover the image shape, and select the two first items (rows and columns)."
      ]
    },
    {
      "cell_type": "code",
      "metadata": {
        "id": "-9aWxHFFHxzT"
      },
      "source": [],
      "execution_count": null,
      "outputs": []
    },
    {
      "cell_type": "markdown",
      "metadata": {
        "id": "Txj67lrFYESV"
      },
      "source": [
        "Set block size and grid size."
      ]
    },
    {
      "cell_type": "code",
      "metadata": {
        "id": "sayAB5iQISs8"
      },
      "source": [],
      "execution_count": null,
      "outputs": []
    },
    {
      "cell_type": "markdown",
      "metadata": {
        "id": "4whAEkzPhvOC"
      },
      "source": [
        "Allocates the target image memory."
      ]
    },
    {
      "cell_type": "code",
      "metadata": {
        "id": "WnHTEzQXIw66"
      },
      "source": [
        "result_image=np.zeros(image.shape,dtype=np.uint8)"
      ],
      "execution_count": null,
      "outputs": []
    },
    {
      "cell_type": "code",
      "metadata": {
        "id": "K8PcD3JeI-5K"
      },
      "source": [
        "depth = image.shape[2]"
      ],
      "execution_count": null,
      "outputs": []
    },
    {
      "cell_type": "markdown",
      "metadata": {
        "id": "fV8ZVagpiI97"
      },
      "source": [
        "Here we defines our sample filter masks."
      ]
    },
    {
      "cell_type": "markdown",
      "metadata": {
        "id": "ZKu-1Eo7iSgz"
      },
      "source": [
        "We select the filter mask, and upload to the GPU device."
      ]
    },
    {
      "cell_type": "code",
      "metadata": {
        "id": "rxIm7BzdN8az"
      },
      "source": [],
      "execution_count": null,
      "outputs": []
    },
    {
      "cell_type": "markdown",
      "metadata": {
        "id": "IZ8gPCW0ijld"
      },
      "source": [
        "##Prepares the execution environment "
      ]
    },
    {
      "cell_type": "markdown",
      "metadata": {
        "id": "cdGCCI0PixrT"
      },
      "source": [
        "Allocate the temporal filtered memory layer, where will be store the filtered image."
      ]
    },
    {
      "cell_type": "code",
      "metadata": {
        "id": "7qK0LgeDWU27"
      },
      "source": [
        "filtered_image_layer_gpu = gpuarray.zeros(image_shape,np.float32)"
      ],
      "execution_count": null,
      "outputs": []
    },
    {
      "cell_type": "markdown",
      "metadata": {
        "id": "-1oLCrqAYqED"
      },
      "source": [
        "Here defines the main block.\n",
        "Walk through the layers. Copying the selected layer to temporal image_layer, upload the layer to the GPU and invokes the image_filter kernel."
      ]
    },
    {
      "cell_type": "code",
      "metadata": {
        "id": "lvEsPtYFIUl3"
      },
      "source": [
        "start_t = time.time()\n",
        "for layer in range(depth):\n",
        "  image_layer = np.zeros(image_shape,dtype=np.float32) #Allocate the temporal image layer\n",
        "  image_layer=(image[:,:,layer]).astype(np.float32)    #Copy from the orignal image the selected layer into the temporal memory\n",
        "  image_layer_gpu=gpuarray.to_gpu(image_layer)         #Uploads the image layer to the GPU\n",
        "  filtered_image_layer_gpu.fill(0.0)                   #Fills with 0 the target memory in the GPU\n",
        "  image_filter(                                        #invokes the kernel\n",
        "          image_layer_gpu,\n",
        "          filter_mask_gpu,\n",
        "          filtered_image_layer_gpu,\n",
        "          np.int32(image_shape[0]),\n",
        "          np.int32(image_shape[1]),\n",
        "          np.int32(filter_mask.shape[0]),\n",
        "          np.int32(filter_mask.shape[1]),\n",
        "          block=BLOCK_SIZE,\n",
        "          grid=grid_size\n",
        "        )\n",
        "  filtered_image_layer=filtered_image_layer_gpu.get() #Download from the GPU the filtered image\n",
        "  result_image[:,:,layer] = filtered_image_layer.astype(np.uint8) #Copy the filtered image to the final image store, \n",
        "                                                                  #casting the data type from double to uint8\n",
        "end_t = time.time()"
      ],
      "execution_count": null,
      "outputs": []
    },
    {
      "cell_type": "markdown",
      "metadata": {
        "id": "uKz2XKjBkvgR"
      },
      "source": [
        "#Show results\n"
      ]
    },
    {
      "cell_type": "code",
      "metadata": {
        "id": "en0HMjtnk8uS"
      },
      "source": [
        "\n",
        "print(\"Execution time is: {0} seconds.\".format(end_t-start_t))"
      ],
      "execution_count": null,
      "outputs": []
    },
    {
      "cell_type": "code",
      "metadata": {
        "id": "QnoPI5BCS9_o"
      },
      "source": [
        "plt.figure()\n",
        "plt.imshow(result_image)"
      ],
      "execution_count": null,
      "outputs": []
    },
    {
      "cell_type": "code",
      "metadata": {
        "id": "6DbfqushTXBR"
      },
      "source": [],
      "execution_count": null,
      "outputs": []
    }
  ]
}