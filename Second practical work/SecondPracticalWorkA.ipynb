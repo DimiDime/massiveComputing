{
  "nbformat": 4,
  "nbformat_minor": 0,
  "metadata": {
    "accelerator": "GPU",
    "colab": {
      "provenance": []
    },
    "kernelspec": {
      "display_name": "Python 3",
      "language": "python",
      "name": "python3"
    },
    "language_info": {
      "codemirror_mode": {
        "name": "ipython",
        "version": 3
      },
      "file_extension": ".py",
      "mimetype": "text/x-python",
      "name": "python",
      "nbconvert_exporter": "python",
      "pygments_lexer": "ipython3",
      "version": "3.7.9"
    }
  },
  "cells": [
    {
      "cell_type": "markdown",
      "metadata": {
        "id": "RgiFzR-TVFrA"
      },
      "source": [
        "#Second Practical work\n",
        "\n",
        "This is second practical work skeleton.\n",
        "\n",
        "It is divided in 3 parts_\n",
        "\n",
        "1.   Python module load section: load all the needed modules\n",
        "2.   Google Drive access and mounting\n",
        "3.   Host load data\n",
        "4.   GPU load\n",
        "\n",
        "\n",
        "\n"
      ]
    },
    {
      "cell_type": "markdown",
      "metadata": {
        "id": "Uo7xpfnvrZKd"
      },
      "source": [
        "#### Elena Sánchez Guillán 100432523\n",
        "#### Ekaterina Valverde Bilenko 100432515"
      ]
    },
    {
      "cell_type": "markdown",
      "metadata": {
        "id": "tfmxFIzPWszg"
      },
      "source": [
        "##Module load section\n",
        "We will install the pycuda module in the colaboratory environment, to combine python and CUDA in our code. Because pycuda is not available by default, this task can take a few minutes.\n",
        "\n",
        "As well we load numpy and matplotlib modules."
      ]
    },
    {
      "cell_type": "code",
      "metadata": {
        "id": "h5Q-ylEHHB2k",
        "colab": {
          "base_uri": "https://localhost:8080/"
        },
        "outputId": "0e93a63d-3e50-4887-fb7e-8a2c76a34dc0"
      },
      "source": [
        "!pip install pycuda"
      ],
      "execution_count": null,
      "outputs": [
        {
          "output_type": "stream",
          "name": "stdout",
          "text": [
            "Requirement already satisfied: pycuda in /usr/local/lib/python3.7/dist-packages (2021.1)\n",
            "Requirement already satisfied: mako in /usr/local/lib/python3.7/dist-packages (from pycuda) (1.1.6)\n",
            "Requirement already satisfied: appdirs>=1.4.0 in /usr/local/lib/python3.7/dist-packages (from pycuda) (1.4.4)\n",
            "Requirement already satisfied: pytools>=2011.2 in /usr/local/lib/python3.7/dist-packages (from pycuda) (2021.2.9)\n",
            "Requirement already satisfied: numpy>=1.6.0 in /usr/local/lib/python3.7/dist-packages (from pytools>=2011.2->pycuda) (1.19.5)\n",
            "Requirement already satisfied: MarkupSafe>=0.9.2 in /usr/local/lib/python3.7/dist-packages (from mako->pycuda) (2.0.1)\n"
          ]
        }
      ]
    },
    {
      "cell_type": "markdown",
      "metadata": {
        "id": "hl4AhbSbW19W"
      },
      "source": [
        "We import the Python modules which we will use in the notebook (numpy, pycuda and time module) "
      ]
    },
    {
      "cell_type": "code",
      "metadata": {
        "id": "TLEg2Y41HFB3"
      },
      "source": [
        "import  numpy  as  np\n",
        "import  pycuda.autoinit\n",
        "from    pycuda.compiler import SourceModule\n",
        "import  pycuda.driver as  drv\n",
        "import  pycuda.gpuarray as  gpuarray\n",
        "from sys import getsizeof\n",
        "import time"
      ],
      "execution_count": null,
      "outputs": []
    },
    {
      "cell_type": "code",
      "metadata": {
        "id": "JfOtyml91WNb",
        "colab": {
          "base_uri": "https://localhost:8080/"
        },
        "outputId": "411e04e1-5e59-4b00-eaf0-6946c7747e3a"
      },
      "source": [
        "%pylab inline\n",
        "from PIL import Image\n",
        "import matplotlib.pyplot as plt\n",
        "import matplotlib.image as mpimg\n",
        "import cProfile"
      ],
      "execution_count": null,
      "outputs": [
        {
          "output_type": "stream",
          "name": "stdout",
          "text": [
            "Populating the interactive namespace from numpy and matplotlib\n"
          ]
        }
      ]
    },
    {
      "cell_type": "markdown",
      "metadata": {
        "id": "CHsvF9qH2G_u"
      },
      "source": [
        "##Mount Google Drive and access grant\n",
        "We use Google API to allow access to our Google Drive.\n",
        "\n",
        "For security and privacy reasons, this permission is temporally, and will be requested every time you restart the notebook. \n",
        "\n",
        "Your Google Drive will be mounted in the \"/content/drive\" folder. The first Folder will be \"My Drive\".\n",
        "\n",
        "You have to copy your images to a folder in the \"My Drive\" folder in your Google Drive.\n",
        "\n",
        "To check your available files, use the cell indicated as \"**List Files in Folder**\""
      ]
    },
    {
      "cell_type": "code",
      "metadata": {
        "id": "ykYa7-u8zDzk",
        "colab": {
          "base_uri": "https://localhost:8080/"
        },
        "outputId": "13a70a94-10b6-4ed2-cbe5-66cd65358a37"
      },
      "source": [
        "from os.path import join\n",
        "from google.colab import drive\n",
        "drive.mount(\"/content/drive\")"
      ],
      "execution_count": null,
      "outputs": [
        {
          "output_type": "stream",
          "name": "stdout",
          "text": [
            "Drive already mounted at /content/drive; to attempt to forcibly remount, call drive.mount(\"/content/drive\", force_remount=True).\n"
          ]
        }
      ]
    },
    {
      "cell_type": "code",
      "metadata": {
        "id": "RN-zy4mQzN-J"
      },
      "source": [
        "MYDRIVE=\"/content/drive/My Drive/\""
      ],
      "execution_count": null,
      "outputs": []
    },
    {
      "cell_type": "markdown",
      "metadata": {
        "id": "ZtdarelZfv7Y"
      },
      "source": [
        "**List Files in Folders**"
      ]
    },
    {
      "cell_type": "code",
      "metadata": {
        "id": "IEkj24AFzdqw",
        "colab": {
          "base_uri": "https://localhost:8080/"
        },
        "outputId": "48e7bee5-b678-42ff-ded2-77c6ce833081"
      },
      "source": [
        "!ls /content/drive/My\\ Drive/images/"
      ],
      "execution_count": null,
      "outputs": [
        {
          "output_type": "stream",
          "name": "stdout",
          "text": [
            "chess.jpg  cloudsonjupi.jpg  digits.jpg  fence.jpg  hand-x-ray.jpg\n"
          ]
        }
      ]
    },
    {
      "cell_type": "markdown",
      "metadata": {
        "id": "hQ9NrNYXf1Rg"
      },
      "source": [
        "We define a variable IMAGE which is constructed joining the \"MYDRIVE\" varible plus the final path to your image."
      ]
    },
    {
      "cell_type": "code",
      "metadata": {
        "id": "2TAhlCjS0YPw"
      },
      "source": [
        "IMAGE=join(MYDRIVE,\"images/chess.jpg\")"
      ],
      "execution_count": null,
      "outputs": []
    },
    {
      "cell_type": "code",
      "metadata": {
        "id": "xVa1h0wr0fDJ",
        "colab": {
          "base_uri": "https://localhost:8080/"
        },
        "outputId": "16637936-6df7-4fe7-c6bb-e5c890bfb72d"
      },
      "source": [
        "print(\"Image to load: {0}\".format(IMAGE))"
      ],
      "execution_count": null,
      "outputs": [
        {
          "output_type": "stream",
          "name": "stdout",
          "text": [
            "Image to load: /content/drive/My Drive/images/chess.jpg\n"
          ]
        }
      ]
    },
    {
      "cell_type": "markdown",
      "metadata": {
        "id": "otUSnNLOgilw"
      },
      "source": [
        "Loads an image in a numpy variable, and show."
      ]
    },
    {
      "cell_type": "code",
      "metadata": {
        "id": "K5MbuRm_1hdQ",
        "colab": {
          "base_uri": "https://localhost:8080/",
          "height": 286
        },
        "outputId": "02fec81e-2c56-4bdd-a170-d2ca204be73b"
      },
      "source": [
        "image=np.array(Image.open(IMAGE))\n",
        "plt.figure()\n",
        "plt.imshow(image)"
      ],
      "execution_count": null,
      "outputs": [
        {
          "output_type": "execute_result",
          "data": {
            "text/plain": [
              "<matplotlib.image.AxesImage at 0x7f407e897c90>"
            ]
          },
          "metadata": {},
          "execution_count": 9
        },
        {
          "output_type": "display_data",
          "data": {
            "image/png": "[encoded data removed]",
            "text/plain": [
              "<Figure size 432x288 with 1 Axes>"
            ]
          },
          "metadata": {
            "needs_background": "light"
          }
        }
      ]
    },
    {
      "cell_type": "code",
      "metadata": {
        "colab": {
          "base_uri": "https://localhost:8080/"
        },
        "id": "Yp1BaYjTbgJi",
        "outputId": "d238f6fa-a6ec-4cc9-bede-cbcece202de2"
      },
      "source": [
        "print(image.shape)"
      ],
      "execution_count": null,
      "outputs": [
        {
          "output_type": "stream",
          "name": "stdout",
          "text": [
            "(233, 216, 3)\n"
          ]
        }
      ]
    },
    {
      "cell_type": "markdown",
      "metadata": {
        "id": "GhQwn2EMXDEY"
      },
      "source": [
        "#FILTER KERNEL\n",
        "\n",
        "Here you have to define your image_filter GPU kernel."
      ]
    },
    {
      "cell_type": "markdown",
      "metadata": {
        "id": "ovzzmuXBXYFH"
      },
      "source": [
        "And import the kernel definition to python"
      ]
    },
    {
      "cell_type": "code",
      "metadata": {
        "id": "Ats_56fFuv6m"
      },
      "source": [
        "template_kernel_matrix_univ = \"\"\"\n",
        "__global__ void image_filter( float * image,          //Source GPU array floating point 32 bits,\n",
        "\t\t                          float * filter_mask,    //Filter Mask GPU array 2D floating point 32 bits\n",
        "                              float * filtered_image,  //Target GPU array 2D floating point 32 bits,\n",
        "                              int NumRowsImg,         //Image Numrows,\n",
        "                              int NumColsImg,         //Int32 Image Numcolumns,\n",
        "                              int NumRowsFilter,       //Int32 Image NumRows filter mask,\n",
        "                              int NumColsFilter       //Int32 Image NumCols filter mask\n",
        "                              ) \n",
        "{ \n",
        "\n",
        "  //THIS CODE JUST COPY THE SOURCE IMAGE IN THE TARGET VECTOR\n",
        "  int idxY;\n",
        "  int idxX;\n",
        "  int vX;\n",
        "\n",
        "  idxY = blockIdx.y*blockDim.y+threadIdx.y; //With this we calculate the row address in target matrix\n",
        "  idxX = blockIdx.x*blockDim.x+threadIdx.x;\n",
        "  if ((idxY<NumRowsImg) && (idxX<NumColsImg)){\n",
        "    vX=idxY*NumColsImg+idxX;\n",
        "    // filtered_image is the shared memory array\n",
        "    filtered_image[vX]=image[vX];\n",
        "  }\n",
        "\n",
        "\n",
        "  //if the size of the filter is 1x3, if it has 1 row and 3 columns \n",
        "  if (NumRowsFilter==1 && NumColsFilter==3){\n",
        "\n",
        "    //This instruction calculate in the offset in the memory data, based on the block identificator blockIdx.x\n",
        "    // YOU HAVE TO WRITE HERE YOUR FILTER KERNEL USING TILED MEMORY ALGORITHMS\n",
        "\n",
        "    //as in the main part where we execute the filter we already go through the layers of the image we have to go through rows and columns in the kernel\n",
        "    //first we iterate through the rows of the image \n",
        "    for (int i = 0; i < NumRowsImg; i++){\n",
        "      //now we iterate through the columns of the image\n",
        "      for (int j = 0; j < NumColsImg; j++){\n",
        "\n",
        "        //now we can go through all the pixels so we can filter all of them\n",
        "\n",
        "        //Set the row and column value for each thread, so we have the position\n",
        "\t      int row = blockIdx.y * blockDim.y + threadIdx.y + i;\n",
        "\t      int col = blockIdx.x * blockDim.x + threadIdx.x + j;\n",
        "\n",
        "        //we have to create the shared memory space were we will store the data we need\n",
        "\t      __shared__ float sharedmem[(%(TILE_SIZE)s + 2)][(%(TILE_SIZE)s + 2)];  //initialize shared memory\n",
        "\n",
        "\t      //Take some values in order to see if we are in the first column or in the last column\n",
        "\t      bool is_x_left = (col == 0), is_x_right = (col == NumColsImg -1);\n",
        "        \n",
        "        //we store in the shared memory the position in which we are in (the pixel in which we are)\n",
        "        sharedmem[threadIdx.x+1][threadIdx.y+1] = image[row*NumColsImg+col];\n",
        "\n",
        "        //if we are in the first column we cannot take the value of the pixel in the previous column so we take the one in which we are\n",
        "        if (is_x_left)\n",
        "          sharedmem[threadIdx.x][threadIdx.y+1] = image[row*NumColsImg+col];\n",
        "        //if we are not in the first column we can take the value of the pixel in the previous column\n",
        "        else\n",
        "          sharedmem[threadIdx.x][threadIdx.y+1] = image[row*NumColsImg+(col-1)];\n",
        "        //if we are in the last column we cannot take the value of the pixel in the next column so we take the value of the pixel in which we are in\n",
        "        if (is_x_right)\n",
        "          sharedmem[threadIdx.x+2][threadIdx.y+1] = image[row*NumColsImg+col];\n",
        "        //if not we can take the value of the pixel in the next column \n",
        "        else\n",
        "          sharedmem[threadIdx.x+2][threadIdx.y+1] = image[row*NumColsImg+(col+1)];\n",
        "\n",
        "        //we have to synchronize the threads in order to avoid interferences\n",
        "\t      __syncthreads();   //Wait for all threads to be done.\n",
        "\n",
        "        //we declare a variable in which we will store the new result of the pixel, the new value that we will take\n",
        "        float sum = 0;\n",
        "        //we store in that variable the sum of the pixels we need\n",
        "        //in this case, given that is a 1x3 filter we need the pixel in the previous column in that same row, the pixel we are filtering and the pixel in the next column in that same row\n",
        "        //we multiply this pixels by the corresponding value in the filter\n",
        "        sum += sharedmem[threadIdx.x][threadIdx.y+1]*filter_mask[0];\n",
        "        sum += sharedmem[threadIdx.x+1][threadIdx.y+1]*filter_mask[1];\n",
        "        sum += sharedmem[threadIdx.x+2][threadIdx.y+1]*filter_mask[2];\n",
        "\n",
        "        //then we compute the mean by dividing by the total number of pixels we are using (3)\n",
        "        sum = sum/3;\n",
        "\n",
        "        //finally we insert the new value in the corresponding position in the filtered image\n",
        "        //we first make sure that we are in a valid memory position\n",
        "        if (row < NumRowsImg && col < NumColsImg)\n",
        "          filtered_image[row*NumColsImg+col] = sum;\n",
        "      }\n",
        "    }\n",
        "  }\n",
        "\n",
        "  //if the size of the filter is 3x1, if it has 3 rows and 1 column \n",
        "  if (NumRowsFilter==3 && NumColsFilter==1){\n",
        "\n",
        "    //first we iterate through the rows of the image \n",
        "    for (int i = 0; i < NumRowsImg; i++){\n",
        "      //now we iterate through the columns of the image\n",
        "      for (int j = 0; j < NumColsImg; j++){\n",
        "\n",
        "        //now we can go through all the pixels so we can filter all of them\n",
        "        //Set the row and column value for each thread, so we have the position\n",
        "\t      int row = blockIdx.y * blockDim.y + threadIdx.y + i;\n",
        "\t      int col = blockIdx.x * blockDim.x + threadIdx.x + j;\n",
        "\n",
        "        //we have to create the shared memory space were we will store the data we need\n",
        "\t      __shared__ float sharedmem[(%(TILE_SIZE)s + 2)][(%(TILE_SIZE)s + 2)];  //initialize shared memory\n",
        "\t      //Take some values.\n",
        "\n",
        "        //Take some values in order to see if we are in the first row or in the last row\n",
        "\t      bool is_y_top = (row == 0), is_y_bottom = (row == NumRowsImg -1);\n",
        "        \n",
        "        //we store in our shared memory the position in which we are in \n",
        "        sharedmem[threadIdx.x][threadIdx.y] = image[row*NumColsImg+col];\n",
        "        //if we are in the first row we cannot take the value of the pixel in the previous row so we take the one in which we are\n",
        "        if (is_y_top)\n",
        "          sharedmem[threadIdx.x][threadIdx.y-1] = image[row*NumColsImg+col];\n",
        "        //if not we take the value of the pixel of the previous row in the column in which we are\n",
        "        else\n",
        "          sharedmem[threadIdx.x][threadIdx.y-1] = image[(row-1)*NumColsImg+col];\n",
        "        //if we are in the last row we cannot take the value of the pixel in the next row so we take the one in which we are\n",
        "        if (is_y_bottom)\n",
        "          sharedmem[threadIdx.x][threadIdx.y+1] = image[row*NumColsImg+col];\n",
        "        //if not we take the value of the pixel of the next row in the column in which we are\n",
        "        else\n",
        "          sharedmem[threadIdx.x][threadIdx.y+1] = image[(row+1)*NumColsImg+col];\n",
        "\n",
        "        //Now we have to synchronize the threads in order to avoid interferences\n",
        "\t      __syncthreads();   //Wait for all threads to be done.\n",
        "        \n",
        "        //we declare a variable in which we will store the new result of the pixel, the new value that we will take\n",
        "        //in this case, given that is a 3x1 filter we need the pixel in the previous row in that same column, the pixel we are filtering and the pixel in the next row in that same column\n",
        "        //we multiply each of these values for the corresponding value in the filter\n",
        "        float sum = 0;\n",
        "        sum += sharedmem[threadIdx.x][threadIdx.y-1]*filter_mask[0];\n",
        "        sum += sharedmem[threadIdx.x][threadIdx.y]*filter_mask[1];\n",
        "        sum += sharedmem[threadIdx.x][threadIdx.y+1]*filter_mask[2];\n",
        "        sum = sum/3;\n",
        "        \n",
        "        //finally we insert the new value in the corresponding position in the filtered image\n",
        "        //we first make sure that we are in a valid memory position\n",
        "        if (row < NumRowsImg && col < NumColsImg)\n",
        "          filtered_image[row*NumColsImg+col] = sum;\n",
        "\n",
        "      }\n",
        "    }\n",
        "  }\n",
        "\n",
        "  //now if the filter has 1 row and 5 columns\n",
        "  if (NumRowsFilter==1 && NumColsFilter==5){\n",
        "    \n",
        "    //we first iterate through the rows\n",
        "    for (int i = 0; i < NumRowsImg; i++){\n",
        "      //then we iterate through the columns\n",
        "      for (int j = 0; j < NumColsImg; j++){\n",
        "        \n",
        "        //Set the row and col value for each thread so we have the pixel's position\n",
        "\t      int row = blockIdx.y * blockDim.y + threadIdx.y + i;\n",
        "\t      int col = blockIdx.x * blockDim.x + threadIdx.x + j;\n",
        "\n",
        "        //we create the shared space in which we will store the necessary data\n",
        "\t      __shared__ float sharedmem[%(TILE_SIZE)s + 2][%(TILE_SIZE)s + 2];  //initialize shared memory\n",
        "\n",
        "\t      //We have to check if we are in the first column or in the in the last column\n",
        "\t      bool is_x_left = (col == 0), is_x_right = (col == NumColsImg -1);\n",
        "        \n",
        "        //we store the value of the current position of the filter in our shared memory\n",
        "        sharedmem[threadIdx.x][threadIdx.y] = image[row*NumColsImg+col];\n",
        "        //if we are in the first column we cannot take the values from previous columns so we store the one in which we are in\n",
        "        if (is_x_left){\n",
        "          sharedmem[threadIdx.x-1][threadIdx.y] = image[row*NumColsImg+col];\n",
        "          sharedmem[threadIdx.x-2][threadIdx.y] = image[row*NumColsImg+col];\n",
        "        //if we are in the column which is the next one to the first one, we can take the value of the pixel in the previous column, but not the one in the previous to the previous\n",
        "        //therefore we store for both values the value of the pixel in that row in the previous column\n",
        "        }else if ((col-1)==0){\n",
        "          sharedmem[threadIdx.x-1][threadIdx.y] = image[row*NumColsImg+(col-1)];\n",
        "          sharedmem[threadIdx.x-2][threadIdx.y] = image[row*NumColsImg+(col-1)];\n",
        "        //else we can store both the values of the pixels in that row in the previous column and the previous to the previous column\n",
        "        }else{\n",
        "          sharedmem[threadIdx.x-1][threadIdx.y] = image[row*NumColsImg+(col-1)];\n",
        "          sharedmem[threadIdx.x-2][threadIdx.y] = image[row*NumColsImg+(col-2)];\n",
        "        //if we are in the last column we cannot take the values from previous columns so we store the one in which we are in\n",
        "        }\n",
        "        if (is_x_right){\n",
        "          sharedmem[threadIdx.x+1][threadIdx.y] = image[row*NumColsImg+col];\n",
        "          sharedmem[threadIdx.x+2][threadIdx.y] = image[row*NumColsImg+col];\n",
        "        //if we are in the column which is the next one to the last one, we can take the value of the pixel in the next column, but not the one in the next to the next\n",
        "        //therefore we store for both values the value of the pixel in that row in the next column\n",
        "        }else if ((col+1)==(NumColsImg-1)){\n",
        "          sharedmem[threadIdx.x+1][threadIdx.y] = image[row*NumColsImg+(col+1)];\n",
        "          sharedmem[threadIdx.x+2][threadIdx.y] = image[row*NumColsImg+(col+1)];\n",
        "        //else we can store both the values of the pixels in that row in the next column and the next to the next column\n",
        "        }else{\n",
        "          sharedmem[threadIdx.x+1][threadIdx.y] = image[row*NumColsImg+(col+1)];\n",
        "          sharedmem[threadIdx.x+2][threadIdx.y] = image[row*NumColsImg+(col+2)];\n",
        "        }\n",
        "\n",
        "        //we synchronize the threads so there is no interference\n",
        "\t      __syncthreads();   //Wait for all threads to be done.\n",
        "\n",
        "        //we initialize the variable in which we will store the new value the pixel will take\n",
        "        float sum = 0;\n",
        "        //as this is a 1x5 filter we need the values of the pixels (all in the same row) of the previous to the previous column, the previous column, the one in which we are, the next column and the next to the next column \n",
        "        //we multiply each of these values for the corresponding value in the filter\n",
        "        sum += sharedmem[threadIdx.x-2][threadIdx.y]*filter_mask[0];\n",
        "        sum += sharedmem[threadIdx.x-1][threadIdx.y]*filter_mask[1];\n",
        "        sum += sharedmem[threadIdx.x][threadIdx.y]*filter_mask[2];\n",
        "        sum += sharedmem[threadIdx.x+1][threadIdx.y]*filter_mask[3];\n",
        "        sum += sharedmem[threadIdx.x+1][threadIdx.y]*filter_mask[4];\n",
        "        //we divide this value by 5 in order to compute the mean\n",
        "        sum = sum/5;\n",
        "        //we have to check if the memory position is valid\n",
        "        if (row < NumRowsImg && col < NumColsImg)\n",
        "          //if it is we store the new value in the corresponding position in the filtered image \n",
        "          filtered_image[row*NumColsImg+col] = sum;\n",
        "      }\n",
        "    }\n",
        "  }\n",
        "\n",
        "  //if the filter has 5 rows and 1 column\n",
        "  if (NumRowsFilter==5 && NumColsFilter==1){\n",
        "\n",
        "    //we iterate through the rows\n",
        "    for (int i = 0; i < NumRowsImg; i++){\n",
        "      //we iterate through the columns\n",
        "      for (int j = 0; j < NumColsImg; j++){\n",
        "\n",
        "        //Set the row and col value for each thread so we have the position\n",
        "\t      int row = blockIdx.y * blockDim.y + threadIdx.y + i;\n",
        "\t      int col = blockIdx.x * blockDim.x + threadIdx.x + j;\n",
        "\n",
        "        //we initilaize the shared space where we will store the values we need\n",
        "\t      __shared__ float sharedmem[%(TILE_SIZE)s + 2][%(TILE_SIZE)s + 2];  //initialize shared memory\n",
        "\n",
        "\t      //We have to check if we are in the first or last row\n",
        "\t      bool is_y_top = (row == 0), is_y_bottom = (row == NumRowsImg -1);\n",
        "        \n",
        "        //we store in its corresponding position the value of the pixel in which we are in\n",
        "        sharedmem[threadIdx.x][threadIdx.y] = image[row*NumColsImg+col];\n",
        "        //if we are in the first row we cannot take the values from previous rows so we store the one in which we are in\n",
        "        if (is_y_top){\n",
        "          sharedmem[threadIdx.x][threadIdx.y-1] = image[row*NumColsImg+col];\n",
        "          sharedmem[threadIdx.x][threadIdx.y-2] = image[row*NumColsImg+col];\n",
        "        //if we are in the row which is the next one to the first one, we can take the value of the pixel in the previous row, but not the one in the previous to the previous\n",
        "        //therefore we store for both values the value of the pixel in that column in the previous row\n",
        "        }else if ((row-1)==0){\n",
        "          sharedmem[threadIdx.x][threadIdx.y-1] = image[(row-1)*NumColsImg+col];\n",
        "          sharedmem[threadIdx.x][threadIdx.y-2] = image[(row-1)*NumColsImg+col];\n",
        "        //else we can store both the values of the pixels in that column in the previous row and the previous to the previous row\n",
        "        }else{\n",
        "          sharedmem[threadIdx.x][threadIdx.y-1] = image[(row-1)*NumColsImg+col];\n",
        "          sharedmem[threadIdx.x][threadIdx.y-2] = image[(row-2)*NumColsImg+col];\n",
        "        }\n",
        "        //if we are in the last row we cannot take the values from previous rows so we store the one in which we are in\n",
        "        if (is_y_bottom){\n",
        "          sharedmem[threadIdx.x][threadIdx.y+1] = image[row*NumColsImg+col];\n",
        "          sharedmem[threadIdx.x][threadIdx.y+2] = image[row*NumColsImg+col];\n",
        "        //if we are in the row which is the next one to the first one, we can take the value of the pixel in the next row, but not the one in the next to the next\n",
        "        //therefore we store for both values the value of the pixel in that column in the next row\n",
        "        }else if ((row+1)==(NumRowsImg-1)){\n",
        "          sharedmem[threadIdx.x][threadIdx.y+1] = image[(row+1)*NumColsImg+col];\n",
        "          sharedmem[threadIdx.x][threadIdx.y+2] = image[(row+1)*NumColsImg+col];\n",
        "        //else we can store both the values of the pixels in that column in the next row and the next to the next row\n",
        "        }else{\n",
        "          sharedmem[threadIdx.x][threadIdx.y+1] = image[(row+1)*NumColsImg+col];\n",
        "          sharedmem[threadIdx.x][threadIdx.y+2] = image[(row+2)*NumColsImg+col];\n",
        "        }\n",
        "\n",
        "        //we synchronize the threads so there is no interference\n",
        "\t      __syncthreads();   //Wait for all threads to be done.\n",
        "\n",
        "        //we initialize the variable in which we will store the new value the pixel will take\n",
        "        float sum = 0;\n",
        "        //as this is a 5x1 filter we need the values of the pixels (all in the same column) of the previous to the previous row, the previous row, the one in which we are, the next row and the next to the next row \n",
        "        //we multiply each of these values for the corresponding value in the filter\n",
        "        sum += sharedmem[threadIdx.x][threadIdx.y-2]*filter_mask[0];\n",
        "        sum += sharedmem[threadIdx.x][threadIdx.y-1]*filter_mask[1];\n",
        "        sum += sharedmem[threadIdx.x][threadIdx.y]*filter_mask[2];\n",
        "        sum += sharedmem[threadIdx.x][threadIdx.y+1]*filter_mask[3];\n",
        "        sum += sharedmem[threadIdx.x][threadIdx.y+2]*filter_mask[4];\n",
        "        //we divide this value by 5 in order to compute the mean\n",
        "        sum = sum/5;\n",
        "        \n",
        "        //we have to check if the memory position is valid\n",
        "        if (row < NumRowsImg && col < NumColsImg)\n",
        "          //if it is we store the new value in the corresponding position in the filtered image \n",
        "          filtered_image[row*NumColsImg+col] = sum;\n",
        "      }\n",
        "    }\n",
        "  }\n",
        "\n",
        "  //Now if the filter is a 3x3 filter\n",
        "  if (NumRowsFilter==3 && NumColsFilter==3){\n",
        "\n",
        "    //we iterate through the rows\n",
        "    for (int i = 0; i < NumRowsImg; i++){\n",
        "      //we iterate through the columns\n",
        "      for (int j = 0; j < NumColsImg; j++){\n",
        "\n",
        "        //Set the row and col value for each thread so we have the current position\n",
        "\t      int row = blockIdx.y * blockDim.y + threadIdx.y + i;\n",
        "\t      int col = blockIdx.x * blockDim.x + threadIdx.x + j;\n",
        "\n",
        "        //we create a shared space in which we will store the data we will use \n",
        "\t      __shared__ float sharedmem[(%(TILE_SIZE)s + 2)][(%(TILE_SIZE)s + 2)];  //initialize shared memory\n",
        "\n",
        "\t      //we have to check either if we are in the first or last column or if we are in the first or last row\n",
        "        bool is_x_left = (col == 0), is_x_right = (col == NumColsImg -1);\n",
        "\t      bool is_y_top = (row == 0), is_y_bottom = (row == NumRowsImg -1);\n",
        "        \n",
        "        //we store the value of the position in which we are in the corresponding position of the shared memory\n",
        "        sharedmem[threadIdx.x][threadIdx.y] = image[row*NumColsImg+col];\n",
        "        //if we are in the first row and first column we cannot take the value of the pixel in the previous rows or columns so we take the one in which we are\n",
        "        if (is_x_left && is_y_top)\n",
        "          sharedmem[threadIdx.x-1][threadIdx.y-1] = image[row*NumColsImg+col];\n",
        "        //if we are in the last column and in the first row we cannot take the value of the pixel in the next column or previous row so we take the one in which we are\n",
        "        if (is_x_right && is_y_top)\n",
        "          sharedmem[threadIdx.x+1][threadIdx.y-1] = image[row*NumColsImg+col];\n",
        "        //if we are in the first column and in the last row we cannot take the value of the pixel in the previous column or next row so we take the one in which we are in\n",
        "        if (is_x_left && is_y_bottom)\n",
        "          sharedmem[threadIdx.x-1][threadIdx.y+1] = image[row*NumColsImg+col];\n",
        "        //if we are in the last column in the last row we cannot take the value of the pixel in the next column and in the next row so we take the value of the pixel in which we are in\n",
        "        if (is_x_right && is_y_bottom)\n",
        "          sharedmem[threadIdx.x+1][threadIdx.y+1] = image[row*NumColsImg+col];\n",
        "        //if we are in the first column we cannot take the value of the pixel in the previous column so we take the value of the pixel in which we are in\n",
        "        if (is_x_left)\n",
        "          sharedmem[threadIdx.x-1][threadIdx.y] = image[row*NumColsImg+col];\n",
        "        //else we can take the value of the previous column\n",
        "        else\n",
        "          sharedmem[threadIdx.x-1][threadIdx.y] = image[row*NumColsImg+(col-1)];\n",
        "        //if we are in the last column we cannot take the value of the pixel in the next column so we take the value of the pixel in which we are in\n",
        "        if (is_x_right)\n",
        "          sharedmem[threadIdx.x+1][threadIdx.y] = image[row*NumColsImg+col];\n",
        "        //else we can so we store it in the corresponding position\n",
        "        else\n",
        "          sharedmem[threadIdx.x+1][threadIdx.y] = image[row*NumColsImg+(col+1)];\n",
        "        //if we are in the first row we cannot take the value of the pixel in the previous row so we take the value of the pixel in which we are in\n",
        "        if (is_y_top)\n",
        "          sharedmem[threadIdx.x][threadIdx.y-1] = image[row*NumColsImg+col];\n",
        "        //else we can so we store it in the corresponding position\n",
        "        else\n",
        "          sharedmem[threadIdx.x][threadIdx.y-1] = image[(row-1)*NumColsImg+col];\n",
        "        //if we are in the last row we cannot take the value of the pixel in the next row so we take the value of the pixel in which we are in\n",
        "        if (is_y_bottom)\n",
        "          sharedmem[threadIdx.x][threadIdx.y+1] = image[row*NumColsImg+col];\n",
        "        //else we can so we store it in the corresponding position\n",
        "        else\n",
        "          sharedmem[threadIdx.x][threadIdx.y+1] = image[(row+1)*NumColsImg+col];\n",
        "        //if we are in neither in the first column or row, or in the last column or row\n",
        "        // we store the values of the pixels and store them in their corresponding positions\n",
        "        if (col!=0 && row!=0 && (col-1)!=(NumColsImg-1) && (row-1)!=(NumRowsImg-1))\n",
        "          sharedmem[threadIdx.x-1][threadIdx.y-1] = image[(row-1)*NumColsImg+(col-1)];\n",
        "          sharedmem[threadIdx.x+1][threadIdx.y-1] = image[(row+1)*NumColsImg+(col+1)];\n",
        "\n",
        "        //now we synchronize the threads so there is no interference\n",
        "\t      __syncthreads();   //Wait for all threads to be done.\n",
        "\n",
        "        //we declare the variable where the new value of the pixel is going to be stored\n",
        "        float sum = 0;\n",
        "        //now we multiply each of the positions stored with each of the corresponding positions in the filter\n",
        "        sum += sharedmem[threadIdx.x-1][threadIdx.y-1]*filter_mask[0];\n",
        "        sum += sharedmem[threadIdx.x][threadIdx.y-1]*filter_mask[1];\n",
        "        sum += sharedmem[threadIdx.x+1][threadIdx.y-1]*filter_mask[2];\n",
        "        sum += sharedmem[threadIdx.x-1][threadIdx.y]*filter_mask[3];\n",
        "        sum += sharedmem[threadIdx.x][threadIdx.y]*filter_mask[4];\n",
        "        sum += sharedmem[threadIdx.x+1][threadIdx.y]*filter_mask[5];\n",
        "        sum += sharedmem[threadIdx.x-1][threadIdx.y+1]*filter_mask[6];\n",
        "        sum += sharedmem[threadIdx.x][threadIdx.y+1]*filter_mask[7];\n",
        "        sum += sharedmem[threadIdx.x+1][threadIdx.y+1]*filter_mask[8];\n",
        "\n",
        "        //we divide the new value by 9 so we get the mean\n",
        "        sum = sum/9;\n",
        "        \n",
        "        //we check if we are in a valid memory address\n",
        "        if (row < NumRowsImg && col < NumColsImg)\n",
        "        //we store the result in the corresponding position in the filtered image\n",
        "          filtered_image[row*NumColsImg+col] = sum;\n",
        "\n",
        "      }\n",
        "    }\n",
        "  }\n",
        "\n",
        "  //if the filter has 5 rows and 5 columns (5x5)\n",
        "  if (NumRowsFilter==5 && NumColsFilter==5){\n",
        "\n",
        "    //we first iterate through the rows\n",
        "    for (int i = 0; i < NumRowsImg; i++){\n",
        "      //we then iterate through the columns\n",
        "      for (int j = 0; j < NumColsImg; j++){\n",
        "\n",
        "        //Set the row and col value for each thread.\n",
        "\t      int row = blockIdx.y * blockDim.y + threadIdx.y + i;\n",
        "\t      int col = blockIdx.x * blockDim.x + threadIdx.x + j;\n",
        "\t      __shared__ float sharedmem[(%(TILE_SIZE)s + 2)][(%(TILE_SIZE)s + 2)];  //initialize shared memory\n",
        "\t      //We have to check if we are in the first or last column or in the first or last row\n",
        "        bool is_x_left = (col == 0), is_x_right = (col == NumColsImg -1);\n",
        "\t      bool is_y_top = (row == 0), is_y_bottom = (row == NumRowsImg -1);\n",
        "        \n",
        "        //we take the position in which we are \n",
        "        sharedmem[threadIdx.x][threadIdx.y] = image[row*NumColsImg+col];\n",
        "        //if we are in the first column and in the first row we cannot take previous rows or columns so we store the value of the pixels in which we are\n",
        "        if (is_x_left && is_y_top)\n",
        "          sharedmem[threadIdx.x-1][threadIdx.y-1] = image[row*NumColsImg+col];\n",
        "          sharedmem[threadIdx.x-2][threadIdx.y-2] = image[row*NumColsImg+col];\n",
        "        //if we are in the first row and in the last column we cannot take the pixel in the next columns and in the previous rows so we store the value of the pixel in which we are \n",
        "        if (is_x_right && is_y_top)\n",
        "          sharedmem[threadIdx.x+1][threadIdx.y-1] = image[row*NumColsImg+col];\n",
        "          sharedmem[threadIdx.x+2][threadIdx.y-2] = image[row*NumColsImg+col];\n",
        "        //if we are in the first column and in the last row we cannot take the value of the pixel in the previous columns and in the next rows so we store the value of the pixel in which we are\n",
        "        if (is_x_left && is_y_bottom)\n",
        "          sharedmem[threadIdx.x-1][threadIdx.y+1] = image[row*NumColsImg+col];\n",
        "           sharedmem[threadIdx.x-2][threadIdx.y+2] = image[row*NumColsImg+col];\n",
        "        //if we are in the last column and in the last row we cannot take the value of the pixel in the next columns or rows so we store the value of the pixel in which we are\n",
        "        if (is_x_right && is_y_bottom)\n",
        "          sharedmem[threadIdx.x+1][threadIdx.y+1] = image[row*NumColsImg+col];\n",
        "          sharedmem[threadIdx.x+2][threadIdx.y+2] = image[row*NumColsImg+col];\n",
        "        //if we are in the first column we cannot take the value of the pixel in the previous columns so we store the value of the pixel in which we are\n",
        "        if (is_x_left){\n",
        "          sharedmem[threadIdx.x-1][threadIdx.y] = image[row*NumColsImg+col];\n",
        "          sharedmem[threadIdx.x-2][threadIdx.y] = image[row*NumColsImg+col];\n",
        "        //if we are in the column next to the first column we store the value of the pixel in the previous column but as we cannot store the previous to the previous we store the previous one's value\n",
        "        }else if ((col-1)==0){\n",
        "          sharedmem[threadIdx.x-1][threadIdx.y] = image[row*NumColsImg+(col-1)];\n",
        "          sharedmem[threadIdx.x-2][threadIdx.y] = image[row*NumColsImg+(col-1)];\n",
        "        //else we store the value of the pixels of the previous column and the previous to the previous column\n",
        "        }else{\n",
        "          sharedmem[threadIdx.x-1][threadIdx.y] = image[row*NumColsImg+(col-1)];\n",
        "          sharedmem[threadIdx.x-2][threadIdx.y] = image[row*NumColsImg+(col-2)];\n",
        "        }\n",
        "        //if we are in the last column we cannot take the value of the pixel in the next columns so we store the value of the pixel in which we are\n",
        "        if (is_x_right){\n",
        "          sharedmem[threadIdx.x+1][threadIdx.y] = image[row*NumColsImg+col];\n",
        "          sharedmem[threadIdx.x+2][threadIdx.y] = image[row*NumColsImg+col];\n",
        "        //if we are in the column next to the first column we store the value of the pixel in the next column but as we cannot store the next to the next we store the previous one's value\n",
        "        }else if ((col+1)==(NumColsImg-1)){\n",
        "          sharedmem[threadIdx.x+1][threadIdx.y] = image[row*NumColsImg+(col+1)];\n",
        "          sharedmem[threadIdx.x+2][threadIdx.y] = image[row*NumColsImg+(col+1)];\n",
        "        //else we store the value of the pixels of the next column and the next to the next column\n",
        "        }else{\n",
        "          sharedmem[threadIdx.x+1][threadIdx.y] = image[row*NumColsImg+(col+1)];\n",
        "          sharedmem[threadIdx.x+2][threadIdx.y] = image[row*NumColsImg+(col+2)];\n",
        "        }\n",
        "        //if we are in the first row we cannot take the value of the pixel in the previous rows so we store the value of the pixel in which we are\n",
        "        if (is_y_top){\n",
        "          sharedmem[threadIdx.x][threadIdx.y-1] = image[row*NumColsImg+col];\n",
        "          sharedmem[threadIdx.x][threadIdx.y-2] = image[row*NumColsImg+col];\n",
        "        //if we are in the row previous to the last row we store the value of the pixel in the previous row but as we cannot store the previous to the previous we store the previous one's value\n",
        "        }else if ((row-1)==0){\n",
        "          sharedmem[threadIdx.x][threadIdx.y-1] = image[(row-1)*NumColsImg+col];\n",
        "          sharedmem[threadIdx.x][threadIdx.y-2] = image[(row-1)*NumColsImg+col];\n",
        "        //else we store the value of the pixels of the previous row and the previous to the previous row\n",
        "        }else\n",
        "          sharedmem[threadIdx.x][threadIdx.y-1] = image[(row-1)*NumColsImg+col];\n",
        "          sharedmem[threadIdx.x][threadIdx.y-2] = image[(row-2)*NumColsImg+col];\n",
        "        //if we are in the last row we cannot take the value of the pixel in the next rows so we store the value of the pixel in which we are\n",
        "        if (is_y_bottom){\n",
        "          sharedmem[threadIdx.x][threadIdx.y+1] = image[row*NumColsImg+col];\n",
        "          sharedmem[threadIdx.x][threadIdx.y+2] = image[row*NumColsImg+col];\n",
        "        //if we are in the row previous to the last row we store the value of the pixel in the next row but as we cannot store the next to the next we store the previous one's value\n",
        "        }else if ((row+1)==(NumRowsImg-1)){\n",
        "          sharedmem[threadIdx.x][threadIdx.y+1] = image[(row+1)*NumColsImg+col];\n",
        "          sharedmem[threadIdx.x][threadIdx.y+2] = image[(row+1)*NumColsImg+col];\n",
        "        //else we store the value of the pixels of the next row and the next to the next row\n",
        "        }else\n",
        "          sharedmem[threadIdx.x][threadIdx.y+1] = image[(row+1)*NumColsImg+col];\n",
        "          sharedmem[threadIdx.x][threadIdx.y+2] = image[(row+2)*NumColsImg+col];\n",
        "        //else we store the next and the next to the next pixels in each row and column \n",
        "        //and the previous and the previous to the previous pixels in each row and column in its corresponding positions\n",
        "        if (row!=0 && row != (NumRowsImg-1) && col!=0 && col!= (NumColsImg-1)){\n",
        "          sharedmem[threadIdx.x-2][threadIdx.y-2] = image[(row-2)*NumColsImg+(col-2)];\n",
        "          sharedmem[threadIdx.x-1][threadIdx.y-1] = image[(row-1)*NumColsImg+(col-1)];\n",
        "          sharedmem[threadIdx.x+1][threadIdx.y+1] = image[(row+1)*NumColsImg+(col+1)];\n",
        "          sharedmem[threadIdx.x+2][threadIdx.y+2] = image[(row+2)*NumColsImg+(col+2)];\n",
        "        }\n",
        "\n",
        "        //then we synchronize the threads so there is no interference\n",
        "\t      __syncthreads();   //Wait for all threads to be done.\n",
        "\n",
        "        //we declare the variable where the new value for the pixel will be stored\n",
        "        float sum = 0;\n",
        "        //now we multiply each of the positions stored with each of the corresponding positions in the filter\n",
        "        sum += sharedmem[threadIdx.x-2][threadIdx.y-2]*filter_mask[0];\n",
        "        sum += sharedmem[threadIdx.x-1][threadIdx.y-2]*filter_mask[1];\n",
        "        sum += sharedmem[threadIdx.x][threadIdx.y-2]*filter_mask[2];\n",
        "        sum += sharedmem[threadIdx.x+1][threadIdx.y-2]*filter_mask[3];\n",
        "        sum += sharedmem[threadIdx.x+2][threadIdx.y-2]*filter_mask[4];\n",
        "        sum += sharedmem[threadIdx.x-2][threadIdx.y-1]*filter_mask[5];\n",
        "        sum += sharedmem[threadIdx.x-1][threadIdx.y-1]*filter_mask[6];\n",
        "        sum += sharedmem[threadIdx.x][threadIdx.y-1]*filter_mask[7];\n",
        "        sum += sharedmem[threadIdx.x+1][threadIdx.y-1]*filter_mask[8];\n",
        "        sum += sharedmem[threadIdx.x+2][threadIdx.y-1]*filter_mask[9];\n",
        "        sum += sharedmem[threadIdx.x-2][threadIdx.y]*filter_mask[10];\n",
        "        sum += sharedmem[threadIdx.x-1][threadIdx.y]*filter_mask[11];\n",
        "        sum += sharedmem[threadIdx.x][threadIdx.y]*filter_mask[12];\n",
        "        sum += sharedmem[threadIdx.x+1][threadIdx.y]*filter_mask[13];\n",
        "        sum += sharedmem[threadIdx.x+2][threadIdx.y]*filter_mask[14];\n",
        "        sum += sharedmem[threadIdx.x-2][threadIdx.y+1]*filter_mask[15];\n",
        "        sum += sharedmem[threadIdx.x-1][threadIdx.y+1]*filter_mask[16];\n",
        "        sum += sharedmem[threadIdx.x][threadIdx.y+1]*filter_mask[17];\n",
        "        sum += sharedmem[threadIdx.x+1][threadIdx.y+1]*filter_mask[18];\n",
        "        sum += sharedmem[threadIdx.x+2][threadIdx.y+1]*filter_mask[19];\n",
        "        sum += sharedmem[threadIdx.x-2][threadIdx.y+2]*filter_mask[20];\n",
        "        sum += sharedmem[threadIdx.x-1][threadIdx.y+2]*filter_mask[21];\n",
        "        sum += sharedmem[threadIdx.x][threadIdx.y+2]*filter_mask[22];\n",
        "        sum += sharedmem[threadIdx.x+1][threadIdx.y+2]*filter_mask[23];\n",
        "        sum += sharedmem[threadIdx.x+2][threadIdx.y+2]*filter_mask[24];\n",
        "        //we divide it by 25 so we get the mean value\n",
        "        sum = sum/25;\n",
        "        \n",
        "        //we check that we are in a valid memory position\n",
        "        if (row < NumRowsImg && col < NumColsImg)\n",
        "          //we store the new value in its corresponding position in the filtered image\n",
        "          filtered_image[row*NumColsImg+col] = sum;\n",
        "      }\n",
        "    }\n",
        "  }\n",
        "\n",
        "}\n",
        "\"\"\""
      ],
      "execution_count": null,
      "outputs": []
    },
    {
      "cell_type": "markdown",
      "metadata": {
        "id": "vh3zxnNMjV54"
      },
      "source": [
        "Now we define the tile size and assume that it is the same one as the block size, so we can use them in the kernel function."
      ]
    },
    {
      "cell_type": "code",
      "metadata": {
        "id": "5hUhGPKbwEgE"
      },
      "source": [
        "TILE_SIZE = 32\n",
        "BLOCK_SIZE = TILE_SIZE"
      ],
      "execution_count": null,
      "outputs": []
    },
    {
      "cell_type": "code",
      "metadata": {
        "id": "kn5_1xxAv_2d"
      },
      "source": [
        "kernel_code = template_kernel_matrix_univ % { \n",
        "    'TILE_SIZE': TILE_SIZE,\n",
        "    'BLOCK_SIZE': BLOCK_SIZE\n",
        "}"
      ],
      "execution_count": null,
      "outputs": []
    },
    {
      "cell_type": "code",
      "metadata": {
        "id": "bkJ4BewSSNE4"
      },
      "source": [
        "mod = SourceModule(kernel_code)"
      ],
      "execution_count": null,
      "outputs": []
    },
    {
      "cell_type": "code",
      "metadata": {
        "id": "kmGU726RWZnz"
      },
      "source": [
        "image_filter = mod.get_function('image_filter')"
      ],
      "execution_count": null,
      "outputs": []
    },
    {
      "cell_type": "markdown",
      "metadata": {
        "id": "N6NmxsN7X-02"
      },
      "source": [
        "Recover the image shape, and select the two first items (rows and columns)."
      ]
    },
    {
      "cell_type": "code",
      "metadata": {
        "id": "-9aWxHFFHxzT"
      },
      "source": [
        "image_shape=image.shape[0:2]"
      ],
      "execution_count": null,
      "outputs": []
    },
    {
      "cell_type": "markdown",
      "metadata": {
        "id": "Txj67lrFYESV"
      },
      "source": [
        "Set block size and grid size."
      ]
    },
    {
      "cell_type": "code",
      "metadata": {
        "id": "sayAB5iQISs8"
      },
      "source": [
        "block_s=16\n",
        "block_size=(block_s,block_s,1)\n",
        "grid_size=(int(np.ceil(image_shape[1]/block_s)),int(np.ceil(image_shape[0]/block_s)))"
      ],
      "execution_count": null,
      "outputs": []
    },
    {
      "cell_type": "markdown",
      "metadata": {
        "id": "4whAEkzPhvOC"
      },
      "source": [
        "Allocates the target image memory."
      ]
    },
    {
      "cell_type": "code",
      "metadata": {
        "id": "WnHTEzQXIw66"
      },
      "source": [
        "result_image=np.zeros(image.shape,dtype=np.uint8)"
      ],
      "execution_count": null,
      "outputs": []
    },
    {
      "cell_type": "code",
      "metadata": {
        "id": "K8PcD3JeI-5K"
      },
      "source": [
        "depth = image.shape[2]"
      ],
      "execution_count": null,
      "outputs": []
    },
    {
      "cell_type": "markdown",
      "metadata": {
        "id": "fV8ZVagpiI97"
      },
      "source": [
        "Here we defines our sample filter masks."
      ]
    },
    {
      "cell_type": "code",
      "metadata": {
        "id": "eWzJi8niPpuQ"
      },
      "source": [
        "filter1=np.array([\n",
        "    [0,0,0,0,0],\n",
        "    [0,0,0,0,0],\n",
        "    [0,0,1,0,0],\n",
        "    [0,0,0,0,0],\n",
        "    [0,0,0,0,0]\n",
        "])\n",
        "filter2=np.array([[0.5, 0 , -0.5]])\n",
        "filter3=np.array([[0.5],[0],[-0.5]])\n",
        "\n",
        "filter4=np.array([\n",
        "    [1,0,-1],\n",
        "    [2,0,-2],\n",
        "    [1,0,-1]\n",
        "])\n",
        "filter5=np.array([\n",
        "    [0.00078633,0.00655965,0.01330373,0.00655965,0.00078633],\n",
        "    [0.00655965,0.05472157,0.11098164,0.05472157,0.00655965],\n",
        "    [0.01330373,0.11098164,0.22508352,0.11098164,0.01330373],\n",
        "    [0.00655965,0.05472157,0.11098164,0.05472157,0.00655965],\n",
        "    [0.00078633,0.00655965,0.01330373,0.00655965,0.00078633]\n",
        "])"
      ],
      "execution_count": null,
      "outputs": []
    },
    {
      "cell_type": "markdown",
      "metadata": {
        "id": "ZKu-1Eo7iSgz"
      },
      "source": [
        "We select the filter mask, and upload to the GPU device."
      ]
    },
    {
      "cell_type": "code",
      "metadata": {
        "id": "rxIm7BzdN8az"
      },
      "source": [
        "filter_mask=filter4.astype(np.float32)\n",
        "filter_mask_gpu=gpuarray.to_gpu(filter_mask)"
      ],
      "execution_count": null,
      "outputs": []
    },
    {
      "cell_type": "markdown",
      "metadata": {
        "id": "IZ8gPCW0ijld"
      },
      "source": [
        "##Prepares the execution environment "
      ]
    },
    {
      "cell_type": "markdown",
      "metadata": {
        "id": "cdGCCI0PixrT"
      },
      "source": [
        "Allocate the temporal filtered memory layer, where will be store the filtered image."
      ]
    },
    {
      "cell_type": "code",
      "metadata": {
        "id": "7qK0LgeDWU27"
      },
      "source": [
        "filtered_image_layer_gpu = gpuarray.zeros(image_shape,np.float32)"
      ],
      "execution_count": null,
      "outputs": []
    },
    {
      "cell_type": "markdown",
      "metadata": {
        "id": "-1oLCrqAYqED"
      },
      "source": [
        "Here defines the main block.\n",
        "Walk through the layers. Copying the selected layer to temporal image_layer, upload the layer to the GPU and invokes the image_filter kernel."
      ]
    },
    {
      "cell_type": "code",
      "metadata": {
        "id": "lvEsPtYFIUl3"
      },
      "source": [
        "start_t = time.time()\n",
        "for layer in range(depth):\n",
        "  image_layer = np.zeros(image_shape,dtype=np.float32) #Allocate the temporal image layer\n",
        "  image_layer=(image[:,:,layer]).astype(np.float32)    #Copy from the orignal image the selected layer into the temporal memory\n",
        "  image_layer_gpu=gpuarray.to_gpu(image_layer)         #Uploads the image layer to the GPU\n",
        "  filtered_image_layer_gpu.fill(0.0)                   #Fills with 0 the target memory in the GPU\n",
        "  image_filter(                                        #invokes the kernel\n",
        "          image_layer_gpu,\n",
        "          filter_mask_gpu,\n",
        "          filtered_image_layer_gpu,\n",
        "          np.int32(image_shape[0]),\n",
        "          np.int32(image_shape[1]),\n",
        "          np.int32(filter_mask.shape[0]),\n",
        "          np.int32(filter_mask.shape[1]),\n",
        "          block=block_size,\n",
        "          grid=grid_size\n",
        "        )\n",
        "  filtered_image_layer=filtered_image_layer_gpu.get() #Download from the GPU the filtered image\n",
        "  result_image[:,:,layer] = filtered_image_layer.astype(np.uint8) #Copy the filtered image to the final image store, \n",
        "                                                                  #casting the data type from double to uint8\n",
        "end_t = time.time()"
      ],
      "execution_count": null,
      "outputs": []
    },
    {
      "cell_type": "markdown",
      "metadata": {
        "id": "uKz2XKjBkvgR"
      },
      "source": [
        "#Show results\n"
      ]
    },
    {
      "cell_type": "code",
      "metadata": {
        "id": "en0HMjtnk8uS",
        "colab": {
          "base_uri": "https://localhost:8080/"
        },
        "outputId": "c4fccfca-a150-4990-e9fc-c409193ca46a"
      },
      "source": [
        "print(\"Execution time is: {0} seconds.\".format(end_t-start_t))"
      ],
      "execution_count": null,
      "outputs": [
        {
          "output_type": "stream",
          "name": "stdout",
          "text": [
            "Execution time is: 5.182554483413696 seconds.\n"
          ]
        }
      ]
    },
    {
      "cell_type": "code",
      "metadata": {
        "id": "QnoPI5BCS9_o",
        "colab": {
          "base_uri": "https://localhost:8080/",
          "height": 286
        },
        "outputId": "83950717-e5d0-4515-9d76-2c7cca69d3d0"
      },
      "source": [
        "plt.figure()\n",
        "plt.imshow(result_image)"
      ],
      "execution_count": null,
      "outputs": [
        {
          "output_type": "execute_result",
          "data": {
            "text/plain": [
              "<matplotlib.image.AxesImage at 0x7f407e10c190>"
            ]
          },
          "metadata": {},
          "execution_count": 25
        },
        {
          "output_type": "display_data",
          "data": {
            "image/png": "[encoded data removed]",
            "text/plain": [
              "<Figure size 432x288 with 1 Axes>"
            ]
          },
          "metadata": {
            "needs_background": "light"
          }
        }
      ]
    },
    {
      "cell_type": "markdown",
      "metadata": {
        "id": "KmBadN4mjkMe"
      },
      "source": [
        " "
      ]
    },
    {
      "cell_type": "code",
      "metadata": {
        "id": "xMyniQ2voAvW"
      },
      "source": [],
      "execution_count": null,
      "outputs": []
    }
  ]
}