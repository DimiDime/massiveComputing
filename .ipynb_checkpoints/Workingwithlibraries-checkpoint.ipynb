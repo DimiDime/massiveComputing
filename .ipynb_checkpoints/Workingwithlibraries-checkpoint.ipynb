{
 "cells": [
  {
   "cell_type": "markdown",
   "metadata": {
    "colab_type": "text",
    "id": "Wf8k-bBGaVMG"
   },
   "source": [
    "# Importing modules\n",
    "\n",
    "Python code can access to code from another Python module by importing the file/function using import. These modules can define functions, classes and/or variables.\n",
    "\n",
    "Most Python distributions already include the most popular modules with predefined libraries which make our programmer lives easier. Some well-known libraries are: math, time, sys, os, numpy, etc.\n",
    "    \n",
    "There are several ways to import a library:"
   ]
  },
  {
   "cell_type": "markdown",
   "metadata": {
    "colab_type": "text",
    "id": "PjS4gUK5accU"
   },
   "source": [
    "1. Import all the contents of the library: `import lib_name`.\n"
   ]
  },
  {
   "cell_type": "code",
   "execution_count": null,
   "metadata": {
    "colab": {},
    "colab_type": "code",
    "id": "tXE87p_fWBpz"
   },
   "outputs": [],
   "source": [
    "import math \n",
    "print(math.pi) "
   ]
  },
  {
   "cell_type": "code",
   "execution_count": null,
   "metadata": {
    "colab": {},
    "colab_type": "code",
    "id": "9QVGNT9yal7w"
   },
   "outputs": [],
   "source": [
    "import time\n",
    "print(time.time())  # returns the current processor time in seconds\n",
    "time.sleep(2) # suspends execution for the given number of seconds\n",
    "print(time.time()) # returns the current processor time in seconds again!!!"
   ]
  },
  {
   "cell_type": "markdown",
   "metadata": {
    "colab_type": "text",
    "id": "liLv_4Sgaizp"
   },
   "source": [
    "Note: When you want to use the functions, variables, ... of the imported modules, you have to call them as part of the library (`lib_name.method`)."
   ]
  },
  {
   "cell_type": "markdown",
   "metadata": {
    "colab_type": "text",
    "id": "ca5YnfhLarnq"
   },
   "source": [
    "2. Define a short name to use the library: ``import lib_name as lib``."
   ]
  },
  {
   "cell_type": "code",
   "execution_count": null,
   "metadata": {
    "colab": {},
    "colab_type": "code",
    "id": "WkKMeyz6ayHY"
   },
   "outputs": [],
   "source": [
    "import math as mt\n",
    "print(mt.pi) "
   ]
  },
  {
   "cell_type": "code",
   "execution_count": null,
   "metadata": {
    "colab": {},
    "colab_type": "code",
    "id": "iWiUdxPMazDy"
   },
   "outputs": [],
   "source": [
    "import time as t\n",
    "print(t.time())"
   ]
  },
  {
   "cell_type": "markdown",
   "metadata": {
    "colab_type": "text",
    "id": "Ees5KjXTa-aG"
   },
   "source": [
    "3. Import only some elements of the library using the `from` statement."
   ]
  },
  {
   "cell_type": "code",
   "execution_count": null,
   "metadata": {
    "colab": {},
    "colab_type": "code",
    "id": "ILcoL5vtbCzk"
   },
   "outputs": [],
   "source": [
    "from math import pi  \n",
    "print(pi) \n"
   ]
  },
  {
   "cell_type": "code",
   "execution_count": null,
   "metadata": {
    "colab": {},
    "colab_type": "code",
    "id": "bi0BrN1GbF8Z"
   },
   "outputs": [],
   "source": [
    "from time import time, sleep\n",
    "print(time())\n",
    "sleep(2)\n",
    "print(time())"
   ]
  },
  {
   "cell_type": "markdown",
   "metadata": {
    "colab_type": "text",
    "id": "tNLBkfldbKtU"
   },
   "source": [
    "Note: Note that in the above example, we used `math.pi` or `time.time`. Here we can directly use `pi` or `time`. Besides, using statement `from` only variable `pi` or funtion  `time` are imported, instead of importing the whole library."
   ]
  },
  {
   "cell_type": "markdown",
   "metadata": {
    "colab_type": "text",
    "id": "_2av13nsbR72"
   },
   "source": [
    "However, we can import all the functions, variables, ... using *: from lib_name import *"
   ]
  },
  {
   "cell_type": "code",
   "execution_count": null,
   "metadata": {
    "colab": {},
    "colab_type": "code",
    "id": "pWFsCnYobWoN"
   },
   "outputs": [],
   "source": [
    "from math import *\n",
    "print(pi) \n",
    "print(factorial(6)) "
   ]
  },
  {
   "cell_type": "code",
   "execution_count": null,
   "metadata": {
    "colab": {},
    "colab_type": "code",
    "id": "XPwCePv1bZcr"
   },
   "outputs": [],
   "source": [
    "from time import *\n",
    "print(time())\n",
    "sleep(2)\n",
    "print(time())"
   ]
  },
  {
   "cell_type": "markdown",
   "metadata": {
    "colab_type": "text",
    "id": "at0vvOGxbUId"
   },
   "source": [
    "# Input/output datafiles"
   ]
  },
  {
   "cell_type": "markdown",
   "metadata": {
    "colab_type": "text",
    "id": "oTX5BItwbfM8"
   },
   "source": [
    "Python also allows users to read and write files. To start handling a file, you need to open it with the `open()` function (if the file does not exist, the `open()` function will create it). "
   ]
  },
  {
   "cell_type": "code",
   "execution_count": null,
   "metadata": {
    "colab": {},
    "colab_type": "code",
    "id": "B4Om-u8Gca0g"
   },
   "outputs": [],
   "source": [
    "f = open('workfile', 'w')"
   ]
  },
  {
   "cell_type": "markdown",
   "metadata": {
    "colab_type": "text",
    "id": "kE3Woh7QcfgD"
   },
   "source": [
    "The first argument is a string containing the filename. The second argument defines the mode in which the file will be used:\n",
    "\n",
    "    'r' : only to be read,\n",
    "    'w' : for only writing (an existing file with the same name would be erased),\n",
    "    'a' : the file is opened for appending; any data written to the file is automatically appended to the end. \n",
    "    'r+': opens the file for both reading and writing. \n",
    "\n",
    "If the mode argument is not included, 'r' will be assumed."
   ]
  },
  {
   "cell_type": "markdown",
   "metadata": {
    "colab_type": "text",
    "id": "Won8Z5qscqeD"
   },
   "source": [
    "Use ``f.write(string)`` to write  the contents of a string to the file.  When you are done, do not forget to close the file:"
   ]
  },
  {
   "cell_type": "code",
   "execution_count": null,
   "metadata": {
    "colab": {},
    "colab_type": "code",
    "id": "u1ylNzFeczcX"
   },
   "outputs": [],
   "source": [
    "f.write('This is a test\\n with 2 lines')\n",
    "f.close()"
   ]
  },
  {
   "cell_type": "code",
   "execution_count": null,
   "metadata": {
    "colab": {},
    "colab_type": "code",
    "id": "NAVy2tGbc2qs"
   },
   "outputs": [],
   "source": [
    "f2 = open('workfile', 'r')\n",
    "text = f2.read()\n",
    "f2.close()\n",
    "print(text)"
   ]
  },
  {
   "cell_type": "markdown",
   "metadata": {
    "colab_type": "text",
    "id": "VCOmzl81c9d2"
   },
   "source": [
    "You can also read line by line from the file identifier"
   ]
  },
  {
   "cell_type": "code",
   "execution_count": null,
   "metadata": {
    "colab": {},
    "colab_type": "code",
    "id": "ijWXQQl3dCD0"
   },
   "outputs": [],
   "source": [
    "f2 = open('workfile', 'r')\n",
    "for line in f2:\n",
    "    print(line)\n",
    "\n",
    "f2.close()"
   ]
  },
  {
   "cell_type": "markdown",
   "metadata": {
    "colab_type": "text",
    "id": "BTq-WkG8dGNl"
   },
   "source": [
    "The open command will open the file in the read mode and the for loop will print each line of the file."
   ]
  },
  {
   "cell_type": "markdown",
   "metadata": {
    "colab_type": "text",
    "id": "SAADp2QZe4TZ"
   },
   "source": [
    "## Some useful libraries to read/save data\n",
    "Pickle\n",
    "\n",
    "Python pickles are the set of tools to convert any Python object, varaible, ... as a chain of bytes (i.e., serialize any object into a byte stream). Once the object has een serialized, you can do many things with these bytes, such as storing them in a file or database. Later, you can \"unpick\" the byte string to recover the original Python object.\n",
    "\n",
    "To use pickles in Python, we will use the Pickle module. This allows us to store almost any Python object, variable,... directly in a file or string without any additional operation. "
   ]
  },
  {
   "cell_type": "markdown",
   "metadata": {
    "colab_type": "text",
    "id": "L0uUfyj6e8nI"
   },
   "source": [
    "Let's start by creating a pickle file from a Python list:"
   ]
  },
  {
   "cell_type": "code",
   "execution_count": null,
   "metadata": {
    "colab": {},
    "colab_type": "code",
    "id": "kxkLr7aSfBsk"
   },
   "outputs": [],
   "source": [
    "mylist = ['apple', 'peach', 'orange', 'cherry']"
   ]
  },
  {
   "cell_type": "markdown",
   "metadata": {
    "colab_type": "text",
    "id": "iYlfSh3yfE0K"
   },
   "source": [
    "In order to serialize `mylist` or to pickle it, we can use the function `.dumps` of pickle:"
   ]
  },
  {
   "cell_type": "code",
   "execution_count": null,
   "metadata": {
    "colab": {},
    "colab_type": "code",
    "id": "I4RXJoGNfFWL"
   },
   "outputs": [],
   "source": [
    "import pickle\n",
    " \n",
    "mylistserialized = pickle.dumps(mylist)\n",
    "print(mylistserialized)"
   ]
  },
  {
   "cell_type": "markdown",
   "metadata": {
    "colab_type": "text",
    "id": "5BSxcWdTpUyc"
   },
   "source": [
    "Serialize data is necesary if you need to handle your data like a stream of data. The most common use is save your information in disk, or transmit them across the network.\n",
    "The data serialization encodes the data structure, variable names, variable values, and variable types, to be able to reconstruct in the other side of communication."
   ]
  },
  {
   "cell_type": "markdown",
   "metadata": {
    "colab_type": "text",
    "id": "ihzuTmfCfK7_"
   },
   "source": [
    "Now, we can recover the original list from the serialized object using using the funcion .loads"
   ]
  },
  {
   "cell_type": "code",
   "execution_count": null,
   "metadata": {
    "colab": {},
    "colab_type": "code",
    "id": "IMdcoH0BfSJx"
   },
   "outputs": [],
   "source": [
    "mylistrecovered = pickle.loads(mylistserialized)\n",
    "print(mylistrecovered)"
   ]
  },
  {
   "cell_type": "markdown",
   "metadata": {
    "colab_type": "text",
    "id": "Hlrq9jtifboY"
   },
   "source": [
    "In case we want to directly save this object into a file to recover its value later, we can use the methods `.dump` and `.load` of pickle (without the ending 's')"
   ]
  },
  {
   "cell_type": "code",
   "execution_count": null,
   "metadata": {
    "colab": {},
    "colab_type": "code",
    "id": "Z5nLIyKOfWIT"
   },
   "outputs": [],
   "source": [
    "pickled_file = open('pickled_file.pickle', 'wb')\n",
    "pickle.dump(mylist, pickled_file)\n",
    "pickled_file.close()"
   ]
  },
  {
   "cell_type": "code",
   "execution_count": null,
   "metadata": {
    "colab": {},
    "colab_type": "code",
    "id": "qixJWdLFfiSM"
   },
   "outputs": [],
   "source": [
    "pickled_file = open('pickled_file.pickle', 'rb')\n",
    "mylistrecovered = pickle.load(pickled_file)\n",
    "pickled_file.close()\n",
    "print(mylistrecovered )"
   ]
  },
  {
   "cell_type": "markdown",
   "metadata": {
    "colab_type": "text",
    "id": "WbUvxj1ufj0F"
   },
   "source": [
    "Note that for opening the file for writing/reading, we have used the `.open()` function with the 'wb' mode. The 'b' refers to binary mode and this means that the data will be written in the form of byte objects."
   ]
  },
  {
   "cell_type": "markdown",
   "metadata": {
    "colab_type": "text",
    "id": "5pDNvW3Gfnou"
   },
   "source": [
    "We can save/recover several variables in/from the same file:"
   ]
  },
  {
   "cell_type": "code",
   "execution_count": null,
   "metadata": {
    "colab": {},
    "colab_type": "code",
    "id": "rMbted7Tiz8W"
   },
   "outputs": [],
   "source": [
    "mylist = ['apple', 'peach', 'orange', 'cherry']\n",
    "mydict = {\n",
    "  \"name\": \"Ana\",\n",
    "  \"surname\": \"García\",\n",
    "  \"age\": 25\n",
    "}\n",
    "\n",
    "pickled_file = open('pickled_file2.pickle', 'wb')\n",
    "pickle.dump(mylist, pickled_file)\n",
    "pickle.dump(mydict, pickled_file)\n",
    "pickled_file.close()\n",
    "\n",
    "\n",
    "pickled_file = open('pickled_file2.pickle', 'rb')\n",
    "datarecovered1 = pickle.load(pickled_file)\n",
    "datarecovered2 = pickle.load(pickled_file)\n",
    "pickled_file.close()\n",
    "print(datarecovered1)\n",
    "print(datarecovered2)"
   ]
  },
  {
   "cell_type": "markdown",
   "metadata": {
    "colab_type": "text",
    "id": "HV0Be-Zgi6Wk"
   },
   "source": [
    "My advice, create a dictionary with all the data to be stored and save it as a single variable."
   ]
  },
  {
   "cell_type": "markdown",
   "metadata": {
    "colab_type": "text",
    "id": "1kUUSZuZi7T5"
   },
   "source": [
    "### Matlab files\n",
    "\n",
    "Python also allows us save/load data from '*.mat' files. Its use is quite similar to Pickle files, but we have to import the `loadmat` and `savemat` functions from the scipy.io module. "
   ]
  },
  {
   "cell_type": "code",
   "execution_count": null,
   "metadata": {
    "colab": {},
    "colab_type": "code",
    "id": "U9ZY6lX_i_sm"
   },
   "outputs": [],
   "source": [
    "from scipy.io import savemat, loadmat\n",
    "\n",
    "mydict = {\n",
    "  \"experiment\": 1,\n",
    "  \"description\": \"Testing algorithm XX v1.0\",\n",
    "  \"data\": [0, 1, 2, 3]\n",
    "}\n",
    "\n",
    "savemat(join(MYDRIVE,\"/matlab_data.mat\"), mydict)"
   ]
  },
  {
   "cell_type": "code",
   "execution_count": null,
   "metadata": {
    "colab": {},
    "colab_type": "code",
    "id": "6-woufDljEhX"
   },
   "outputs": [],
   "source": [
    "x = loadmat(join(MYDRIVE,\"/matlab_data.mat\"))\n",
    "print(x)"
   ]
  },
  {
   "cell_type": "code",
   "execution_count": null,
   "metadata": {
    "colab": {},
    "colab_type": "code",
    "id": "bL_j8NKrjHLK"
   },
   "outputs": [],
   "source": [
    "data= x[\"data\"]\n",
    "\n",
    "print(data)"
   ]
  },
  {
   "cell_type": "markdown",
   "metadata": {
    "colab_type": "text",
    "id": "JcNEfUHsklr4"
   },
   "source": [
    "Save your matlab_data.m in your Google Drive, download to your computer and open it with Matlab. Check if it seems ok.\n",
    "\n",
    "Take care: The reverse path MATLAB->Python, sometime does not work, due the format of the Matlab File. Check you are saving the files in format 5.0 compatible, to be able to import in python using loadmat function."
   ]
  },
  {
   "cell_type": "markdown",
   "metadata": {
    "colab_type": "text",
    "id": "NTl2x7-7u44t"
   },
   "source": [
    "# WORKING WITH YOUR OWN LIBRARIES (or Modules)\n",
    "The user can create new libraries to share common functions, designed by himself, across different programs. If you are a good programmer, can share your libraries with other users (always respecting the intellectual property).\n",
    "\n",
    "Note: In order to work with libraries, save all your files in your Google \"My Drive\" service.\n"
   ]
  },
  {
   "cell_type": "markdown",
   "metadata": {
    "colab_type": "text",
    "id": "yAGk2ba50PcZ"
   },
   "source": [
    "\n",
    "# Getting Started\n",
    "\n",
    "You can create the most basic libraries just creating a simple text file with .py extension.\n",
    "\n",
    "*Tip: You can create a new python notebook in google collaboratory, save in your \"My Drive\" space, and after, download as \".py\" file, saving them in the same space.*\n",
    "\n",
    "Inner, you write your own defined functions.\n",
    "For example, we can create a file called firstlib.py with the function hello_library:\n",
    "\n",
    "\n",
    "```\n",
    "#!/bin/python3\n",
    "\n",
    "def hello_library(name):\n",
    "  printf(\"hello {0}\".format(name))\n",
    "\n",
    "```\n",
    "\n",
    "Once, you can import your new library, like a system library.\n",
    "```\n",
    "import firstlib\n",
    "firstlib.hello_library(\"My Name\")\n",
    "```\n",
    "\n"
   ]
  },
  {
   "cell_type": "code",
   "execution_count": null,
   "metadata": {
    "colab": {},
    "colab_type": "code",
    "id": "qbvygjBx5nD4"
   },
   "outputs": [],
   "source": [
    "import firstlib\n",
    "firstlib.hello_library(\"My Name\")"
   ]
  },
  {
   "cell_type": "markdown",
   "metadata": {
    "colab_type": "text",
    "id": "59SbjzUX7KHv"
   },
   "source": [
    "The previous code will work in a local environment, but not in Google Colaboratory.  \n",
    "\n",
    "To work with modules stored in your google drive, yo need to mount the Google Drive in your Colaboratory Environment (commented previously), authorizing the acces to your information. Now, you have to load the module in an specific way:\n",
    "\n"
   ]
  },
  {
   "cell_type": "code",
   "execution_count": null,
   "metadata": {
    "colab": {},
    "colab_type": "code",
    "id": "6x7SRRr97yVh"
   },
   "outputs": [],
   "source": [
    "from importlib.machinery import SourceFileLoader\n",
    "MYCOLABORATORY=join(MYDRIVE,\"Colab Notebooks\")\n",
    "firstlib = SourceFileLoader('firstlib',join(MYCOLABORATORY,'firstlib.py')).load_module()"
   ]
  },
  {
   "cell_type": "markdown",
   "metadata": {
    "colab_type": "text",
    "id": "6LT_d1BhEPJ7"
   },
   "source": [
    "Now, we can work like in a local environment, importing modules, functions, etc...\n",
    "\n",
    "**Note**: Every time you change your code in the module file, you have to reload it, using the previous code. It is not necesary rewrite the code, just re-execute the cell.\n",
    "\n",
    "After importing our own library, we can invoke their functions:"
   ]
  },
  {
   "cell_type": "code",
   "execution_count": null,
   "metadata": {
    "colab": {},
    "colab_type": "code",
    "id": "W0o_M16gCVQ6"
   },
   "outputs": [],
   "source": [
    "firstlib.hello_library(\"My Name\")"
   ]
  },
  {
   "cell_type": "markdown",
   "metadata": {
    "colab_type": "text",
    "id": "bMhAhk13Drl1"
   },
   "source": [
    "You can import just specific functions from your libraries, like:"
   ]
  },
  {
   "cell_type": "code",
   "execution_count": null,
   "metadata": {
    "colab": {},
    "colab_type": "code",
    "id": "ArM-ZXOuCZQ2"
   },
   "outputs": [],
   "source": [
    "from firstlib import hello_library\n",
    "hello_library(\"My second name\")"
   ]
  },
  {
   "cell_type": "markdown",
   "metadata": {
    "colab_type": "text",
    "id": "Ad4m9QgzSyij"
   },
   "source": [
    "Other way to create modules, is creating directly from notebooks like the next code:"
   ]
  },
  {
   "cell_type": "code",
   "execution_count": null,
   "metadata": {
    "colab": {},
    "colab_type": "code",
    "id": "qC-OAm8JXZ8M"
   },
   "outputs": [],
   "source": [
    "%%writefile firstlib.py\n",
    "\n",
    "def hello_library(name):\n",
    "  printf(\"hello {0}\".format(name))\n",
    "\n",
    "\n",
    "if __name__ == \"__main__\":\n",
    "  print(\"Running the module as a script!\")"
   ]
  },
  {
   "cell_type": "markdown",
   "metadata": {
    "colab_type": "text",
    "id": "OmAtQjIaS9V3"
   },
   "source": [
    "In this case, the environment will save the file directly in the Colaboratory environment, but in case of more complex modules, it is not an easy way to edit."
   ]
  },
  {
   "cell_type": "markdown",
   "metadata": {
    "colab_type": "text",
    "id": "wsiCkkUyTPNu"
   },
   "source": [
    "# PRACTICAL WORK\n",
    "Write a module, called first_module, which implements the follow functions:\n",
    "\n",
    "\n",
    "```\n",
    "def join_name(first_name,surname) \n",
    "#Take the first name in the first parameter and the surname, both as strings, and return the name joined. Example: join_name(\"Harold\",\"Molina\") should returns \"Harold Molina\"\n",
    "\n",
    "def split_name(full_name)\n",
    "#Take a full name, and split in vector, all the names separated by white space or commas\n",
    "\n",
    "def invert_name(full_name)\n",
    "#Take a full name, split them, and returns an string with the surname first, a comma, and the first name. Example: invert_name(\"Harold Molina\") should returns \"Molina, Harold\"\n",
    "```\n",
    "\n",
    "In order to use strings functions, you can consult: https://www.w3schools.com/python/ref_string_split.asp\n",
    "\n"
   ]
  },
  {
   "cell_type": "markdown",
   "metadata": {
    "colab_type": "text",
    "id": "Jtmm_y1CYyYW"
   },
   "source": [
    "After write the code, you have to load your module with the name \"first_module\""
   ]
  },
  {
   "cell_type": "code",
   "execution_count": null,
   "metadata": {
    "colab": {},
    "colab_type": "code",
    "id": "znnVDyUzDppA"
   },
   "outputs": [],
   "source": [
    "#Use this cell to write your code to load your new module\n",
    "#<FILL IN>"
   ]
  },
  {
   "cell_type": "code",
   "execution_count": null,
   "metadata": {
    "colab": {},
    "colab_type": "code",
    "id": "vilAvbZcZHnh"
   },
   "outputs": [],
   "source": [
    "#Now, we test:\n",
    "import first_module\n",
    "\n",
    "full_name=first_module.join_name(\"Curro\",\"Jimenez\")\n",
    "print(first_module)\n",
    "assert full_name == \"Curro Jimenez\""
   ]
  },
  {
   "cell_type": "code",
   "execution_count": null,
   "metadata": {
    "colab": {},
    "colab_type": "code",
    "id": "hKBIjlm7Zoe3"
   },
   "outputs": [],
   "source": [
    "split_name=first_module.split_name(\"Scarlett Johanson\")\n",
    "print(\"First name: {0}\\nLast Name: {1}\\n\".format(split_name[0],split_name[1])\n",
    "assert split_name[0] == \"Scarlett\"\n",
    "assert split_name[1] == \"Johanson\""
   ]
  },
  {
   "cell_type": "markdown",
   "metadata": {
    "colab_type": "text",
    "id": "jpAY5Ihzarcg"
   },
   "source": [
    "#CREATING YOUR OWN PACKAGES\n",
    "You can group your set of modules, in a single structure called \"Packages\" to distribute all your code, to be reused by third parties or just have a clear code. The advantage to use package is write a clear, well structured code, which will be easy to reuse in other projects.\n",
    "\n",
    "To create a package is as easy as create a directory where you save your module files.\n",
    "\n",
    "For example, if we wish to create a package called \"sound\", the could be: (example from: https://docs.python.org/3/tutorial/modules.html)\n",
    "\n",
    "```\n",
    "sound/                          Top-level package\n",
    "      __init__.py               Initialize the sound package\n",
    "      formats/                  Subpackage for file format conversions\n",
    "              __init__.py\n",
    "              wavread.py\n",
    "              wavwrite.py\n",
    "              aiffread.py\n",
    "              aiffwrite.py\n",
    "              auread.py\n",
    "              auwrite.py\n",
    "              ...\n",
    "      effects/                  Subpackage for sound effects\n",
    "              __init__.py\n",
    "              echo.py\n",
    "              surround.py\n",
    "              reverse.py\n",
    "              ...\n",
    "      filters/                  Subpackage for filters\n",
    "              __init__.py\n",
    "              equalizer.py\n",
    "              vocoder.py\n",
    "              karaoke.py\n",
    "              ...\n",
    "```\n",
    "\n",
    "\n"
   ]
  },
  {
   "cell_type": "markdown",
   "metadata": {
    "colab_type": "text",
    "id": "UvZkqd_9LDwo"
   },
   "source": [
    "The __\\_\\_init\\_\\_.py__ file is required in each directory, to make Python treat directories as a packages.\n",
    "\n",
    "There are more advanced options with the __\\_\\_init\\_\\_.py__. You can find it in the previous URL.\n"
   ]
  },
  {
   "cell_type": "markdown",
   "metadata": {
    "colab_type": "text",
    "id": "lKwPLkPkXMmW"
   },
   "source": [
    "To import the package you have to write the statment import *packagename.modulename*:\n",
    "\n",
    "\n",
    "```\n",
    "import sounds.formats\n",
    "import sounds.effects as effects\n",
    "from sounds.filters import equalizer\n",
    "```\n",
    "\n"
   ]
  },
  {
   "cell_type": "markdown",
   "metadata": {
    "colab_type": "text",
    "id": "BoP3tUYzMp7k"
   },
   "source": [
    "# Practical Work\n",
    "You can create a package in the workdir using \n",
    "!metacommands like:\n",
    "\n",
    "```\n",
    "!mkdir firstpackage (to create the directory for the package)\n",
    "!ls (to list the files in the current directory)\n",
    "!ls firstpackage (to list the files in the package directory)\n",
    "```\n",
    "\n",
    "\n",
    "And \n",
    "```\n",
    "%%writefile firstpackage/__init__.py\n",
    "```\n",
    "To create the basic \\_\\_init\\_\\_.py__ file.\n",
    "\n",
    "**Your work is** create a package *secondpackage*, with his own \\_\\_init\\_\\_.py file, and two modules:\n",
    "  and the second, \n",
    "\n",
    "*   module called recursive with a function __fibonacci__ implemented in a recursive mode\n",
    "*   module called sequential with a function __fibonacci__ implemented in a sequential mode\n",
    "\n"
   ]
  },
  {
   "cell_type": "markdown",
   "metadata": {
    "colab_type": "text",
    "id": "qpEwaENqZHxA"
   },
   "source": [
    "The follow example code implements a package called firstpackage with a basic firstlib module"
   ]
  },
  {
   "cell_type": "code",
   "execution_count": null,
   "metadata": {
    "colab": {},
    "colab_type": "code",
    "id": "HhMXDJ6aapsk"
   },
   "outputs": [],
   "source": [
    "!mkdir firstpackage"
   ]
  },
  {
   "cell_type": "code",
   "execution_count": null,
   "metadata": {
    "colab": {},
    "colab_type": "code",
    "id": "3mTnxV2laEnx"
   },
   "outputs": [],
   "source": [
    "!ls"
   ]
  },
  {
   "cell_type": "code",
   "execution_count": null,
   "metadata": {
    "colab": {},
    "colab_type": "code",
    "id": "NpK0k1dAOz2t"
   },
   "outputs": [],
   "source": [
    "%%writefile firstpackage/firstlib.py\n",
    "\n",
    "def hello_library(name):\n",
    "  print(\"hello {0}\".format(name))\n",
    "\n",
    "\n",
    "if __name__ == \"__main__\":\n",
    "  print(\"Running the module as a script!\")"
   ]
  },
  {
   "cell_type": "code",
   "execution_count": null,
   "metadata": {
    "colab": {},
    "colab_type": "code",
    "id": "fptrh4_6O5sD"
   },
   "outputs": [],
   "source": [
    "%%writefile firstpackage/__init__.py\n",
    "\n",
    "__all__=[]"
   ]
  },
  {
   "cell_type": "code",
   "execution_count": null,
   "metadata": {
    "colab": {},
    "colab_type": "code",
    "id": "scyJt1RhPASU"
   },
   "outputs": [],
   "source": [
    "from firstpackage import firstlib as fl"
   ]
  },
  {
   "cell_type": "code",
   "execution_count": null,
   "metadata": {
    "colab": {},
    "colab_type": "code",
    "id": "gfhWXTpNPFiU"
   },
   "outputs": [],
   "source": [
    "fl.hello_library(\"My name\")"
   ]
  },
  {
   "cell_type": "markdown",
   "metadata": {
    "colab_type": "text",
    "id": "kbEhNBKhqstg"
   },
   "source": [
    "## Object Oriented Programming\n",
    "The common programming languages, like C, or Python (until now), works with the **Imperative Programming Paradigm**. This means: you have your data, and with the programing instructions ORDER the modification of the data. Does not take care if the data could accept that modfication, or means someting useful.\n",
    "\n",
    "For example, you can have an integer variable to code the age of one person. You can order to the integer to take the value of 200, a valid integer value, but it does not have sense for age values (unless you are Methuselah).\n",
    "\n",
    "Other problem, is the secure of the data: When you works in a big projects, the variables can be modified by orders in zones of code that they are not allowed.\n",
    "\n",
    "Or variables can be observed by functions they are not allowed.\n",
    "\n",
    "In order to avoid this, was proposed the Object Oriented Progrmming:\n",
    "\n",
    "The information is an object. The values of this information are stored in properties of the objects. An that properties only can be modified by specific methods associated to the objects.\n",
    "\n",
    "The description fb the objects, with his properties and associated methods is called __*CLASSES*__. The instance of one class, with specific values, is called __*OBJECT*__.\n",
    "\n",
    "We can innstantiate as many objects of an specific class we need.\n",
    "One analogy:\n",
    "There is the class __*HUMAN*__. The class __*HUMAN*__ can have several properties like *First Name*, *Surname*, *age*, *gender*, *father*, *mother*, *birth date*, *death date*, etc...\n",
    "\n",
    "An instance of a class __*HUMAN*__, could be *CHARLES*, Name: *Charles*, Surname: *Windsor*, age: *>70*, gender: *male*, mother: *Elizabeth*, father: *Phillip*.\n",
    "\n",
    "And so on, for each one of the humans.\n",
    "\n",
    "For class __*HUMAN*__ you can define several methods which modify or consults the properties. For example, The __*HUMAN*__, can be assigned a Name, change his name, change his civil status, etc. Those changes should only be done by the authorized methods, to avoid any kind of conflict.\n",
    "\n",
    "Now, we will write the class __*HUMAN*__ and start to write his properties and methods.\n",
    "\n",
    "About *datetime* package: https://docs.python.org/3/library/datetime.html\n"
   ]
  },
  {
   "cell_type": "code",
   "execution_count": null,
   "metadata": {
    "colab": {},
    "colab_type": "code",
    "id": "qVU69sY7kVNa"
   },
   "outputs": [],
   "source": [
    "from datetime import datetime\n",
    "\n",
    "class HUMAN:\n",
    "  #Here, we will write the first properties:ç\n",
    "  #None value means it is not defined\n",
    "  birth_date=None\n",
    "  FirstName=None\n",
    "  Surname=None\n",
    "  Father=None\n",
    "  Mother=None\n",
    "  Motherland=None\n",
    "  Offsprings=[]\n",
    "\n",
    "  #The first method is called the constructor, it is called when we calls the creation of the object\n",
    "\n",
    "  def __init__ (this,year,month,day,hour,minute):\n",
    "    #Always, in objects, the first parameter must be *this*, and will be used to refer this object\n",
    "    this.birth_date=datetime(year,month,day,hour,minute,0)\n",
    "\n",
    "  def civil_inscription(this,name,surname,father,mother):\n",
    "    this.FirstName=name\n",
    "    this.Surname=surname #Observe: here is useful the this \n",
    "    this.Father=father\n",
    "    this.Mother=mother\n",
    "\n",
    "  def set_nationality(this,nationality):\n",
    "    this.nationality=set_nationality\n",
    "\n",
    "  def get_fullname(this):\n",
    "    return \"{0} {1}\".format(this.FirstName,this.Surname)\n",
    "\n",
    "  def get_age(this):\n",
    "    now = datetime.today()\n",
    "    age=now-this.birth_date\n",
    "    return age.days\n",
    "\n",
    "\n"
   ]
  },
  {
   "cell_type": "code",
   "execution_count": null,
   "metadata": {
    "colab": {},
    "colab_type": "code",
    "id": "swZgN7rI4345"
   },
   "outputs": [],
   "source": [
    "Charles=HUMAN(1948,11,14,0,0)\n",
    "print(\"Charles's age: {0} days\".format(Charles.get_age()))\n",
    "print(\"Charles's full name: {0}\".format(Charles.get_fullname()))\n",
    "Charles.civil_inscription(\"Charles\",\"Windsor\",\"Phillip\",\"Elizabeth\")\n",
    "print(\"Charles's full name: {0}\".format(Charles.get_fullname()))"
   ]
  },
  {
   "cell_type": "markdown",
   "metadata": {
    "colab_type": "text",
    "id": "MFJJsfLM3z3m"
   },
   "source": [
    "Now:\n",
    "Extends the class __*HUMANS*__ to add the follow properties:\n",
    "\n",
    "\n",
    "1.   Civil status\n",
    "2.   Number of offsprings\n",
    "3.   Add a list of offsprings\n",
    "4.   Write the method to add new son or daughter tho the list Offsprings, method to change the civil status, the name of the mother and the father\n",
    "5.   Write the method to change the nationality, and get the nationality.\n",
    "\n",
    "You have to add the new code in the box where the class is defined\n",
    "\n",
    "\n",
    "\n"
   ]
  },
  {
   "cell_type": "markdown",
   "metadata": {
    "colab_type": "text",
    "id": "cj1r3fD25B37"
   },
   "source": [
    "The advantage to use objects is you have to write the code well defined, and define how can you modify or consult those properties."
   ]
  },
  {
   "cell_type": "markdown",
   "metadata": {
    "colab_type": "text",
    "id": "ZHrHaZdP5UEp"
   },
   "source": [
    "### INHERITANCE\n",
    "\n",
    "One of the more interesant feature with objects is the __inheritance__. This allows create new classes which inherits from father classes their properties and methods an extends them with new ones:\n",
    "https://www.w3schools.com/python/python_inheritance.asp"
   ]
  },
  {
   "cell_type": "code",
   "execution_count": null,
   "metadata": {
    "colab": {},
    "colab_type": "code",
    "id": "EU-bfjlS1E9T"
   },
   "outputs": [],
   "source": [
    "class PROFESSIONAL(HUMAN):\n",
    "\n",
    "  studies=None\n",
    "\n",
    "  def __init__(this,year,month,day,hour,minute,studies):\n",
    "    HUMAN.__init__(this,year,month,day,hour,minute)\n",
    "    this.studies = studies\n",
    "\n",
    "  def get_studies(this):\n",
    "    return this.studies\n"
   ]
  },
  {
   "cell_type": "code",
   "execution_count": null,
   "metadata": {
    "colab": {},
    "colab_type": "code",
    "id": "IfPoZUtB6fpy"
   },
   "outputs": [],
   "source": [
    "Prince_Charles=PROFESSIONAL(1948,11,14,0,0,\"prince\")\n",
    "Prince_Charles.civil_inscription(\"Charles\",\"Windsor\",\"Phillip\",\"Elizabeth\")\n",
    "print(\"Charles's full name: {0}\".format(Prince_Charles.get_fullname()))\n",
    "print(\"Charles's profession: {0}\".format(Prince_Charles.get_studies()))"
   ]
  },
  {
   "cell_type": "markdown",
   "metadata": {
    "colab_type": "text",
    "id": "gBjBFAvf7qtf"
   },
   "source": [
    "You can observe how you can reuse the writed code, extend them, adapt to your specific needs in the new objects, etc."
   ]
  },
  {
   "cell_type": "markdown",
   "metadata": {
    "colab_type": "text",
    "id": "RqwE9c018AwE"
   },
   "source": [
    "##PRACTICAL WORK:\n",
    "Extend the HUMAN or PROFESSIONAL classes to define the follow classes:\n",
    "\n",
    "\n",
    "1.   TEACHER class: where they have the list of different courses teaching, and different grades\n",
    "2.   STUDENT class: where they have the different courses studies, the grade which is associated, and the start studies date.\n",
    "3.   COURSE: Object with a Teacher property and a list of STUDENT objects.\n",
    "\n",
    "\n",
    "Create two TEACHER objects, four STUDENT objects and two COURSE objects, with a different TEACHER, and 3 associated STUDENTS.\n",
    "\n",
    "\n",
    "\n",
    "\n"
   ]
  },
  {
   "cell_type": "code",
   "execution_count": null,
   "metadata": {
    "colab": {},
    "colab_type": "code",
    "id": "JXJCjY4-7KGZ"
   },
   "outputs": [],
   "source": []
  },
  {
   "cell_type": "markdown",
   "metadata": {
    "colab_type": "text",
    "id": "RPKajRl19fDk"
   },
   "source": [
    "There are more powerfull utilities to work with objects, but there are the principal ones. Several packages, like datetime, math, numpy (in the next session will be introduced), uses objects to define their data structures and handle."
   ]
  }
 ],
 "metadata": {
  "colab": {
   "authorship_tag": "ABX9TyNVmiP6kTRBF4JqyBjoQqDj",
   "collapsed_sections": [],
   "name": "Workingwithlibraries.ipynb",
   "provenance": []
  },
  "kernelspec": {
   "display_name": "Python 3 (ipykernel)",
   "language": "python",
   "name": "python3"
  },
  "language_info": {
   "codemirror_mode": {
    "name": "ipython",
    "version": 3
   },
   "file_extension": ".py",
   "mimetype": "text/x-python",
   "name": "python",
   "nbconvert_exporter": "python",
   "pygments_lexer": "ipython3",
   "version": "3.8.13"
  }
 },
 "nbformat": 4,
 "nbformat_minor": 4
}
